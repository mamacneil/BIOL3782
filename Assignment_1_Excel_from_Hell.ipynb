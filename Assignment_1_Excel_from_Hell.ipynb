{
 "cells": [
  {
   "cell_type": "markdown",
   "metadata": {},
   "source": [
    "# Assignment 1: Excel from Hell"
   ]
  },
  {
   "cell_type": "markdown",
   "metadata": {},
   "source": [
    "Because data storage and proper naming are **absolutely critical** to doing science and getting to the fun part (analysis!), this assignment takes you into the particuar circle of hell that is reserved for people dammed to using data collected by other biologists (including, in extreme cases, their past selves...).\n",
    "\n",
    "If you go into a scientific career **this assignment will save you** a lot of pain in the long run. For the next two weeks however...\n",
    "\n",
    "![Excel](purgatorio.jpg)\n",
    "\n"
   ]
  },
  {
   "cell_type": "markdown",
   "metadata": {},
   "source": [
    "# Lasciate ogne speranza, voi ch'intrate!\n",
    "\n",
    "---\n"
   ]
  },
  {
   "cell_type": "markdown",
   "metadata": {},
   "source": [
    "In this assignment, you will have to work your way through a set of data stored in your own personal Hell. Each student will have a slightly different dataset, with slightly different numbers and problems that make each unique. Therefore you will have to work through your own dataset individually - each soul suffers alone - and be solely responsible for the results.\n",
    "\n",
    "**DOWNLOAD YOUR DATASET HERE**: https://www.dropbox.com/sh/twygpemy8cmauqq/AADL6pModRzfYYND4hqBBJLJa?dl=0\n",
    "\n",
    "In your personal circle, you'll find two directories, corresponding to two survey locations where various aspects of coral reefs in the area have been surveyed. For each location, there are two study sites, within which replicate transects are surveyed.\n",
    "\n",
    "**The first part of your assigment is to tidy these data into a single .csv file**:\n",
    "\n",
    "1. Each variable forms a column.\n",
    "2. Each observation forms a row.\n",
    "\n",
    "The observational units here are the location, the site, and the transect. For this assignment (and ignoring rule #3) all data should be reconciled to the transect level (following rule #2). Each spreadsheet will contain important variables that should become the columns in your final .csv file (following rule #1). These are specfied under **'Columns to gather'** in the spreadsheet information below.\n",
    "\n",
    "**The second part of your assigment is to import your new dataset and plot (in this Jupyter notebook):**\n",
    "\n",
    "1. A stacked barchart of substrate proportions using `barplot()`\n",
    "2. A scatterplot of rugosity vs fish abundance\n",
    "3. A scatterplot of biomass vs fish abundance\n",
    "4. A scatterplot of Scaridae biomass vs Avg_herbivory\n",
    "\n",
    "**Follow instructions carefully as this assignment is worth 12.5% of your final grade.**"
   ]
  },
  {
   "cell_type": "markdown",
   "metadata": {},
   "source": [
    "## Spreadsheet information\n",
    "\n",
    "### Fish_xxx.xlsx\n",
    "\n",
    "This workbook contains a single sheet with reef fish family abundance data collected from two transects within each site and some other summary information. \n",
    "\n",
    "**Columns to gather**\n",
    "\n",
    "    (1) Location\n",
    "    (2) Site\n",
    "    (3) Transect\n",
    "    (4) Date\n",
    "    (5) Family group\n",
    "    (6) Size class\n",
    "    (7) Biomass\n",
    "    (8) Abundance\n",
    "\n",
    "*All columns at transect level\n",
    "\n",
    "### Herbivory_xxx.xlsx\n",
    "\n",
    "This workbook conatins a single sheet detailing how much individual algal fronds on replicate lines within each site are nibbled by herbivores, and some other summary information. Replicate fronts have a length and their net change in length, which provides an index of herbivory intensity.\n",
    "\n",
    "**Columns to gather**\n",
    "\n",
    "    (9) Avg_herbivory - the site-level average proportion length change per site (averaged over all replicates and lines in a site)\n",
    "\n",
    "\n",
    "### Predation_xxx.xlsx\n",
    "\n",
    "This workbook conatins a single sheet detailing if individual corals on replicate lines within each site are predated upon, and some other descriptive information.\n",
    "\n",
    "**Columns to gather**\n",
    "\n",
    "    (10) Avg_predation - the site-level average proportion of corals predated upon per site (averaged over all replicates and lines in a site)\n",
    "\n",
    "\n",
    "### Substrate_xxx.xlsx\n",
    "\n",
    "This workbook conatins a single sheet representing substrate information collected as counts (per grid cells) of various substrata. \n",
    "\n",
    "**Columns to gather**\n",
    "\n",
    "    (11) Hard_coral - percent of total \n",
    "    (12) Turf - percent of total\n",
    "    (13) Calcareous - percent of total\n",
    "    (14) Fleshy_algae - percent of total\n",
    "    (15) Coralline - percent of total\n",
    "    (16) Seagrass - percent of total\n",
    "    (17) Softcoral - percent of total\n",
    "    (18) Sand - percent of total\n",
    "    (19) Sponge - percent of total\n",
    "    (20) Rugosity\n",
    "\n",
    "*All columns at transect level\n",
    "\n",
    "### Urchin_xxx.xlsx\n",
    "\n",
    "This workbook contains a single worksheet that has counts of various urchin species in quadrats scattered within each site.\n",
    "\n",
    "**Columns to gather**\n",
    "\n",
    "    (21) Urchins - average number of urchins among quadrats per site"
   ]
  },
  {
   "cell_type": "markdown",
   "metadata": {},
   "source": [
    "**Remember - there are two locations!**"
   ]
  },
  {
   "cell_type": "markdown",
   "metadata": {},
   "source": [
    "# Insert cells and add your plots into the space below"
   ]
  },
  {
   "cell_type": "code",
   "execution_count": null,
   "metadata": {
    "collapsed": true
   },
   "outputs": [],
   "source": []
  },
  {
   "cell_type": "markdown",
   "metadata": {},
   "source": [
    "--- \n",
    "\n",
    "### Grading - 30 pts total\n",
    "\n",
    "Grades will be given 1 pt for each column that is correctly entered = 22 pts; +1 pt for naming the file correctly.\n",
    "You will also be given 2 pts for each of the plots you have been asked to make = 8 pts\n",
    "\n",
    "**Deductions** of 1 pt will be taken for each spelling mistake, including things like mixed capitals. So if you have `Acanthuridae` and `acanthuridae` in the same column you'll be docked -1 pt. This could easly lead to getting **zero** on the assignment so **BE CAREFUL AND CHECK YOUR WORK**.\n",
    "\n",
    "---"
   ]
  },
  {
   "cell_type": "markdown",
   "metadata": {},
   "source": [
    "Please submit this notebok as `Assignment_1_B00XXXXXX.ipynb` along with your completed flat file as `Hell_B00XXXXXX.csv` by email to [a.macneil@dal.ca and tor.kitching.dal.ca] by **midnight (i.e. 23:59:59) on October 13th, 2019.**"
   ]
  }
 ],
 "metadata": {
  "kernelspec": {
   "display_name": "R",
   "language": "R",
   "name": "ir"
  },
  "language_info": {
   "codemirror_mode": "r",
   "file_extension": ".r",
   "mimetype": "text/x-r-source",
   "name": "R",
   "pygments_lexer": "r",
   "version": "3.4.3"
  }
 },
 "nbformat": 4,
 "nbformat_minor": 2
}
