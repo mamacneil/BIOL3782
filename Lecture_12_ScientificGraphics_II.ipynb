{
 "cells": [
  {
   "cell_type": "markdown",
   "metadata": {
    "collapsed": true
   },
   "source": [
    "# Lecture 12 - Graphical polish\n",
    "\n",
    "While graphical basics and Tufte's rules get you most of the way there, there are a few additional techniques and definitions, both in and out of R, that you'll need to know to deliver top-level graphics for reports and publications. "
   ]
  },
  {
   "cell_type": "markdown",
   "metadata": {},
   "source": [
    "## `Par()` specifics*\n",
    "\n",
    "*Cribbed from Trevor Branch [here](https://canvas.uw.edu/courses/1220990/assignments/syllabus)\n",
    "\n",
    "The `par()` function controls nearly every aspect of how a figure looks and mastering it is therefore essential to producting excellent graphics. The function is divided into three classes of arguments:\n",
    "\n",
    "### 1. High‐level settings\n",
    "These can be queried by `par()` and passed within most other plotting fuctions (`plot()` etc).\n",
    "\n",
    " Argument | Operation | &nbsp; &nbsp; &nbsp; &nbsp; &nbsp; |Argument | Operation \n",
    " :------- | :-------- | | :-------- | :--------\n",
    "adj | Justification of text  | | font.sub | Font of subheading text\n",
    "ann | Draw plot labels and titles  | | **lab** | Label text on axes\n",
    "bg | Background color | | **las** | Rotation of text in margins\n",
    "bty | Type of box drawn by box()  | | lend | Line end style (round, square)\n",
    "**cex** | Size of text (multiplier)  | | ljoin | Line join style\n",
    "cex.axis | Size of axis text | | lmitre | Line width limit for mitre (pointy)\n",
    "cex.lab | Size of label text | | **lty** | Line type (solid, dashed)\n",
    "cex.main | Size of main caption text  | | **lwd** | Line width\n",
    "cex.sub | Size of subheading text  | | mgp | Placement of axis ticks and tick labels\n",
    "**col** | Color of lines and symbols  | | **pch** | Data symbol types\n",
    "col.axis | Color of axis text | | srt | Rotation of text in plot region\n",
    "col.lab | Color of label text  | | tck | Length of axis ticks (rel to plot size)\n",
    "col.main | Color of main caption text  | | tcl | Length of axis ticks (rel to text size)\n",
    "col.sub | Color of subheading text  | | xaxp | Number of ticks on x‐axis\n",
    "family | Font family for text | | **xaxs** | Calculation of scale range on x‐axis\n",
    "fg | Foreground color | | xaxt | x‐axis style (standard, none)\n",
    "font | Font face (bold, italic)  | | xpd | Clipping region (plot outside region)\n",
    "font.axis|  Font of axis text | | yaxp | Number of ticks on y‐axis\n",
    "font.lab | Font of label text  | | **yaxs** | Calculation of scale range on y‐axis\n",
    "font.main | Font of main caption text | | yaxt | y‐axis style (standard, none)\n",
    "\n",
    "\n",
    "\n",
    "### 2. **Low-level settings**\n",
    "These can only be queried by `par()`.\n",
    "\n",
    " Argument | Operation | &nbsp; &nbsp; &nbsp; &nbsp; &nbsp; |Argument | Operation \n",
    " :------- | :-------- | | :-------- | :--------\n",
    "fig |  Location of figure region (normalized)  | **oma**  | Size of outer margins (lines of text) \n",
    "fin |  Size of figure region (inches) | [omd](https://www.youtube.com/watch?v=EtYre1GABao) |  Location of inner region (normalized)\n",
    "lheight |  Line spacing (multiplier) | omi |  Size of outer margins (inches)\n",
    "mai |  Size of figure margins (inches) | pin |  Size of plot region (inches)\n",
    "**mar** |  Size of figure margins (lines of text)  | plt |  Location of plot region (normalized)\n",
    "mex |  Line spacing in margins | ps  | Size of text (points)\n",
    "mfcol  | Multiple figure layout, fill by columns  | **pty** |  Aspect ratio of plot region\n",
    "mfg |  Which figure is used next | usr |  Range of scales on axes\n",
    "**mfrow**  | Multiple figure layout, fill by rows  | xlog |  Logarithmic scale on x‐axis\n",
    "new  | Has a new plot been started? | ylog |  Logarithmic scale on y‐axis\n",
    "\n",
    "\n",
    "\n",
    "### 3. **Read-only settings** \n",
    "These can be seen by calling `par()` but not changed.\n",
    "\n",
    " Argument | Operation | &nbsp; &nbsp; &nbsp; &nbsp; &nbsp; |Argument | Operation \n",
    " :------- | :-------- | | :-------- | :--------\n",
    "cin |  Size of character (inches) | cra  | Size of character (pixels)\n",
    "cxy  | Size of character (user coordinates) | din |  Size of graphics device (inches)\n",
    "\n",
    " \n",
    "\n",
    "\n",
    "\n",
    "\n",
    "\n",
    "\n",
    "\n",
    " \n",
    "\n",
    "\n"
   ]
  },
  {
   "cell_type": "markdown",
   "metadata": {},
   "source": [
    "### Points and lines\n",
    "\n",
    "Points and lines are the grist of plotting - they have a wide range of colours and thicknesses that can be manipulated:"
   ]
  },
  {
   "cell_type": "code",
   "execution_count": null,
   "metadata": {},
   "outputs": [],
   "source": [
    "# Re-scale plot dimensions for Jupyter\n",
    "options(repr.plot.width=7, repr.plot.height=3)"
   ]
  },
  {
   "cell_type": "code",
   "execution_count": null,
   "metadata": {},
   "outputs": [],
   "source": [
    "# Plot symbols and their corresponding numbers\n",
    "plot(c(1:13,1:12),c(rep(2,13),rep(1,12)),pch=1:25,ylim=c(0,4),ylab=\"\",axes=F,xlab=\"\")\n",
    "text(c(1:13,1:12)+.3,c(rep(2,13),rep(1,12)),labels=c(1:25),cex=.7)"
   ]
  },
  {
   "cell_type": "markdown",
   "metadata": {},
   "source": [
    "But these symbols are just the beginning - because R recognizes [Unicode](https://unicode.org), we can plot many different [shapes](http://www.alanwood.net/unicode/geometric_shapes.html) and [symbols](http://www.alanwood.net/unicode/miscellaneous_symbols.html). This opens up quite a lot:"
   ]
  },
  {
   "cell_type": "code",
   "execution_count": null,
   "metadata": {},
   "outputs": [],
   "source": [
    "# Re-scale plot dimensions for Jupyter\n",
    "options(repr.plot.width=7, repr.plot.height=3)"
   ]
  },
  {
   "cell_type": "code",
   "execution_count": null,
   "metadata": {},
   "outputs": [],
   "source": [
    "TestUnicode <- function(start=\"25a0\", end=\"25ff\", ...)\n",
    "  {\n",
    "    nstart <- as.hexmode(start)\n",
    "    nend <- as.hexmode(end)\n",
    "    r <- nstart:nend\n",
    "    s <- ceiling(sqrt(length(r)))\n",
    "    par(pty=\"s\")\n",
    "    plot(c(-1,(s)), c(-1,(s)), type=\"n\", xlab=\"\", ylab=\"\",\n",
    "         xaxs=\"i\", yaxs=\"i\")\n",
    "    grid(s+1, s+1, lty=1)\n",
    "    for(i in seq(r)) {\n",
    "      try(points(i%%s, i%/%s, pch=-1*r[i],...))\n",
    "    }\n",
    "  }\n",
    "\n",
    "TestUnicode()\n",
    "TestUnicode(9500,9900);"
   ]
  },
  {
   "cell_type": "markdown",
   "metadata": {},
   "source": [
    "Depending on your machine and setup, some or all of these symbols will get plotted. So not universally useful, but gives some additional options."
   ]
  },
  {
   "cell_type": "code",
   "execution_count": null,
   "metadata": {},
   "outputs": [],
   "source": [
    "plot(1,1,pch=-as.hexmode('25C0'), cex=2, bg=rgb(0,255,0, maxColorValue=255))"
   ]
  },
  {
   "cell_type": "code",
   "execution_count": null,
   "metadata": {},
   "outputs": [],
   "source": [
    "# Plot lines and their corresponding numbers\n",
    "plot(1,1,type='n',xlim=c(0,8),ylim=c(0,8),axes=F,xlab=\"\",ylab=\"\")\n",
    "\n",
    "# Line types\n",
    "llab=c(\"solid\",\"dashed\",\"dotted\",\"dotdash\",\"longdash\",\"twodash\")\n",
    "for (i in 1:6){\n",
    "    lines(c(1,3),c(i,i),lty=i)\n",
    "    text(3.05,i,llab[i],cex=.7,pos=4)\n",
    "    text(.95, i, i, cex=.7,pos=2)\n",
    "}\n",
    "\n",
    "# Line widths\n",
    "lwdx=c(.2,.5,.1,2,3,5)\n",
    "for (i in 1:6){\n",
    "    lines(c(5,7),c(i,i),lwd=lwdx[i])\n",
    "    text(7.05,i,lwdx[i],cex=.7,pos=4)\n",
    "}\n",
    "\n",
    "text(2,7,'lty')\n",
    "text(6,7,'lwd')"
   ]
  },
  {
   "cell_type": "code",
   "execution_count": null,
   "metadata": {},
   "outputs": [],
   "source": [
    "# Import MLB 2017 Batting data\n",
    "mlbdata = na.omit(read.csv('mlb2017_batting.txt'))\n",
    "head(mlbdata)"
   ]
  },
  {
   "cell_type": "markdown",
   "metadata": {},
   "source": [
    "---\n",
    "# Task 1\n",
    "---\n",
    "\n",
    "Use the par arguments above to plot On Base Percentage vs Batting Average, with circles for the National League and up triangles for the American league. Also apply the Tufte rules 4&5."
   ]
  },
  {
   "cell_type": "code",
   "execution_count": null,
   "metadata": {},
   "outputs": [],
   "source": [
    "# Your answer here (feel free to add cells to complete your answer)\n"
   ]
  },
  {
   "cell_type": "markdown",
   "metadata": {},
   "source": [
    "## Scaling\n",
    "\n",
    "Sizes of points and lines are a critical tool you can use to improve your graphics - we used line thicknesses in Lecture 11 to plot 50 and 95% CI's around a point for example. Similarly point sizes can be used to convey another dimension to a graphic, increasing the data-ink ratio. Point sizes are scaled through the `cex()` argument in a plot."
   ]
  },
  {
   "cell_type": "markdown",
   "metadata": {
    "collapsed": true
   },
   "source": [
    "---\n",
    "# Task 2\n",
    "---\n",
    "\n",
    "Use your plot from Task 1 and add a third dimesion by scaling point sizes in proportion to the percentage of games played during the year (of 162), using your judgement to do it in such a way that the plot looks good."
   ]
  },
  {
   "cell_type": "code",
   "execution_count": null,
   "metadata": {},
   "outputs": [],
   "source": [
    "# Your answer here (feel free to add cells to complete your answer)\n"
   ]
  },
  {
   "cell_type": "markdown",
   "metadata": {
    "collapsed": true
   },
   "source": [
    "# Colours\n",
    "\n",
    "Colour is critical for conveying information and doing so well takes a lot of trial and error, as well as knowledge about perception. Information-based use of colour can be divided into either categorical or gradient-based categories. \n",
    "\n",
    "## Categorical colours\n",
    "\n",
    "Finding good categorical colours takes some reflection on what you're plotting; content matters and colours can convey meaning reflected in the colours used. In maps for example, we typically think of greens as related to vegetation, tan related to grasslands or deserts, greys as urban areas, and blues relating to water. Selecting good colours however is also subjective. Depending on the decade you're from this might look great or awful:"
   ]
  },
  {
   "cell_type": "code",
   "execution_count": null,
   "metadata": {},
   "outputs": [],
   "source": [
    "nx = 100\n",
    "plot(rnorm(nx,0,1),rnorm(nx,2,2),pch=21,bg=sample(c('#ff48c4','#2bd1fc','#f3ea5f','#c04df9','#ff3f3f'),size=nx,replace=T),xlab=\"N(0,1)\",ylab=\"N(2,2)\")"
   ]
  },
  {
   "cell_type": "markdown",
   "metadata": {
    "collapsed": true
   },
   "source": [
    "As alluded to in Lecture 11, we can make our own colour pallets, with the Adobe colour wheel. Here we can upload a photo and make pleasing categorical colour palettes to suit our tastes - and the subject. But to do this we need to know a little about colours:\n",
    "\n",
    "### Colour specification\n",
    "\n",
    "Colours can be specified in three standard ways:\n",
    "1. CMYK\n",
    "2. RGB\n",
    "3. Hex\n",
    "\n",
    "### CMYK = Cyan-Magenta-Yellow-Key (black)\n",
    "\n",
    "[CMYK colour](https://en.wikipedia.org/wiki/CMYK_color_model) specification is used in colour printing to blend dots into a wide range of colours. The CMYK colour model assumes light is reflected off the surface of something, and colours are achieved by plotting dots of different sizes (rather than of different intensities). If you have something very specific to print, CMYK is your colour model and will look different on the printed page than on-screen. This is why monitors need to be calibrated to specific printers to get appropriate results. If you ever buy colour printer cartridges you'll recognize these colours (plus black). This is a **subtractive** colour model in that it starts with white, and uses levels of the other colours to subtract percentages of the printed space from white, using the printed colours."
   ]
  },
  {
   "cell_type": "markdown",
   "metadata": {},
   "source": [
    "### RGB = Red-Green-Blue \n",
    "\n",
    "Screens, of any type, are, close up, a mix of transmitted light in red, green, and blue that are **added** together. By mixing these three colours nearly all colours can be specified. In RGB specificaiton each colour gets potential intensities between 0 and 255, with a 0-0-0 mix being black and 255-255-255 creating white (including zero, this is 256 levels)."
   ]
  },
  {
   "cell_type": "code",
   "execution_count": null,
   "metadata": {},
   "outputs": [],
   "source": [
    "plot(1,1,pch=21, cex=2, bg=rgb(255,255,255, maxColorValue=255))"
   ]
  },
  {
   "cell_type": "code",
   "execution_count": null,
   "metadata": {},
   "outputs": [],
   "source": [
    "plot(1,1,pch=21, cex=2, bg=rgb(0,0,0, maxColorValue=255))"
   ]
  },
  {
   "cell_type": "code",
   "execution_count": null,
   "metadata": {},
   "outputs": [],
   "source": [
    "plot(1,1,pch=21, cex=2, bg=rgb(255,0,0, maxColorValue=255))"
   ]
  },
  {
   "cell_type": "code",
   "execution_count": null,
   "metadata": {},
   "outputs": [],
   "source": [
    "plot(1,1,pch=21, cex=2, bg=rgb(0,255,0, maxColorValue=255))"
   ]
  },
  {
   "cell_type": "code",
   "execution_count": null,
   "metadata": {},
   "outputs": [],
   "source": [
    "rgb(0,0,255, maxColorValue=255)"
   ]
  },
  {
   "cell_type": "code",
   "execution_count": null,
   "metadata": {},
   "outputs": [],
   "source": [
    "plot(1,1,pch=21, cex=2, bg=rgb(0,0,255, maxColorValue=255))"
   ]
  },
  {
   "cell_type": "markdown",
   "metadata": {
    "collapsed": true
   },
   "source": [
    "### HEX = hexidecimal\n",
    "\n",
    "Hexidecimal specfication is just a translation of RGB coding, where numbers and letters are used in pairs to correspond to Red, Green, and Blue:\n",
    "\n",
    "    0,1,2,3,4,5,6,7,8,9,A,B,C,D,E,F = 0,1,2,3,4,5,6,7,8,9,10,11,12,13,14,15\n",
    "    \n",
    "Which translates as:\n",
    "\n",
    "    #056A30 = 0*16+5, 6*16+10, 3*16+0 = 5,106,48\n"
   ]
  },
  {
   "cell_type": "code",
   "execution_count": null,
   "metadata": {},
   "outputs": [],
   "source": [
    "plot(1,1,pch=21, cex=2, bg='#056A30')"
   ]
  },
  {
   "cell_type": "code",
   "execution_count": null,
   "metadata": {},
   "outputs": [],
   "source": [
    "plot(1,1,pch=21, cex=2, bg=rgb(5,106,48, maxColorValue=255))"
   ]
  },
  {
   "cell_type": "markdown",
   "metadata": {
    "collapsed": true
   },
   "source": [
    "As the most compact format, often hex is the way to go when selecting colours to use. The [Adobe colour wheel](https://color.adobe.com/create/color-wheel/) gives these in their ouput. \n",
    "\n",
    "## Sampling colour values from images\n",
    "\n",
    "Any decdent image manipulation or drawing program can sample colours using their eyedropper tool (e.g. Adobe Photoshop, Gimp etc.). We can also sample them from [Adobe colour wheel](https://color.adobe.com/create/color-wheel/), using our own image.\n",
    "\n",
    "**EXAMPLE**"
   ]
  },
  {
   "cell_type": "markdown",
   "metadata": {
    "collapsed": true
   },
   "source": [
    "---\n",
    "# Task 3\n",
    "---\n",
    "\n",
    "Use your plot from Task 2 and colour the background of the points, using the offical hexidecimal colours of MLB to make the National league points red and the American league points blue."
   ]
  },
  {
   "cell_type": "code",
   "execution_count": null,
   "metadata": {},
   "outputs": [],
   "source": [
    "# Your answer here (feel free to add cells to complete your answer)\n"
   ]
  },
  {
   "cell_type": "markdown",
   "metadata": {},
   "source": [
    "# Gradient colours\n",
    "\n",
    "Unlike categorical colours, colour gradients convey numerical information directly. If only it were so simple...\n",
    "\n",
    "## Single-colour gradients\n",
    "\n",
    "By scaling numerical information between their minimum and maximum, we can use the intensity of the colour to add an additional dimension to a plot. Often this is well accomplished in greyscale, with values between white and black being between the minimum and maximum values. A mix of three equal RGB values will give grey:\n"
   ]
  },
  {
   "cell_type": "code",
   "execution_count": null,
   "metadata": {},
   "outputs": [],
   "source": [
    "plot(0:10, rep(1,11), pch=21, bg=rgb(255*c(10:0)/10, 255*c(10:0)/10, 255*c(10:0)/10,maxColorValue=255))"
   ]
  },
  {
   "cell_type": "markdown",
   "metadata": {},
   "source": [
    "R also has a useful shorthand for greyscale:"
   ]
  },
  {
   "cell_type": "code",
   "execution_count": null,
   "metadata": {},
   "outputs": [],
   "source": [
    "plot(1:3, rep(1,3), pch=21, cex=2, bg=c('grey10','grey66','grey88') )"
   ]
  },
  {
   "cell_type": "markdown",
   "metadata": {},
   "source": [
    "For a gradient between two colours (one of which could be white), you can use the very handy `colorRampPalette()` function. It works by specifying the colours at the extremes as a new object, then specifying the number of steps between them. Note this gives evenly-spaced steps, which is good only for binned data."
   ]
  },
  {
   "cell_type": "code",
   "execution_count": null,
   "metadata": {},
   "outputs": [],
   "source": [
    "# Create blue-white colour palette\n",
    "blue.pal = colorRampPalette(c(\"blue\", \"green\"))"
   ]
  },
  {
   "cell_type": "code",
   "execution_count": null,
   "metadata": {},
   "outputs": [],
   "source": [
    "# Plot blue palette\n",
    "plot(0:10, rep(1,11), pch=21, bg=blue.pal(11))"
   ]
  },
  {
   "cell_type": "markdown",
   "metadata": {},
   "source": [
    "## Transparency\n",
    "\n",
    "Slighly easier than specifying blends of colours is to use transparency values ranging from `0`(clear) to `99` (almost opaque). These can be specified in two ways:\n",
    "\n",
    "1. HEX specification - simply add the percent saturation value to the end of any `hex` code value: \n",
    "2. Using `adjustcolor()` - here any colour can be passed and it's 'alpha' value changed (alpha is the typical argument in most graphics platforms):"
   ]
  },
  {
   "cell_type": "code",
   "execution_count": null,
   "metadata": {},
   "outputs": [],
   "source": [
    "# HEX spec\n",
    "plot(1:3,rep(1,3),pch=21, cex=2, bg=c('#056A3033','#056A3066','#056A30') )"
   ]
  },
  {
   "cell_type": "code",
   "execution_count": null,
   "metadata": {},
   "outputs": [],
   "source": [
    "# Adjustcolor\n",
    "\n",
    "col1 = adjustcolor('#056A30', alpha.f=0.33)\n",
    "col2 = adjustcolor('#056A30', alpha.f=0.66)\n",
    "\n",
    "plot(1:3,rep(1,3),pch=21, cex=2, bg=c(col1,col2,'#056A30') )"
   ]
  },
  {
   "cell_type": "markdown",
   "metadata": {},
   "source": [
    "# Task 4\n",
    "---\n",
    "\n",
    "Use your plot from Task 3 to scale the intensities of the red and blue points according to each player's slugging average, with full saturation corresponding to full intensity."
   ]
  },
  {
   "cell_type": "code",
   "execution_count": null,
   "metadata": {},
   "outputs": [],
   "source": [
    "# Your answer here (feel free to add cells to complete your answer)\n"
   ]
  },
  {
   "cell_type": "markdown",
   "metadata": {
    "collapsed": true
   },
   "source": [
    "Colour scales can do more than just use intensity gradients, they can also reflect divering colour palettes (i.e. where white is the midpoint between two extremes), including those from [ColourBrewer](http://colorbrewer2.org) that can be installed with the `RColorBrewer` library. In fact there are a [range of palettes](https://moderndata.plot.ly/create-colorful-graphs-in-r-with-rcolorbrewer-and-plotly/) available that include pre-formated categorical and sequential versions."
   ]
  },
  {
   "cell_type": "code",
   "execution_count": null,
   "metadata": {},
   "outputs": [],
   "source": [
    "library(RColorBrewer)"
   ]
  },
  {
   "cell_type": "code",
   "execution_count": null,
   "metadata": {},
   "outputs": [],
   "source": [
    "plot(0:10, rep(1,11), pch=21, bg=brewer.pal(11,'RdBu'))"
   ]
  },
  {
   "cell_type": "markdown",
   "metadata": {},
   "source": [
    "R Base graphics also has its own colour palettes, including: `rainbow(), heat.colors(), terrain.colors(), topo.colors()`, or `cm.colors()`. They are used by specifying the number of values to return, and the level of alpha (transparency):"
   ]
  },
  {
   "cell_type": "code",
   "execution_count": null,
   "metadata": {},
   "outputs": [],
   "source": [
    "plot(0:10, rep(1,11), pch=21, bg=heat.colors(11,.9))"
   ]
  },
  {
   "cell_type": "markdown",
   "metadata": {},
   "source": [
    "# Graphical outputs\n",
    "\n",
    "There are many, many formats for computer graphics, and knowing a bit about the major ones will help steer you toward what you need for various contexts. The big divide is between **raster** and **vector** graphics. \n",
    "\n",
    "### Raster graphics\n",
    "\n",
    "Raster graphics are typical format for computer images, particularly photos that have been captured (and stored) as a grid of coloured squares. Our eye can perceive down to about 0.1 mm, beyond that everything gets smoothed together. The resolution of raster grahpics are typically spefied in units of `dpi` or dots-per-inch, or points. However in all cases they are ways of storing information to tell a computer how to render a mesh of different colours to create an image.\n",
    "\n",
    "The full list of raster graphics includes: ANI ANIM APNG ART BMP BPG BSAVE CAL CIN CPC CPT DDS DPX ECW EXR FITS FLIC FLIF FPX GIF HDRi HEVC ICER ICNS ICO / CUR ICS ILBM JBIG JBIG2 JNG JPEG JPEG-LS JPEG 2000 JPEG XR JPEG XT JPEG-HDR KRA MNG MIFF NRRD ORA PAM PBM / PGM / PPM / PNM PCX PGF PICtor PNG PSD / PSB PSP QTVR RAS RGBE Logluv TIFF SGI TGA TIFF TIFF/EP TIFF/IT UFO/ UFP WBMP WebP XBM XCF XPM XWD.\n",
    "\n",
    "Typical raster formats include:\n",
    "\n",
    "Format | Definition\n",
    ":------ | :------\n",
    "jpg, jpeg | Joint photographic experts group standard - an lossy 10:1 compression; typically used in cameras\n",
    "bmp | Bitmap format - Microsoft standard format that typically is uncompressed (i.e. big file sizes)\n",
    "gif | Graphics interchange format - 8 bit, lossless compression suitable for things with hard angles (but not high-res)\n",
    "png | Portable network graphic - a lossless compression format made for the internet; doesn't support CMYK\n",
    "tiff | Tagged image file format - most common for high-res graphics, can optionally use compression\n",
    "\n",
    "\n",
    "### Vector graphics\n",
    "\n",
    "Rather than relying on individually coloured squares of RGB light, vector graphics use mathematics to define the edges of graphical objects, making them independent of resolution constraints. By combining arcs, lines and circles, graphics are built up that remain sharp at any size, and can be passed as a series of objects that can be edited in another program, such as Adobe Illustrator. \n",
    "\n",
    "The full list of vector graphics includes: AI CDR CGM DXF EVA EMF Gerber HVIF IGES PGML SVG VML WMF Xar\n",
    "\n",
    "Typical vector graphics include:\n",
    "\n",
    "Format | Definition\n",
    ":------ | :------\n",
    "ai | Adobe Illustrator format - Industry standard for creating non-data graphics\n",
    "SVG | Scalable vector graphics - [XML](https://en.wikipedia.org/wiki/XML) based format for web use\n",
    "\n",
    "\n",
    "### Compound graphics\n",
    "\n",
    "In addition to vector and raster graphics, compound graphics can include elements of both and have several important formats.\n",
    "\n",
    "The full list of compound graphics includes: CDF DjVu EPS PDF PICT PS SWF XAML\n",
    "\n",
    "Typical compound graphics include:\n",
    "\n",
    "Format | Definition\n",
    ":------ | :------\n",
    "eps | Encapsulated postscript - PostScript file that includes a preview stage\n",
    "pdf | Portable document format - Adobe-created now open standard file that includes text, fonts, vector graphics, raster images\n",
    "ps | PostScript - Adobe-created now open basis of all compound graphics, where everything is specified in terms of straight lines and cubic [Bézier curves](https://en.wikipedia.org/wiki/Bézier_curve)\n",
    "\n",
    "### In most applications you should save your graphic as a pdf, with the `useDingbats=FALSE` tag included"
   ]
  },
  {
   "cell_type": "code",
   "execution_count": null,
   "metadata": {},
   "outputs": [],
   "source": [
    "# Example export\n",
    "pdf('test.pdf',useDingbats=FALSE)\n",
    "plot(1,1,xlab='text')\n",
    "dev.off()\n",
    "\n",
    "# Embed fonts so you can edit them elsehwere\n",
    "embedFonts('test.pdf')"
   ]
  },
  {
   "cell_type": "markdown",
   "metadata": {},
   "source": [
    "In addition to the use of vector graphics, you often need to export files according to specific resolutions and point sizes. To do this, you must specify the figure dimensions in your `pdf()` statement (and use oma and mar to fiddle with margins) and the font size will be a multiple of 12pt (the default):"
   ]
  },
  {
   "cell_type": "code",
   "execution_count": null,
   "metadata": {},
   "outputs": [],
   "source": [
    "# Example export to specific size\n",
    "pdf('test.pdf',useDingbats=FALSE, width=7, height=5, family='Helvetica')\n",
    "plot(1,1,xlab='text',cex.lab=6/12)\n",
    "dev.off()\n",
    "# Embed fonts\n",
    "embedFonts('test.pdf')"
   ]
  },
  {
   "cell_type": "markdown",
   "metadata": {
    "collapsed": true
   },
   "source": [
    "# Task 5\n",
    "---\n",
    "\n",
    "Use your plot from Task 4 and apply as many Tufte rules as you can, then export the graphic as a pdf."
   ]
  },
  {
   "cell_type": "code",
   "execution_count": null,
   "metadata": {},
   "outputs": [],
   "source": [
    "# Your answer here (feel free to add cells to complete your answer)\n",
    "out = {}\n",
    "\n",
    "for (i in 1:2){\n",
    "    a = c(.2,.4)[i] \n",
    "    out[i] = adjustcolor('#041A88',alpha.f=a)\n",
    "}\n",
    "\n",
    "out\n"
   ]
  },
  {
   "cell_type": "markdown",
   "metadata": {},
   "source": [
    "# What have you learned and what's next?\n",
    "\n",
    "The point of today's lab was to outline key elements in helping to make excellent graphics\n",
    "\n",
    "**You should at this point be comfortable:**\n",
    " 1. With high and low level settings in `par()`\n",
    " 2. Scaling point sizes\n",
    " 3. Selecting categorical colours\n",
    " 4. Colour gradients\n",
    " 5. Graphics formats\n",
    "\n",
    "That's it - all that's left is Assignment 3.\n",
    "\n",
    "---\n",
    "# **Thanks and best of luck on your exams** !"
   ]
  }
 ],
 "metadata": {
  "kernelspec": {
   "display_name": "R",
   "language": "R",
   "name": "ir"
  },
  "language_info": {
   "codemirror_mode": "r",
   "file_extension": ".r",
   "mimetype": "text/x-r-source",
   "name": "R",
   "pygments_lexer": "r",
   "version": "3.4.1"
  }
 },
 "nbformat": 4,
 "nbformat_minor": 2
}
