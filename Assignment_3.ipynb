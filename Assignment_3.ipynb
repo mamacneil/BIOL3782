{
 "cells": [
  {
   "cell_type": "markdown",
   "metadata": {
    "collapsed": true
   },
   "source": [
    "# Assignment 3 - Beautiful graphics \n",
    "\n",
    "Your assignment is to create a single beautiful graphic using the data from Assignment 2. Specifically:\n",
    "\n",
    "\n",
    "Create a beautiful graphic that includes: \n",
    "\n",
    "1. A minimum of 5 Tufte Rules\n",
    "2. Uses custom colour pallete developed from a photo of your choice, related to the topic\n",
    "3. Conforms to final publication rules for *Nature*, found here: http://s3-service-broker-live-19ea8b98-4d41-4cb4-be4c-d68f4963b7dd.s3.amazonaws.com/uploads/ckeditor/attachments/7822/3c_Final_artwork.pdf\n",
    "\n",
    "**NB**: You will receive one bonus percentage on your final mark for each Tufte Rule used beyond your first five. This may require multiple panels within the same plot to acheive all 5 bonus points.\n",
    "\n",
    "Also: the folders here https://github.com/halhen/viz-pub have some good example code (for you to steal!). There are many other sources, use Google and be creative.\n",
    "\n",
    "---\n",
    "# Marking\n",
    "---\n",
    "Pay close attention to the formatting requirements for *Nature*. As before, we will deduct 0.5pts for every formatting error so be sure you tick off each item.\n",
    "\n",
    "---\n",
    "# Submission\n",
    "---\n",
    "Submit your results by putting your final figure, the code used to generate it, the photograph used to create your colour pallete, and a short text summary outlining how you have used each of the Tufte Rules you're claiming in your results - that is four files - in an email to Aaron (a.macneil@dal.ca) and Tor (tr573230@dal.ca) by **16 December at 23:59:59.**"
   ]
  }
 ],
 "metadata": {
  "kernelspec": {
   "display_name": "R",
   "language": "R",
   "name": "ir"
  },
  "language_info": {
   "codemirror_mode": "r",
   "file_extension": ".r",
   "mimetype": "text/x-r-source",
   "name": "R",
   "pygments_lexer": "r",
   "version": "3.4.1"
  }
 },
 "nbformat": 4,
 "nbformat_minor": 2
}
