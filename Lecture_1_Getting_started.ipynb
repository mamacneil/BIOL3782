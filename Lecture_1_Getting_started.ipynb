{
 "cells": [
  {
   "cell_type": "markdown",
   "metadata": {},
   "source": [
    "# Lecture 1 - Getting started with Jupyter and R"
   ]
  },
  {
   "cell_type": "markdown",
   "metadata": {},
   "source": [
    "Welcome to 'The Biologists Toolkit' (what would be in most circumstances called 'Scientific Computing') a course intended to teach you the practical computer skills needed to do Biological science. The course is structured around weekly three-hour lab/lectures using [Jupyter notebooks](http://jupyter.org) (this is one) that allow you to run code in a web browser, making it widely accessible. Along the way there will be small tasks that will teach you how to use them. Not to worry - this week there will no grades but starting next week **these tasks will be worth a large portion of your grades**. So this is a participatory class, intended to teach you useful skills, that should be relatively easy to do well in - provided you attend."
   ]
  },
  {
   "cell_type": "markdown",
   "metadata": {},
   "source": [
    "---\n",
    "# Scientific computing\n",
    "---"
   ]
  },
  {
   "cell_type": "markdown",
   "metadata": {},
   "source": [
    "Scientific computing is the practice and culture of using computers in our daily workflow. This differs from *Computer Science*, which is a research discipline that pushes the envolope of what we can do with computers. Scientific computing employes a set of computer appliations (tools) to efficiently and effectively pursue understand biology. Just like an actual toolbox, the ideal set of applications we use will vary by person and the job at hand, but will be based around a minimum set of things needed to get most jobs done."
   ]
  },
  {
   "cell_type": "markdown",
   "metadata": {},
   "source": [
    "#### *Suggested reading*\n",
    "A recent paper by [*Wilson et al.*](http://journals.plos.org/plosbiology/article?id=10.1371/journal.pbio.1001745) in PLoS Biology gets into detail about scientific computing as a practice, which they structure around several key principles:\n",
    "\n",
    " - Write Programs for People, Not Computers\n",
    " - Let the Computer Do the Work\n",
    " - Make Incremental Changes\n",
    " - Don't Repeat Yourself (or Others)\n",
    " - Plan for Mistakes\n",
    " - Optimize Software Only after It Works Correctly\n",
    " - Document Design and Purpose, Not Mechanics\n",
    " - Collaborate\n",
    "\n",
    "These principles may not mean much now, but they become increasingly important as you move into a scientific career, where publications and reproducible analysis are critical to success. This course is intended to help you understand and develop these principles, using a set of tools and skills that will help you get work done efficiently. We will cover many aspects throughout the course."
   ]
  },
  {
   "cell_type": "markdown",
   "metadata": {},
   "source": [
    "\n",
    "---\n",
    "# Jupyter\n",
    "---"
   ]
  },
  {
   "cell_type": "markdown",
   "metadata": {},
   "source": [
    "Jupyter notebooks are html mashups of code and text that allow you to easily track, share, and reproduce your work. They are an interactive computing environment, where analysis can be completed in a more than [40 programming languages](https://github.com/jupyter/jupyter/wiki/Jupyter-kernels) and data readily displayed in a vairety of ways. We will use Jupyter notebooks exclusively for this course, both for lecture/lab material and for submitting assignments. This will be done through Jupyter's server-based platform, [JupyterHub](https://jupyterhub.readthedocs.io/en/latest/)."
   ]
  },
  {
   "cell_type": "markdown",
   "metadata": {
    "collapsed": true
   },
   "source": [
    "By design, Jupyter notebooks allow you to write code and describe what you're doing as you go along. This is particuarly helpful for sharing with others (reproducability) and for writing up methods. For example:"
   ]
  },
  {
   "cell_type": "code",
   "execution_count": 4,
   "metadata": {
    "collapsed": true
   },
   "outputs": [],
   "source": [
    "xnew = sin(3)"
   ]
  },
  {
   "cell_type": "code",
   "execution_count": 5,
   "metadata": {},
   "outputs": [
    {
     "data": {
      "text/html": [
       "0.141120008059867"
      ],
      "text/latex": [
       "0.141120008059867"
      ],
      "text/markdown": [
       "0.141120008059867"
      ],
      "text/plain": [
       "[1] 0.14112"
      ]
     },
     "metadata": {},
     "output_type": "display_data"
    }
   ],
   "source": [
    "xnew"
   ]
  },
  {
   "cell_type": "code",
   "execution_count": 6,
   "metadata": {
    "collapsed": true
   },
   "outputs": [],
   "source": [
    "ynew = sqrt(345)"
   ]
  },
  {
   "cell_type": "code",
   "execution_count": 7,
   "metadata": {},
   "outputs": [
    {
     "data": {
      "text/html": [
       "2.62118781334186"
      ],
      "text/latex": [
       "2.62118781334186"
      ],
      "text/markdown": [
       "2.62118781334186"
      ],
      "text/plain": [
       "[1] 2.621188"
      ]
     },
     "metadata": {},
     "output_type": "display_data"
    }
   ],
   "source": [
    "xnew*ynew"
   ]
  },
  {
   "cell_type": "markdown",
   "metadata": {},
   "source": [
    "By storing things as objects, they can be used and reused as needed."
   ]
  },
  {
   "cell_type": "markdown",
   "metadata": {},
   "source": [
    "#### Kernels\n",
    "\n",
    "Jupyter notebooks are powered by what are called [kernels](http://jupyter.readthedocs.io/en/latest/projects/kernels.html), instances of a given program that power the computation behind them."
   ]
  },
  {
   "cell_type": "markdown",
   "metadata": {},
   "source": [
    "### Markdown\n",
    "\n",
    "The text in Jupyter notebooks is handled by a great bit of rich text shorthand developed by [John Gruber](https://twitter.com/gruber) called [Markdown](https://daringfireball.net/projects/markdown/syntax). Markdown allows very simple symbols and indentations to create html that can be used by a wide variety of programs and we will use it exclusively for text in this course, including writing your assignments. There are a TON of tutorials and information online about Markdown so feel free to use those resources."
   ]
  },
  {
   "cell_type": "markdown",
   "metadata": {},
   "source": [
    "---\n",
    "### TASK 1\n",
    "---\n",
    "Markdown is a really simple way to make formatted text. It is extremely common in the computer world. You can use a wide variety of special characters to format the text. With this your can make **bold**/*italic* or lists  and tables.\n",
    "\n",
    " - Below this cell create a new cell using the 'insert' command on the menu above. \n",
    " - In that cell use the drop down menu that says \"Code\" or \"Markdown\" and select \"Markdown\" to change the type of cell.\n",
    " - Check out the help menu for Markdown. It will start a new tab where you can select \"Basic writing and formatting syntax\" to view some of the ways you can modify your text.\n",
    " - play around entering some text and then press the play button OR shift-enter to 'compile' your text. By double clicking on the cell you can enter back into the editing mode. \n",
    " \n",
    " - **Write a note to yourself**\n",
    "   - start with a header\n",
    "   - include bold and italic text\n",
    "   - make a numbered/bulleted list"
   ]
  },
  {
   "cell_type": "markdown",
   "metadata": {
    "collapsed": true
   },
   "source": [
    "---\n",
    "# R\n",
    "---"
   ]
  },
  {
   "cell_type": "markdown",
   "metadata": {},
   "source": [
    "['R'](https://www.r-project.org) is the most commonly-used programming language among biologists today, primarily due to its [object-oriented](https://en.wikipedia.org/wiki/Object-oriented_programming) syntax and its powerful statistical and graphics capabilities. While R may eventually be overtaken by [Python](https://www.python.org), it is widely used and learning it here will serve you well should you eventually make the swich. So to start, let's begin with the [traditional first thing](https://en.wikipedia.org/wiki/\"Hello,_World!\"_program) anyone does in any programming language: `hello world`."
   ]
  },
  {
   "cell_type": "code",
   "execution_count": 8,
   "metadata": {},
   "outputs": [
    {
     "name": "stdout",
     "output_type": "stream",
     "text": [
      "[1] \"hello, world\"\n"
     ]
    }
   ],
   "source": [
    "# press play\n",
    "print('hello, world')"
   ]
  },
  {
   "cell_type": "markdown",
   "metadata": {},
   "source": [
    "---\n",
    "Let's break down what just happened.\n",
    "\n",
    "The first line started with a `#` which means that R will ignore it. It's called a comment line (and it's not a coincidence that the same symbol is used for hashtags in Twitter!) and comments are your best long lost friends because they tell you what you used to know about your code when you come back to it a year from now.\n",
    "\n",
    "In any basic computer program, one of the most important things you can do is generate output. The simplest way in R is to use the `print()` function. Don't worry, this won't set off any printers - it's only printing to the screen in the format of a typical R function - *i.e.* using parentheses. It works like this:\n",
    "\n",
    "    print('Hello World')\n",
    "\n",
    "The line above is called *a statement.*\n",
    "\n",
    "`print()` is the name of a specific function. Functions are things in any programming language that *do something* and in general they are the name of the function followed by regular brackets or parantheses.\n",
    "\n",
    "The parentheses are there because within them you place so-called *arguments* - an argument is simply an input needed for the function to operate. In this case if you want the computer to print, the only argument necessary is what to print -- which you provide.\n",
    "\n",
    "*There are several different types of brackets in R, so for clarity we will always refer to parentheses\n",
    "when we mean these: *`()`*, square brackets when we mean these: *`[]`* and curly braces when we mean these: *`{}`\n",
    "\n",
    "\n",
    "### An important note on quotes and `strings`\n",
    "\n",
    "In normal writing, we only surround a bit of text in quotes when we want to convey that they are being said by somebody. In R, however, we can surround a little bit of text in quotes to indicate to the program that this is just a  bit of text and not something it needs to execute (run). \n",
    "\n",
    "By programing convention we call text in quotes a `string` - as in a string of characters. Strings are always surrounded by quotes. That is how programming languages are able to tell the difference between the instructions (like the function name) and the text (the thing we want to print). It is also how you tell the difference between the number 1 and the character \"1\". There is no real difference between single or double quotes for strings – R will happily accept either. This can be handy when you want to have a quotation mark as part of your string!"
   ]
  },
  {
   "cell_type": "markdown",
   "metadata": {},
   "source": [
    "---\n",
    "# Storing variables as objects\n",
    "---\n",
    "The most common actions you will do in R are to execute commands (run things) and assign objects (store things). If you  want to refer to something, like a string or a number, without writing the whole thing out you can assign that item a name and create an R object. \n",
    "\n",
    "You've been doing it since you first started algebra, when your teacher first wrote \"let x = 7\". Similarly, we can take strings, numbers, data, and functions in R and assign a name to it using either an `=` or `->`. The `->` convention comes from the pre-cursor to R - [S](https://en.wikipedia.org/wiki/S_(programming_language)) - which reserved the `=` for its mathematical definition. R is more flexible and can use either. One further point is that the arrow can go either way:"
   ]
  },
  {
   "cell_type": "code",
   "execution_count": 9,
   "metadata": {
    "collapsed": true
   },
   "outputs": [],
   "source": [
    "x <- 10\n",
    "10 -> y"
   ]
  },
  {
   "cell_type": "code",
   "execution_count": 10,
   "metadata": {},
   "outputs": [
    {
     "name": "stdout",
     "output_type": "stream",
     "text": [
      "[1] 10\n",
      "[1] 10\n"
     ]
    }
   ],
   "source": [
    "print(y)\n",
    "print(x)"
   ]
  },
  {
   "cell_type": "markdown",
   "metadata": {},
   "source": [
    "These actions are called assigninments, and once we've done them, we can use the variable names as objects that contain far more than just the letters within them."
   ]
  },
  {
   "cell_type": "markdown",
   "metadata": {},
   "source": [
    "---\n",
    "## TASK 2\n",
    "---\n",
    "Following the instructions below to store/print your name in tasks 2A-C.\n",
    " \n",
    "\n",
    "This is the first time you will see how simple tasks will be graded in BIOL 3872. Questions are generally broken up into 3 parts:\n",
    "\n",
    "1. You will be given a set of instructions. The instructions will tell you the name of the variable to store your answer. Follow this name **EXACTLY** -. e.g. In task 2A the variable used to store your answer is my_name - and like every programming language on earth **it is case-sensitive**. You will also be told what kind of information should be stored in your answer. In this case we want a string. Through the course we will learn to deal many other types of data.\n",
    "\n",
    "2. The second part is where you write your answer. When the assignment is graded the **code in the answer cell will be run to define your answer**. In some instances if you're wrong you may recieve part marks if you've made a valiant attempt. You will see some R code in the cell. This code **must be deleted**. The code is there to tell you that you didn't answer the question when you validate and submit your assignment.\n",
    "\n",
    "3. The last cell is the test cell. You should never alter this cell. When your assignments are graded the test cell will be reset to its original form, so nothing you do in the test cell will be saved. When I am being nice I can have this cell give you hints as to the correct answer. In today's lab I'll be nice - not so often during the tests!"
   ]
  },
  {
   "cell_type": "markdown",
   "metadata": {},
   "source": [
    "### TASK 2A\n",
    " - in the cell below store your name in a variable called `my_name`\n",
    " - make sure to store your name as a `string`!"
   ]
  },
  {
   "cell_type": "code",
   "execution_count": 11,
   "metadata": {},
   "outputs": [
    {
     "ename": "ERROR",
     "evalue": "Error in structure(list(message = as.character(message), call = call), : argument \"message\" is missing, with no default\n",
     "output_type": "error",
     "traceback": [
      "Error in structure(list(message = as.character(message), call = call), : argument \"message\" is missing, with no default\nTraceback:\n",
      "1. simpleError()",
      "2. structure(list(message = as.character(message), call = call), \n .     class = class)"
     ]
    }
   ],
   "source": [
    "# YOUR CODE HERE\n"
   ]
  },
  {
   "cell_type": "markdown",
   "metadata": {},
   "source": [
    "### TASK 2B\n",
    " - in the cell below use `print()` to output your name. You can do this by giving print() the variable `my_name` from 2A"
   ]
  },
  {
   "cell_type": "code",
   "execution_count": 13,
   "metadata": {},
   "outputs": [
    {
     "ename": "ERROR",
     "evalue": "Error in structure(list(message = as.character(message), call = call), : argument \"message\" is missing, with no default\n",
     "output_type": "error",
     "traceback": [
      "Error in structure(list(message = as.character(message), call = call), : argument \"message\" is missing, with no default\nTraceback:\n",
      "1. simpleError()",
      "2. structure(list(message = as.character(message), call = call), \n .     class = class)"
     ]
    }
   ],
   "source": [
    "# YOUR CODE HERE\n"
   ]
  },
  {
   "cell_type": "markdown",
   "metadata": {},
   "source": [
    "It may seem obvious, but a key feature of Jupyter Notebooks is that once that variable has been assigned it will be available to other cells. If you change the value of a variable by assigning it a new value - you will replace the old value, and any cell that is run from that point on will only reflect the new value."
   ]
  },
  {
   "cell_type": "markdown",
   "metadata": {
    "collapsed": true
   },
   "source": [
    "### TASK 2C \n",
    " - In the cell below change the value of the variable `my_name` and then re-run the the print statement from 2B above:"
   ]
  },
  {
   "cell_type": "code",
   "execution_count": 14,
   "metadata": {},
   "outputs": [
    {
     "ename": "ERROR",
     "evalue": "Error in structure(list(message = as.character(message), call = call), : argument \"message\" is missing, with no default\n",
     "output_type": "error",
     "traceback": [
      "Error in structure(list(message = as.character(message), call = call), : argument \"message\" is missing, with no default\nTraceback:\n",
      "1. simpleError()",
      "2. structure(list(message = as.character(message), call = call), \n .     class = class)"
     ]
    }
   ],
   "source": [
    "# YOUR CODE HERE\n"
   ]
  },
  {
   "cell_type": "markdown",
   "metadata": {},
   "source": [
    "# TASK 3\n",
    "\n",
    "Your working directory for the class is your own. You can always make a new notebook to contain your ideas, to practice coding or test your syntax.\n",
    "\n",
    "## TASK 3A \n",
    " - Go to the browser tab with your Jupyter Dashboard and create a new notebook. Use the drop down menu \"New\" in the top right and select \"R\"\n",
    " - Rename this notebook by clicking near the top where it says \"Untitled\"\n",
    " - print hello world using R\n",
    " - Close the notebook by going to `file>Close and Halt`. If you don't Close and Halt, ie if you just close the browser tab, your notebook will staying running in the background. You can re-enter it from the dashboard or alternatively you can select it in the dashboard and clicking the yellow `Shutdown` button. Please, please don't press the Trash icon - I won't be able to help you if you delete your notebook.\n",
    " - If you want you can play around making folders, renaming them, and moving your notebooks.\n",
    " "
   ]
  },
  {
   "cell_type": "markdown",
   "metadata": {},
   "source": [
    "---\n",
    "# Graphics in R and Jupyter Notebooks\n",
    "---\n",
    "If you've ever wondered where all the fancy plots you see in scientific papers are coming from - they are made using computer programming. There are a huge number of tools for making graphics to visualize data - we are going to touch on graphics in later labs. But for now, run each of the cells below to see some spiffy graphics generated from real data."
   ]
  },
  {
   "cell_type": "code",
   "execution_count": 15,
   "metadata": {},
   "outputs": [
    {
     "name": "stderr",
     "output_type": "stream",
     "text": [
      "Loading required package: ggplot2\n",
      "Loading required package: tidyr\n"
     ]
    }
   ],
   "source": [
    "# Load graphics packages\n",
    "require(ggplot2); require(tidyr)"
   ]
  },
  {
   "cell_type": "markdown",
   "metadata": {},
   "source": [
    "Here we're using R's `require()` command to load two R packages created by [Hadley Wickham](https://twitter.com/hadleywickham) - `ggplot2`, which is an important graphics package for rapidly producing graphics, and `tidyr`, which is an importat package for producing [tidy data](https://en.wikipedia.org/wiki/Tidy_data). By tidy data we mean:\n",
    "\n",
    " - Each variable is in a column.\n",
    " - Each observation is a row.\n",
    " - Each value is a cell.\n",
    "\n",
    "This may seem obvious (or not) but it is an **essential** element of using computers and doing analyis in biology. You will learn why in upcoming lectures.\n",
    "\n",
    "You should also notice that each line is commented; while this is overkill here (we have the Markdown text after all), it is also good practice. At this point you should overcomment, rather than undercomment, but do so as succinctly as possible.\n",
    "\n",
    "Next we can create some data:"
   ]
  },
  {
   "cell_type": "code",
   "execution_count": 16,
   "metadata": {},
   "outputs": [
    {
     "data": {
      "text/html": [
       "<table>\n",
       "<thead><tr><th scope=col>A</th><th scope=col>B</th><th scope=col>C</th></tr></thead>\n",
       "<tbody>\n",
       "\t<tr><td>-1.7891766</td><td>-0.8963310</td><td>-1.8316458</td></tr>\n",
       "\t<tr><td> 0.9564563</td><td> 0.2335527</td><td> 0.1747581</td></tr>\n",
       "\t<tr><td> 0.8627491</td><td> 0.5190028</td><td>-1.0573201</td></tr>\n",
       "\t<tr><td>-0.4602162</td><td> 0.2228056</td><td> 0.3589315</td></tr>\n",
       "\t<tr><td>-0.1880720</td><td>-0.8192703</td><td> 2.3316968</td></tr>\n",
       "\t<tr><td> 1.3541330</td><td>-0.0333386</td><td>-0.2051367</td></tr>\n",
       "</tbody>\n",
       "</table>\n"
      ],
      "text/latex": [
       "\\begin{tabular}{r|lll}\n",
       " A & B & C\\\\\n",
       "\\hline\n",
       "\t -1.7891766 & -0.8963310 & -1.8316458\\\\\n",
       "\t  0.9564563 &  0.2335527 &  0.1747581\\\\\n",
       "\t  0.8627491 &  0.5190028 & -1.0573201\\\\\n",
       "\t -0.4602162 &  0.2228056 &  0.3589315\\\\\n",
       "\t -0.1880720 & -0.8192703 &  2.3316968\\\\\n",
       "\t  1.3541330 & -0.0333386 & -0.2051367\\\\\n",
       "\\end{tabular}\n"
      ],
      "text/markdown": [
       "\n",
       "A | B | C | \n",
       "|---|---|---|---|---|---|\n",
       "| -1.7891766 | -0.8963310 | -1.8316458 | \n",
       "|  0.9564563 |  0.2335527 |  0.1747581 | \n",
       "|  0.8627491 |  0.5190028 | -1.0573201 | \n",
       "| -0.4602162 |  0.2228056 |  0.3589315 | \n",
       "| -0.1880720 | -0.8192703 |  2.3316968 | \n",
       "|  1.3541330 | -0.0333386 | -0.2051367 | \n",
       "\n",
       "\n"
      ],
      "text/plain": [
       "  A          B          C         \n",
       "1 -1.7891766 -0.8963310 -1.8316458\n",
       "2  0.9564563  0.2335527  0.1747581\n",
       "3  0.8627491  0.5190028 -1.0573201\n",
       "4 -0.4602162  0.2228056  0.3589315\n",
       "5 -0.1880720 -0.8192703  2.3316968\n",
       "6  1.3541330 -0.0333386 -0.2051367"
      ]
     },
     "metadata": {},
     "output_type": "display_data"
    }
   ],
   "source": [
    "# Create some disposible random data\n",
    "tmp = data.frame(replicate(3,rnorm(100,0,1)))\n",
    "# Name the columns\n",
    "colnames(tmp) = c('A','B','C')\n",
    "# Take a look\n",
    "head(tmp)"
   ]
  },
  {
   "cell_type": "markdown",
   "metadata": {},
   "source": [
    "Here three things happen:\n",
    "\n",
    " - A [Data Frame]() is created, which is a standard R object for storing tabular data\n",
    " - Names are given to the columns using the colnames() function\n",
    " - The top 6 lines of the dataframe are displayed\n",
    " \n",
    "There are a couple of not-so-obvious things here:\n",
    "\n",
    " 1. A standard throw-away object name `tmp` is used - you will quickly learn that good naming of objects is essential to good code but also that sometimes we create objects we don't care about, just to learn how they work. I typically use `tmp` and `tmp1, tmp2, tmp3...etc.` as disposible names, as well as `poo` which is a self-explanitory bit of code from one of my PhD supervisors, [Steve Rushton](http://www.ncl.ac.uk/nes/staff/profile/stevenrushton.html#background).\n",
    " \n",
    " 2. Three built-in R functions are nested in the first line: `data.frame()`, `replicate()`, and `rnorm()`. \n",
    " \n",
    "To figure out what each of these do, we can pull up information for each object using a `?` ahead of the function name."
   ]
  },
  {
   "cell_type": "markdown",
   "metadata": {},
   "source": [
    "## TASK 3B\n",
    " - In the cell below, write code to pull up the help information for `data.frame()`:"
   ]
  },
  {
   "cell_type": "code",
   "execution_count": 17,
   "metadata": {},
   "outputs": [
    {
     "ename": "ERROR",
     "evalue": "Error in structure(list(message = as.character(message), call = call), : argument \"message\" is missing, with no default\n",
     "output_type": "error",
     "traceback": [
      "Error in structure(list(message = as.character(message), call = call), : argument \"message\" is missing, with no default\nTraceback:\n",
      "1. simpleError()",
      "2. structure(list(message = as.character(message), call = call), \n .     class = class)"
     ]
    }
   ],
   "source": [
    "# YOUR CODE HERE\n"
   ]
  },
  {
   "cell_type": "markdown",
   "metadata": {},
   "source": [
    "Finally, we can create fancy boxplots of our data using `ggplot2`:"
   ]
  },
  {
   "cell_type": "code",
   "execution_count": 18,
   "metadata": {},
   "outputs": [
    {
     "data": {},
     "metadata": {},
     "output_type": "display_data"
    },
    {
     "data": {
      "image/png": "[encoded data removed]",
      "text/plain": [
       "plot without title"
      ]
     },
     "metadata": {},
     "output_type": "display_data"
    }
   ],
   "source": [
    "tmp %>% \n",
    "  gather(\"Category\", \"X\") %>%\n",
    "  ggplot(aes(x = Category, y = X, fill = Category)) +\n",
    "    geom_violin() +\n",
    "    stat_summary(fun.y=mean, color='black', geom='point', size = 3) +\n",
    "    labs(title = \"Violin plot\",\n",
    "         subtitle = \"Means indicated as black dots\",\n",
    "         captions = \"Numbers generated in rnorm\") +\n",
    "    theme_bw()"
   ]
  },
  {
   "cell_type": "markdown",
   "metadata": {},
   "source": [
    "Finally, if you want to figure out what the commands above do, you can use the popup help function in Jupyter by adding a question mark before the function:"
   ]
  },
  {
   "cell_type": "code",
   "execution_count": 25,
   "metadata": {
    "collapsed": true
   },
   "outputs": [],
   "source": [
    "# Pull up ggplot documentation\n",
    "?ggplot"
   ]
  },
  {
   "cell_type": "markdown",
   "metadata": {},
   "source": [
    "# What have you learned and what's next?\n",
    "\n",
    "The point of today's lab was simply to get you familiar with the structure of the course and Jupyter notebooks\n",
    "\n",
    "**You should at this point be comfortable:**\n",
    " 1. Logging into JupyterHub\n",
    " 2. Making a new notebook\n",
    " 3. Making a new cell\n",
    " 4. Changing the type of cell between Markdown/Code\n",
    " 5. Writing a tiny bit of markdown\n",
    " 6. Assigning a variable\n",
    " 7. Printing something to the screen\n",
    "\n",
    "Next week we will actually do some scientific computing - so come prepared!"
   ]
  },
  {
   "cell_type": "markdown",
   "metadata": {},
   "source": [
    "---\n",
    "# Task 4\n",
    "---\n",
    "\n",
    "If you're happy with the state of your notebook and you're done all the tasks:\n",
    "1. Save your notebook by clicking the save icon (above left), by selecting `File>Save and Checkpoint`, or by pressing 'command+s'\n",
    "2. Now go back to the dashboard tab of your browser. Click on the assignments tab in the dashboard and submit this assignment. There is also a validate option which will run through your code and tell you if there are coding errors. It doesn't necessarily mean that your answer is correct - it only means the code runs without an error!\n",
    "3. Exit the notebook by selecting `file>Close and Halt`\n",
    "\n",
    "\n",
    "---\n",
    "# ** A bientôt ** !"
   ]
  },
  {
   "cell_type": "code",
   "execution_count": null,
   "metadata": {
    "collapsed": true
   },
   "outputs": [],
   "source": []
  }
 ],
 "metadata": {
  "kernelspec": {
   "display_name": "R",
   "language": "R",
   "name": "ir"
  },
  "language_info": {
   "codemirror_mode": "r",
   "file_extension": ".r",
   "mimetype": "text/x-r-source",
   "name": "R",
   "pygments_lexer": "r",
   "version": "3.4.1"
  }
 },
 "nbformat": 4,
 "nbformat_minor": 2
}
