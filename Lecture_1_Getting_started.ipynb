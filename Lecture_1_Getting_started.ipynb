{
 "cells": [
  {
   "cell_type": "markdown",
   "metadata": {},
   "source": [
    "# Lecture 1 - Getting started with Jupyter and R"
   ]
  },
  {
   "cell_type": "markdown",
   "metadata": {},
   "source": [
    "Welcome to 'The Biologists Toolkit' (what would be in most circumstances called 'Scientific Computing') a course intended to teach you the practical computer skills needed to do Biological science. The course is structured around weekly three-hour lab/lectures using [Jupyter notebooks](http://jupyter.org) (this is one) that allow you to run code in a web browser, making it widely accessible. Along the way there will be small tasks that will teach you how to use them. Not to worry - this week there will no grades but starting next week **these tasks will be worth a large portion of your grades**. So this is a participatory class, intended to teach you useful skills, that should be relatively easy to do well in - provided you attend."
   ]
  },
  {
   "cell_type": "markdown",
   "metadata": {},
   "source": [
    "---\n",
    "# Scientific computing\n",
    "---"
   ]
  },
  {
   "cell_type": "markdown",
   "metadata": {},
   "source": [
    "Scientific computing is the practice and culture of using computers in our daily workflow. This differs from *Computer Science*, which is a research discipline that pushes the envolope of what we can do with computers. Scientific computing employes a set of computer appliations (tools) to efficiently and effectively pursue understand biology. Just like an actual toolbox, the ideal set of applications we use will vary by person and the job at hand, but will be based around a minimum set of things needed to get most jobs done."
   ]
  },
  {
   "cell_type": "markdown",
   "metadata": {},
   "source": [
    "#### *Suggested reading*\n",
    "A recent paper by [*Wilson et al.*](http://journals.plos.org/plosbiology/article?id=10.1371/journal.pbio.1001745) in PLoS Biology gets into detail about scientific computing as a practice, which they structure around several key principles:\n",
    "\n",
    " - Write Programs for People, Not Computers\n",
    " - Let the Computer Do the Work\n",
    " - Make Incremental Changes\n",
    " - Don't Repeat Yourself (or Others)\n",
    " - Plan for Mistakes\n",
    " - Optimize Software Only after It Works Correctly\n",
    " - Document Design and Purpose, Not Mechanics\n",
    " - Collaborate\n",
    "\n",
    "These principles may not mean much now, but they become increasingly important as you move into a scientific career, where publications and reproducible analysis are critical to success. This course is intended to help you understand and develop these principles, using a set of tools and skills that will help you get work done efficiently. We will cover many aspects throughout the course."
   ]
  },
  {
   "cell_type": "markdown",
   "metadata": {},
   "source": [
    "\n",
    "---\n",
    "# Jupyter\n",
    "---"
   ]
  },
  {
   "cell_type": "markdown",
   "metadata": {},
   "source": [
    "Jupyter notebooks are html mashups of code and text that allow you to easily track, share, and reproduce your work. They are an interactive computing environment, where analysis can be completed in a more than [40 programming languages](https://github.com/jupyter/jupyter/wiki/Jupyter-kernels) and data readily displayed in a vairety of ways. We will use Jupyter notebooks exclusively for this course, both for lecture/lab material and for submitting assignments. This will be done through Jupyter's server-based platform, [JupyterHub](https://jupyterhub.readthedocs.io/en/latest/)."
   ]
  },
  {
   "cell_type": "markdown",
   "metadata": {
    "collapsed": true
   },
   "source": [
    "By design, Jupyter notebooks allow you to write code and describe what you're doing as you go along. This is particuarly helpful for sharing with others (reproducability) and for writing up methods. For example:"
   ]
  },
  {
   "cell_type": "code",
   "execution_count": 1,
   "metadata": {
    "collapsed": true
   },
   "outputs": [],
   "source": [
    "xnew = sin(3)"
   ]
  },
  {
   "cell_type": "code",
   "execution_count": 2,
   "metadata": {},
   "outputs": [
    {
     "data": {
      "text/html": [
       "0.141120008059867"
      ],
      "text/latex": [
       "0.141120008059867"
      ],
      "text/markdown": [
       "0.141120008059867"
      ],
      "text/plain": [
       "[1] 0.14112"
      ]
     },
     "metadata": {},
     "output_type": "display_data"
    }
   ],
   "source": [
    "xnew"
   ]
  },
  {
   "cell_type": "code",
   "execution_count": 3,
   "metadata": {
    "collapsed": true
   },
   "outputs": [],
   "source": [
    "ynew = sqrt(345)"
   ]
  },
  {
   "cell_type": "code",
   "execution_count": 4,
   "metadata": {},
   "outputs": [
    {
     "data": {
      "text/html": [
       "2.62118781334186"
      ],
      "text/latex": [
       "2.62118781334186"
      ],
      "text/markdown": [
       "2.62118781334186"
      ],
      "text/plain": [
       "[1] 2.621188"
      ]
     },
     "metadata": {},
     "output_type": "display_data"
    }
   ],
   "source": [
    "xnew*ynew"
   ]
  },
  {
   "cell_type": "markdown",
   "metadata": {},
   "source": [
    "By storing things as objects, they can be used and reused as needed."
   ]
  },
  {
   "cell_type": "markdown",
   "metadata": {},
   "source": [
    "#### Kernels\n",
    "\n",
    "Jupyter notebooks are powered by what are called [kernels](http://jupyter.readthedocs.io/en/latest/projects/kernels.html), instances of a given program that power the computation behind them."
   ]
  },
  {
   "cell_type": "markdown",
   "metadata": {},
   "source": [
    "### Markdown\n",
    "\n",
    "The text in Jupyter notebooks is handled by a great bit of rich text shorthand developed by [John Gruber](https://twitter.com/gruber) called [Markdown](https://daringfireball.net/projects/markdown/syntax). Markdown allows very simple symbols and indentations to create html that can be used by a wide variety of programs and we will use it exclusively for text in this course, including writing your assignments. There are a TON of tutorials and information online about Markdown so feel free to use those resources."
   ]
  },
  {
   "cell_type": "markdown",
   "metadata": {},
   "source": [
    "---\n",
    "### TASK 1\n",
    "---\n",
    "Markdown is a really simple way to make formatted text. It is extremely common in the computer world. You can use a wide variety of special characters to format the text. With this your can make **bold**/*italic* or lists  and tables.\n",
    "\n",
    " - Below this cell create a new cell using the 'insert' command on the menu above. \n",
    " - In that cell use the drop down menu that says \"Code\" or \"Markdown\" and select \"Markdown\" to change the type of cell.\n",
    " - Check out the help menu for Markdown. It will start a new tab where you can select \"Basic writing and formatting syntax\" to view some of the ways you can modify your text.\n",
    " - play around entering some text and then press the play button OR shift-enter to 'compile' your text. By double clicking on the cell you can enter back into the editing mode. \n",
    " \n",
    " - **Write a note to yourself**\n",
    "   - start with a header\n",
    "   - include bold and italic text\n",
    "   - make a numbered/bulleted list"
   ]
  },
  {
   "cell_type": "markdown",
   "metadata": {
    "collapsed": true
   },
   "source": [
    "---\n",
    "# R\n",
    "---"
   ]
  },
  {
   "cell_type": "markdown",
   "metadata": {},
   "source": [
    "['R'](https://www.r-project.org) is the most commonly-used programming language among biologists today, primarily due to its [object-oriented](https://en.wikipedia.org/wiki/Object-oriented_programming) syntax and its powerful statistical and graphics capabilities. While R may eventually be overtaken by [Python](https://www.python.org), it is widely used and learning it here will serve you well should you eventually make the switch. So to start, let's begin with the [traditional first thing](https://en.wikipedia.org/wiki/\"Hello,_World!\"_program) anyone does in any programming language: `hello world`."
   ]
  },
  {
   "cell_type": "code",
   "execution_count": 5,
   "metadata": {},
   "outputs": [
    {
     "name": "stdout",
     "output_type": "stream",
     "text": [
      "[1] \"hello, world\"\n"
     ]
    }
   ],
   "source": [
    "# press play\n",
    "print('hello, world')"
   ]
  },
  {
   "cell_type": "markdown",
   "metadata": {},
   "source": [
    "---\n",
    "Let's break down what just happened.\n",
    "\n",
    "The first line started with a `#` which means that R will ignore it. It's called a comment line (and it's not a coincidence that the same symbol is used for hashtags in Twitter!) and comments are your best long lost friends because they tell you what you used to know about your code when you come back to it a year from now.\n",
    "\n",
    "In any basic computer program, one of the most important things you can do is generate output. The simplest way in R is to use the `print()` function. Don't worry, this won't set off any printers - it's only printing to the screen in the format of a typical R function - *i.e.* using parentheses. It works like this:\n",
    "\n",
    "    print('Hello World')\n",
    "\n",
    "The line above is called *a statement.*\n",
    "\n",
    "`print()` is the name of a specific function. Functions are things in any programming language that *do something* and in general they are the name of the function followed by regular brackets or parantheses.\n",
    "\n",
    "The parentheses are there because within them you place so-called *arguments* - an argument is simply an input needed for the function to operate. In this case if you want the computer to print, the only argument necessary is what to print -- which you provide.\n",
    "\n",
    "*There are several different types of brackets in R, so for clarity we will always refer to parentheses\n",
    "when we mean these: *`()`*, square brackets when we mean these: *`[]`* and curly braces when we mean these: *`{}`\n",
    "\n",
    "\n",
    "### An important note on quotes and `strings`\n",
    "\n",
    "In normal writing, we only surround a bit of text in quotes when we want to convey that they are being said by somebody. In R, however, we can surround a little bit of text in quotes to indicate to the program that this is just a  bit of text and not something it needs to execute (run). \n",
    "\n",
    "By programing convention we call text in quotes a `string` - as in a string of characters. Strings are always surrounded by quotes. That is how programming languages are able to tell the difference between the instructions (like the function name) and the text (the thing we want to print). It is also how you tell the difference between the number 1 and the character \"1\". There is no real difference between single or double quotes for strings – R will happily accept either. This can be handy when you want to have a quotation mark as part of your string!"
   ]
  },
  {
   "cell_type": "markdown",
   "metadata": {},
   "source": [
    "---\n",
    "# Storing variables as objects\n",
    "---\n",
    "The most common actions you will do in R are to execute commands (run things) and assign objects (store things). If you  want to refer to something, like a string or a number, without writing the whole thing out you can assign that item a name and create an R object. \n",
    "\n",
    "You've been doing it since you first started algebra, when your teacher first wrote \"let x = 7\". Similarly, we can take strings, numbers, data, and functions in R and assign a name to it using either an `=` or `->`. The `->` convention comes from the pre-cursor to R - [S](https://en.wikipedia.org/wiki/S_(programming_language)) - which reserved the `=` for its mathematical definition. R is more flexible and can use either. One further point is that the arrow can go either way:"
   ]
  },
  {
   "cell_type": "code",
   "execution_count": 3,
   "metadata": {},
   "outputs": [],
   "source": [
    "x <- 10\n",
    "10 -> y"
   ]
  },
  {
   "cell_type": "code",
   "execution_count": 4,
   "metadata": {},
   "outputs": [
    {
     "name": "stdout",
     "output_type": "stream",
     "text": [
      "[1] 10\n",
      "[1] 10\n"
     ]
    }
   ],
   "source": [
    "print(y)\n",
    "print(x)"
   ]
  },
  {
   "cell_type": "markdown",
   "metadata": {},
   "source": [
    "These actions are called assignments, and once we've done them, we can use the variable names as objects that contain far more than just the letters within them."
   ]
  },
  {
   "cell_type": "markdown",
   "metadata": {},
   "source": [
    "---\n",
    "## TASK 2\n",
    "---\n",
    "Following the instructions below to store/print your name in tasks 2A-C.\n",
    " \n",
    "\n",
    "This is the first time you will see how simple tasks will be graded in BIOL 3872. Questions are generally broken up into 3 parts:\n",
    "\n",
    "1. You will be given a set of instructions. The instructions will tell you the name of the variable to store your answer. Follow this name **EXACTLY** -. e.g. In task 2A the variable used to store your answer is my_name - and like every programming language on earth **it is case-sensitive**. You will also be told what kind of information should be stored in your answer. In this case we want a string. Through the course we will learn to deal many other types of data.\n",
    "\n",
    "2. The second part is where you write your answer. When the assignment is graded the **code in the answer cell will be run to define your answer**. In some instances if you're wrong you may recieve part marks if you've made a valiant attempt. You will see some R code in the cell. This code **must be deleted**. The code is there to tell you that you didn't answer the question when you validate and submit your assignment.\n",
    "\n",
    "3. The last cell is the test cell. You should never alter this cell. When your assignments are graded the test cell will be reset to its original form, so nothing you do in the test cell will be saved. When I am being nice I can have this cell give you hints as to the correct answer. In today's lab I'll be nice - not so often during the tests!"
   ]
  },
  {
   "cell_type": "markdown",
   "metadata": {},
   "source": [
    "### TASK 2A\n",
    " - in the cell below store your name in a variable called `my_name`\n",
    " - make sure to store your name as a `string`!"
   ]
  },
  {
   "cell_type": "code",
   "execution_count": 4,
   "metadata": {},
   "outputs": [],
   "source": [
    "# YOUR CODE HERE\n"
   ]
  },
  {
   "cell_type": "markdown",
   "metadata": {},
   "source": [
    "### TASK 2B\n",
    " - in the cell below use `print()` to output your name. You can do this by giving print() the variable `my_name` from 2A"
   ]
  },
  {
   "cell_type": "code",
   "execution_count": 9,
   "metadata": {
    "collapsed": true
   },
   "outputs": [],
   "source": [
    "# YOUR CODE HERE\n"
   ]
  },
  {
   "cell_type": "markdown",
   "metadata": {},
   "source": [
    "It may seem obvious, but a key feature of Jupyter Notebooks is that once that variable has been assigned it will be available to other cells. If you change the value of a variable by assigning it a new value - you will replace the old value, and any cell that is run from that point on will only reflect the new value."
   ]
  },
  {
   "cell_type": "markdown",
   "metadata": {
    "collapsed": true
   },
   "source": [
    "### TASK 2C \n",
    " - In the cell below change the value of the variable `my_name` and then re-run the the print statement from 2B above:"
   ]
  },
  {
   "cell_type": "code",
   "execution_count": 10,
   "metadata": {
    "collapsed": true
   },
   "outputs": [],
   "source": [
    "# YOUR CODE HERE\n"
   ]
  },
  {
   "cell_type": "markdown",
   "metadata": {},
   "source": [
    "# TASK 3\n",
    "\n",
    "Your working directory for the class is your own. You can always make a new notebook to contain your ideas, to practice coding or test your syntax.\n",
    "\n",
    "## TASK 3A \n",
    " - Go to the browser tab with your Jupyter Dashboard and create a new notebook. Use the drop down menu \"New\" in the top right and select \"R\"\n",
    " - Rename this notebook by clicking near the top where it says \"Untitled\"\n",
    " - print hello world using R\n",
    " - Close the notebook by going to `file>Close and Halt`. If you don't Close and Halt, ie if you just close the browser tab, your notebook will stay running in the background. You can re-enter it from the dashboard or alternatively you can select it in the dashboard and clicking the yellow `Shutdown` button. Please, please don't press the Trash icon - I won't be able to help you if you delete your notebook.\n",
    " - If you want you can play around making folders, renaming them, and moving your notebooks.\n",
    " "
   ]
  },
  {
   "cell_type": "markdown",
   "metadata": {},
   "source": [
    "---\n",
    "# Graphics in R and Jupyter Notebooks\n",
    "---\n",
    "If you've ever wondered where all the fancy plots you see in scientific papers are coming from - they are made using computer programming. There are a huge number of tools for making graphics to visualize data - we are going to touch on graphics in later labs. But for now, run each of the cells below to see some spiffy graphics generated from real data."
   ]
  },
  {
   "cell_type": "code",
   "execution_count": 11,
   "metadata": {},
   "outputs": [
    {
     "name": "stderr",
     "output_type": "stream",
     "text": [
      "Loading required package: ggplot2\n",
      "Loading required package: tidyr\n"
     ]
    }
   ],
   "source": [
    "# Load graphics packages\n",
    "require(ggplot2); require(tidyr)"
   ]
  },
  {
   "cell_type": "markdown",
   "metadata": {},
   "source": [
    "Here we're using R's `require()` command to load two R packages created by [Hadley Wickham](https://twitter.com/hadleywickham) - `ggplot2`, which is an important graphics package for rapidly producing graphics, and `tidyr`, which is an importat package for producing [tidy data](https://en.wikipedia.org/wiki/Tidy_data). By tidy data we mean:\n",
    "\n",
    " - Each variable is in a column.\n",
    " - Each observation is a row.\n",
    " - Each value is a cell.\n",
    "\n",
    "This may seem obvious (or not) but it is an **essential** element of using computers and doing analyis in biology. You will learn why in upcoming lectures.\n",
    "\n",
    "You should also notice that each line is commented; while this is overkill here (we have the Markdown text after all), it is also good practice. At this point you should overcomment, rather than undercomment, but do so as succinctly as possible.\n",
    "\n",
    "Next we can create some data:"
   ]
  },
  {
   "cell_type": "code",
   "execution_count": 8,
   "metadata": {},
   "outputs": [
    {
     "data": {
      "text/html": [
       "<table>\n",
       "<thead><tr><th scope=col>A</th><th scope=col>B</th><th scope=col>C</th></tr></thead>\n",
       "<tbody>\n",
       "\t<tr><td> 0.5795104</td><td>-0.9968368</td><td>-0.3878733</td></tr>\n",
       "\t<tr><td> 0.8226997</td><td> 0.4385410</td><td> 1.2053583</td></tr>\n",
       "\t<tr><td> 1.1089932</td><td>-0.3733587</td><td>-0.9286086</td></tr>\n",
       "\t<tr><td> 2.3040142</td><td> 0.6329588</td><td> 0.7938835</td></tr>\n",
       "\t<tr><td> 0.1539320</td><td>-0.2576218</td><td> 1.7697807</td></tr>\n",
       "\t<tr><td>-0.9308509</td><td> 1.4113152</td><td>-0.7886709</td></tr>\n",
       "</tbody>\n",
       "</table>\n"
      ],
      "text/latex": [
       "\\begin{tabular}{r|lll}\n",
       " A & B & C\\\\\n",
       "\\hline\n",
       "\t  0.5795104 & -0.9968368 & -0.3878733\\\\\n",
       "\t  0.8226997 &  0.4385410 &  1.2053583\\\\\n",
       "\t  1.1089932 & -0.3733587 & -0.9286086\\\\\n",
       "\t  2.3040142 &  0.6329588 &  0.7938835\\\\\n",
       "\t  0.1539320 & -0.2576218 &  1.7697807\\\\\n",
       "\t -0.9308509 &  1.4113152 & -0.7886709\\\\\n",
       "\\end{tabular}\n"
      ],
      "text/markdown": [
       "\n",
       "A | B | C | \n",
       "|---|---|---|---|---|---|\n",
       "|  0.5795104 | -0.9968368 | -0.3878733 | \n",
       "|  0.8226997 |  0.4385410 |  1.2053583 | \n",
       "|  1.1089932 | -0.3733587 | -0.9286086 | \n",
       "|  2.3040142 |  0.6329588 |  0.7938835 | \n",
       "|  0.1539320 | -0.2576218 |  1.7697807 | \n",
       "| -0.9308509 |  1.4113152 | -0.7886709 | \n",
       "\n",
       "\n"
      ],
      "text/plain": [
       "  A          B          C         \n",
       "1  0.5795104 -0.9968368 -0.3878733\n",
       "2  0.8226997  0.4385410  1.2053583\n",
       "3  1.1089932 -0.3733587 -0.9286086\n",
       "4  2.3040142  0.6329588  0.7938835\n",
       "5  0.1539320 -0.2576218  1.7697807\n",
       "6 -0.9308509  1.4113152 -0.7886709"
      ]
     },
     "metadata": {},
     "output_type": "display_data"
    }
   ],
   "source": [
    "# Create some disposible random data\n",
    "tmp = data.frame(replicate(3,rnorm(100,0,1)))\n",
    "# Name the columns\n",
    "colnames(tmp) = c('A','B','C')\n",
    "# Take a look\n",
    "head(tmp)"
   ]
  },
  {
   "cell_type": "code",
   "execution_count": 17,
   "metadata": {},
   "outputs": [
    {
     "data": {
      "text/html": [
       "<table>\n",
       "<thead><tr><th scope=col>col1</th><th scope=col>col2</th><th scope=col>col3</th></tr></thead>\n",
       "<tbody>\n",
       "\t<tr><td>-0.53440355</td><td> 0.39621621</td><td>-0.06102022</td></tr>\n",
       "\t<tr><td>-0.50882269</td><td> 0.90933038</td><td> 1.40998076</td></tr>\n",
       "\t<tr><td> 1.10123513</td><td> 0.01782216</td><td> 0.36649672</td></tr>\n",
       "\t<tr><td>-0.40574128</td><td> 1.61094357</td><td> 1.54249273</td></tr>\n",
       "\t<tr><td>-0.85993396</td><td> 0.49994449</td><td>-1.16251450</td></tr>\n",
       "\t<tr><td>-1.70698572</td><td> 0.48333686</td><td> 0.29337478</td></tr>\n",
       "\t<tr><td>-1.61274966</td><td> 1.90183527</td><td>-0.63625836</td></tr>\n",
       "\t<tr><td>-0.07934177</td><td>-0.77506096</td><td>-0.37447136</td></tr>\n",
       "\t<tr><td> 0.49589102</td><td>-0.82400761</td><td>-0.01532675</td></tr>\n",
       "\t<tr><td> 0.79551842</td><td>-0.48358948</td><td> 0.80276447</td></tr>\n",
       "\t<tr><td> 0.55429698</td><td> 0.84765096</td><td> 0.37584565</td></tr>\n",
       "\t<tr><td> 0.61405414</td><td> 1.17063556</td><td> 0.60434106</td></tr>\n",
       "\t<tr><td> 1.52748201</td><td>-0.25547783</td><td> 0.35129092</td></tr>\n",
       "\t<tr><td> 2.26751929</td><td>-0.39729985</td><td> 1.55284251</td></tr>\n",
       "\t<tr><td>-0.45159292</td><td>-2.76768545</td><td> 0.51374235</td></tr>\n",
       "\t<tr><td>-1.63111636</td><td>-1.09092195</td><td>-2.34069846</td></tr>\n",
       "\t<tr><td> 1.15580436</td><td>-1.02587797</td><td>-0.50864501</td></tr>\n",
       "\t<tr><td> 0.41454431</td><td> 1.50420251</td><td> 1.25302396</td></tr>\n",
       "\t<tr><td>-0.35329089</td><td> 0.44957801</td><td> 0.33109465</td></tr>\n",
       "\t<tr><td>-0.27863488</td><td>-0.79937062</td><td>-0.50686099</td></tr>\n",
       "\t<tr><td>-0.40998203</td><td>-0.89978916</td><td>-0.77870582</td></tr>\n",
       "\t<tr><td>-0.29663328</td><td>-0.49071037</td><td> 0.65045145</td></tr>\n",
       "\t<tr><td> 1.55091718</td><td> 0.41650488</td><td> 0.42304378</td></tr>\n",
       "\t<tr><td> 0.69684085</td><td> 2.29454514</td><td>-1.35257251</td></tr>\n",
       "\t<tr><td> 1.83019548</td><td>-0.73462875</td><td>-0.91774731</td></tr>\n",
       "\t<tr><td> 1.74120633</td><td>-0.51160697</td><td> 0.12460995</td></tr>\n",
       "\t<tr><td>-0.60768529</td><td> 0.39765503</td><td>-0.20931446</td></tr>\n",
       "\t<tr><td> 0.72160555</td><td>-0.33449048</td><td>-0.23415829</td></tr>\n",
       "\t<tr><td>-0.66937974</td><td>-0.21276573</td><td>-0.05706304</td></tr>\n",
       "\t<tr><td>-0.55114791</td><td>-0.58256456</td><td>-0.05931637</td></tr>\n",
       "\t<tr><td>...</td><td>...</td><td>...</td></tr>\n",
       "\t<tr><td>-0.67322743 </td><td> 0.247847272</td><td>-1.07642999 </td></tr>\n",
       "\t<tr><td>-1.49059356 </td><td>-0.113677115</td><td>-0.31743963 </td></tr>\n",
       "\t<tr><td>-0.20132145 </td><td> 0.319129797</td><td>-0.85205492 </td></tr>\n",
       "\t<tr><td> 0.82336080 </td><td>-1.820206900</td><td>-0.01404236 </td></tr>\n",
       "\t<tr><td> 0.94887784 </td><td> 1.675050208</td><td>-1.33136750 </td></tr>\n",
       "\t<tr><td>-1.15414981 </td><td> 0.926523384</td><td> 1.13710070 </td></tr>\n",
       "\t<tr><td>-0.08275742 </td><td>-0.657533577</td><td>-1.73513288 </td></tr>\n",
       "\t<tr><td>-0.76494887 </td><td>-0.620888937</td><td>-0.92819124 </td></tr>\n",
       "\t<tr><td> 0.18948550 </td><td> 2.025965254</td><td> 0.24890474 </td></tr>\n",
       "\t<tr><td> 0.77443534 </td><td>-0.004192825</td><td> 1.18334770 </td></tr>\n",
       "\t<tr><td>-1.05622333 </td><td>-1.143221942</td><td> 0.12025912 </td></tr>\n",
       "\t<tr><td> 0.88950431 </td><td> 0.067948645</td><td> 2.83097493 </td></tr>\n",
       "\t<tr><td>-0.01574627 </td><td>-1.731236068</td><td>-1.75476195 </td></tr>\n",
       "\t<tr><td>-2.40374559 </td><td>-1.411369958</td><td> 0.07633185 </td></tr>\n",
       "\t<tr><td> 0.09501118 </td><td>-1.351967230</td><td> 1.69958748 </td></tr>\n",
       "\t<tr><td> 0.13806428 </td><td>-2.435558036</td><td> 0.96755803 </td></tr>\n",
       "\t<tr><td>-0.20873187 </td><td> 0.200763104</td><td> 1.49011041 </td></tr>\n",
       "\t<tr><td>-1.65648584 </td><td> 0.408923004</td><td>-0.05368983 </td></tr>\n",
       "\t<tr><td> 0.96096068 </td><td>-0.282735160</td><td>-0.92385677 </td></tr>\n",
       "\t<tr><td> 0.59853228 </td><td>-0.854668114</td><td> 0.75919223 </td></tr>\n",
       "\t<tr><td>-0.99582905 </td><td>-0.505167126</td><td> 0.13791742 </td></tr>\n",
       "\t<tr><td> 0.74171595 </td><td>-0.952421112</td><td> 0.21527983 </td></tr>\n",
       "\t<tr><td> 0.41897032 </td><td>-0.054282369</td><td>-1.68559766 </td></tr>\n",
       "\t<tr><td> 0.07183232 </td><td> 0.114816493</td><td> 2.08179959 </td></tr>\n",
       "\t<tr><td> 1.68640185 </td><td>-0.379229692</td><td>-0.90865969 </td></tr>\n",
       "\t<tr><td> 0.83601183 </td><td>-0.498944219</td><td>-0.91757019 </td></tr>\n",
       "\t<tr><td>-0.38874759 </td><td> 0.580035522</td><td>-1.15698686 </td></tr>\n",
       "\t<tr><td>-0.33630073 </td><td> 0.622239257</td><td> 1.58740512 </td></tr>\n",
       "\t<tr><td> 0.52494987 </td><td>-1.734837293</td><td>-0.24440415 </td></tr>\n",
       "\t<tr><td>-0.45807295 </td><td> 0.685290586</td><td>-0.03860377 </td></tr>\n",
       "</tbody>\n",
       "</table>\n"
      ],
      "text/latex": [
       "\\begin{tabular}{r|lll}\n",
       " col1 & col2 & col3\\\\\n",
       "\\hline\n",
       "\t -0.53440355 &  0.39621621 & -0.06102022\\\\\n",
       "\t -0.50882269 &  0.90933038 &  1.40998076\\\\\n",
       "\t  1.10123513 &  0.01782216 &  0.36649672\\\\\n",
       "\t -0.40574128 &  1.61094357 &  1.54249273\\\\\n",
       "\t -0.85993396 &  0.49994449 & -1.16251450\\\\\n",
       "\t -1.70698572 &  0.48333686 &  0.29337478\\\\\n",
       "\t -1.61274966 &  1.90183527 & -0.63625836\\\\\n",
       "\t -0.07934177 & -0.77506096 & -0.37447136\\\\\n",
       "\t  0.49589102 & -0.82400761 & -0.01532675\\\\\n",
       "\t  0.79551842 & -0.48358948 &  0.80276447\\\\\n",
       "\t  0.55429698 &  0.84765096 &  0.37584565\\\\\n",
       "\t  0.61405414 &  1.17063556 &  0.60434106\\\\\n",
       "\t  1.52748201 & -0.25547783 &  0.35129092\\\\\n",
       "\t  2.26751929 & -0.39729985 &  1.55284251\\\\\n",
       "\t -0.45159292 & -2.76768545 &  0.51374235\\\\\n",
       "\t -1.63111636 & -1.09092195 & -2.34069846\\\\\n",
       "\t  1.15580436 & -1.02587797 & -0.50864501\\\\\n",
       "\t  0.41454431 &  1.50420251 &  1.25302396\\\\\n",
       "\t -0.35329089 &  0.44957801 &  0.33109465\\\\\n",
       "\t -0.27863488 & -0.79937062 & -0.50686099\\\\\n",
       "\t -0.40998203 & -0.89978916 & -0.77870582\\\\\n",
       "\t -0.29663328 & -0.49071037 &  0.65045145\\\\\n",
       "\t  1.55091718 &  0.41650488 &  0.42304378\\\\\n",
       "\t  0.69684085 &  2.29454514 & -1.35257251\\\\\n",
       "\t  1.83019548 & -0.73462875 & -0.91774731\\\\\n",
       "\t  1.74120633 & -0.51160697 &  0.12460995\\\\\n",
       "\t -0.60768529 &  0.39765503 & -0.20931446\\\\\n",
       "\t  0.72160555 & -0.33449048 & -0.23415829\\\\\n",
       "\t -0.66937974 & -0.21276573 & -0.05706304\\\\\n",
       "\t -0.55114791 & -0.58256456 & -0.05931637\\\\\n",
       "\t ... & ... & ...\\\\\n",
       "\t -0.67322743  &  0.247847272 & -1.07642999 \\\\\n",
       "\t -1.49059356  & -0.113677115 & -0.31743963 \\\\\n",
       "\t -0.20132145  &  0.319129797 & -0.85205492 \\\\\n",
       "\t  0.82336080  & -1.820206900 & -0.01404236 \\\\\n",
       "\t  0.94887784  &  1.675050208 & -1.33136750 \\\\\n",
       "\t -1.15414981  &  0.926523384 &  1.13710070 \\\\\n",
       "\t -0.08275742  & -0.657533577 & -1.73513288 \\\\\n",
       "\t -0.76494887  & -0.620888937 & -0.92819124 \\\\\n",
       "\t  0.18948550  &  2.025965254 &  0.24890474 \\\\\n",
       "\t  0.77443534  & -0.004192825 &  1.18334770 \\\\\n",
       "\t -1.05622333  & -1.143221942 &  0.12025912 \\\\\n",
       "\t  0.88950431  &  0.067948645 &  2.83097493 \\\\\n",
       "\t -0.01574627  & -1.731236068 & -1.75476195 \\\\\n",
       "\t -2.40374559  & -1.411369958 &  0.07633185 \\\\\n",
       "\t  0.09501118  & -1.351967230 &  1.69958748 \\\\\n",
       "\t  0.13806428  & -2.435558036 &  0.96755803 \\\\\n",
       "\t -0.20873187  &  0.200763104 &  1.49011041 \\\\\n",
       "\t -1.65648584  &  0.408923004 & -0.05368983 \\\\\n",
       "\t  0.96096068  & -0.282735160 & -0.92385677 \\\\\n",
       "\t  0.59853228  & -0.854668114 &  0.75919223 \\\\\n",
       "\t -0.99582905  & -0.505167126 &  0.13791742 \\\\\n",
       "\t  0.74171595  & -0.952421112 &  0.21527983 \\\\\n",
       "\t  0.41897032  & -0.054282369 & -1.68559766 \\\\\n",
       "\t  0.07183232  &  0.114816493 &  2.08179959 \\\\\n",
       "\t  1.68640185  & -0.379229692 & -0.90865969 \\\\\n",
       "\t  0.83601183  & -0.498944219 & -0.91757019 \\\\\n",
       "\t -0.38874759  &  0.580035522 & -1.15698686 \\\\\n",
       "\t -0.33630073  &  0.622239257 &  1.58740512 \\\\\n",
       "\t  0.52494987  & -1.734837293 & -0.24440415 \\\\\n",
       "\t -0.45807295  &  0.685290586 & -0.03860377 \\\\\n",
       "\\end{tabular}\n"
      ],
      "text/markdown": [
       "\n",
       "col1 | col2 | col3 | \n",
       "|---|---|---|---|---|---|---|---|---|---|---|---|---|---|---|---|---|---|---|---|---|---|---|---|---|---|---|---|---|---|---|---|---|---|---|---|---|---|---|---|---|---|---|---|---|---|---|---|---|---|---|---|---|---|---|---|---|---|---|---|---|\n",
       "| -0.53440355 |  0.39621621 | -0.06102022 | \n",
       "| -0.50882269 |  0.90933038 |  1.40998076 | \n",
       "|  1.10123513 |  0.01782216 |  0.36649672 | \n",
       "| -0.40574128 |  1.61094357 |  1.54249273 | \n",
       "| -0.85993396 |  0.49994449 | -1.16251450 | \n",
       "| -1.70698572 |  0.48333686 |  0.29337478 | \n",
       "| -1.61274966 |  1.90183527 | -0.63625836 | \n",
       "| -0.07934177 | -0.77506096 | -0.37447136 | \n",
       "|  0.49589102 | -0.82400761 | -0.01532675 | \n",
       "|  0.79551842 | -0.48358948 |  0.80276447 | \n",
       "|  0.55429698 |  0.84765096 |  0.37584565 | \n",
       "|  0.61405414 |  1.17063556 |  0.60434106 | \n",
       "|  1.52748201 | -0.25547783 |  0.35129092 | \n",
       "|  2.26751929 | -0.39729985 |  1.55284251 | \n",
       "| -0.45159292 | -2.76768545 |  0.51374235 | \n",
       "| -1.63111636 | -1.09092195 | -2.34069846 | \n",
       "|  1.15580436 | -1.02587797 | -0.50864501 | \n",
       "|  0.41454431 |  1.50420251 |  1.25302396 | \n",
       "| -0.35329089 |  0.44957801 |  0.33109465 | \n",
       "| -0.27863488 | -0.79937062 | -0.50686099 | \n",
       "| -0.40998203 | -0.89978916 | -0.77870582 | \n",
       "| -0.29663328 | -0.49071037 |  0.65045145 | \n",
       "|  1.55091718 |  0.41650488 |  0.42304378 | \n",
       "|  0.69684085 |  2.29454514 | -1.35257251 | \n",
       "|  1.83019548 | -0.73462875 | -0.91774731 | \n",
       "|  1.74120633 | -0.51160697 |  0.12460995 | \n",
       "| -0.60768529 |  0.39765503 | -0.20931446 | \n",
       "|  0.72160555 | -0.33449048 | -0.23415829 | \n",
       "| -0.66937974 | -0.21276573 | -0.05706304 | \n",
       "| -0.55114791 | -0.58256456 | -0.05931637 | \n",
       "| ... | ... | ... | \n",
       "| -0.67322743  |  0.247847272 | -1.07642999  | \n",
       "| -1.49059356  | -0.113677115 | -0.31743963  | \n",
       "| -0.20132145  |  0.319129797 | -0.85205492  | \n",
       "|  0.82336080  | -1.820206900 | -0.01404236  | \n",
       "|  0.94887784  |  1.675050208 | -1.33136750  | \n",
       "| -1.15414981  |  0.926523384 |  1.13710070  | \n",
       "| -0.08275742  | -0.657533577 | -1.73513288  | \n",
       "| -0.76494887  | -0.620888937 | -0.92819124  | \n",
       "|  0.18948550  |  2.025965254 |  0.24890474  | \n",
       "|  0.77443534  | -0.004192825 |  1.18334770  | \n",
       "| -1.05622333  | -1.143221942 |  0.12025912  | \n",
       "|  0.88950431  |  0.067948645 |  2.83097493  | \n",
       "| -0.01574627  | -1.731236068 | -1.75476195  | \n",
       "| -2.40374559  | -1.411369958 |  0.07633185  | \n",
       "|  0.09501118  | -1.351967230 |  1.69958748  | \n",
       "|  0.13806428  | -2.435558036 |  0.96755803  | \n",
       "| -0.20873187  |  0.200763104 |  1.49011041  | \n",
       "| -1.65648584  |  0.408923004 | -0.05368983  | \n",
       "|  0.96096068  | -0.282735160 | -0.92385677  | \n",
       "|  0.59853228  | -0.854668114 |  0.75919223  | \n",
       "| -0.99582905  | -0.505167126 |  0.13791742  | \n",
       "|  0.74171595  | -0.952421112 |  0.21527983  | \n",
       "|  0.41897032  | -0.054282369 | -1.68559766  | \n",
       "|  0.07183232  |  0.114816493 |  2.08179959  | \n",
       "|  1.68640185  | -0.379229692 | -0.90865969  | \n",
       "|  0.83601183  | -0.498944219 | -0.91757019  | \n",
       "| -0.38874759  |  0.580035522 | -1.15698686  | \n",
       "| -0.33630073  |  0.622239257 |  1.58740512  | \n",
       "|  0.52494987  | -1.734837293 | -0.24440415  | \n",
       "| -0.45807295  |  0.685290586 | -0.03860377  | \n",
       "\n",
       "\n"
      ],
      "text/plain": [
       "    col1        col2         col3       \n",
       "1   -0.53440355  0.39621621  -0.06102022\n",
       "2   -0.50882269  0.90933038   1.40998076\n",
       "3    1.10123513  0.01782216   0.36649672\n",
       "4   -0.40574128  1.61094357   1.54249273\n",
       "5   -0.85993396  0.49994449  -1.16251450\n",
       "6   -1.70698572  0.48333686   0.29337478\n",
       "7   -1.61274966  1.90183527  -0.63625836\n",
       "8   -0.07934177 -0.77506096  -0.37447136\n",
       "9    0.49589102 -0.82400761  -0.01532675\n",
       "10   0.79551842 -0.48358948   0.80276447\n",
       "11   0.55429698  0.84765096   0.37584565\n",
       "12   0.61405414  1.17063556   0.60434106\n",
       "13   1.52748201 -0.25547783   0.35129092\n",
       "14   2.26751929 -0.39729985   1.55284251\n",
       "15  -0.45159292 -2.76768545   0.51374235\n",
       "16  -1.63111636 -1.09092195  -2.34069846\n",
       "17   1.15580436 -1.02587797  -0.50864501\n",
       "18   0.41454431  1.50420251   1.25302396\n",
       "19  -0.35329089  0.44957801   0.33109465\n",
       "20  -0.27863488 -0.79937062  -0.50686099\n",
       "21  -0.40998203 -0.89978916  -0.77870582\n",
       "22  -0.29663328 -0.49071037   0.65045145\n",
       "23   1.55091718  0.41650488   0.42304378\n",
       "24   0.69684085  2.29454514  -1.35257251\n",
       "25   1.83019548 -0.73462875  -0.91774731\n",
       "26   1.74120633 -0.51160697   0.12460995\n",
       "27  -0.60768529  0.39765503  -0.20931446\n",
       "28   0.72160555 -0.33449048  -0.23415829\n",
       "29  -0.66937974 -0.21276573  -0.05706304\n",
       "30  -0.55114791 -0.58256456  -0.05931637\n",
       "... ...         ...          ...        \n",
       "71  -0.67322743  0.247847272 -1.07642999\n",
       "72  -1.49059356 -0.113677115 -0.31743963\n",
       "73  -0.20132145  0.319129797 -0.85205492\n",
       "74   0.82336080 -1.820206900 -0.01404236\n",
       "75   0.94887784  1.675050208 -1.33136750\n",
       "76  -1.15414981  0.926523384  1.13710070\n",
       "77  -0.08275742 -0.657533577 -1.73513288\n",
       "78  -0.76494887 -0.620888937 -0.92819124\n",
       "79   0.18948550  2.025965254  0.24890474\n",
       "80   0.77443534 -0.004192825  1.18334770\n",
       "81  -1.05622333 -1.143221942  0.12025912\n",
       "82   0.88950431  0.067948645  2.83097493\n",
       "83  -0.01574627 -1.731236068 -1.75476195\n",
       "84  -2.40374559 -1.411369958  0.07633185\n",
       "85   0.09501118 -1.351967230  1.69958748\n",
       "86   0.13806428 -2.435558036  0.96755803\n",
       "87  -0.20873187  0.200763104  1.49011041\n",
       "88  -1.65648584  0.408923004 -0.05368983\n",
       "89   0.96096068 -0.282735160 -0.92385677\n",
       "90   0.59853228 -0.854668114  0.75919223\n",
       "91  -0.99582905 -0.505167126  0.13791742\n",
       "92   0.74171595 -0.952421112  0.21527983\n",
       "93   0.41897032 -0.054282369 -1.68559766\n",
       "94   0.07183232  0.114816493  2.08179959\n",
       "95   1.68640185 -0.379229692 -0.90865969\n",
       "96   0.83601183 -0.498944219 -0.91757019\n",
       "97  -0.38874759  0.580035522 -1.15698686\n",
       "98  -0.33630073  0.622239257  1.58740512\n",
       "99   0.52494987 -1.734837293 -0.24440415\n",
       "100 -0.45807295  0.685290586 -0.03860377"
      ]
     },
     "metadata": {},
     "output_type": "display_data"
    }
   ],
   "source": [
    "df <- data.frame(replicate(3,rnorm(100,0,1)))\n",
    "colnames(df) <- c('col1', 'col2', 'col3')\n",
    "df"
   ]
  },
  {
   "cell_type": "code",
   "execution_count": 10,
   "metadata": {},
   "outputs": [],
   "source": [
    "help(rnorm)"
   ]
  },
  {
   "cell_type": "markdown",
   "metadata": {},
   "source": [
    "Here three things happen:\n",
    "\n",
    " - A [Data Frame]() is created, which is a standard R object for storing tabular data\n",
    " - Names are given to the columns using the colnames() function\n",
    " - The top 6 lines of the dataframe are displayed\n",
    " \n",
    "There are a couple of not-so-obvious things here:\n",
    "\n",
    " 1. A standard throw-away object name `tmp` is used - you will quickly learn that good naming of objects is essential to good code but also that sometimes we create objects we don't care about, just to learn how they work. I typically use `tmp` and `tmp1, tmp2, tmp3...etc.` as disposible names, as well as `poo` which is a self-explanitory bit of code from one of my PhD supervisors, [Steve Rushton](http://www.ncl.ac.uk/nes/staff/profile/stevenrushton.html#background).\n",
    " \n",
    " 2. Three built-in R functions are nested in the first line: `data.frame()`, `replicate()`, and `rnorm()`. \n",
    " \n",
    "To figure out what each of these do, we can pull up information for each object using a `?` ahead of the function name."
   ]
  },
  {
   "cell_type": "markdown",
   "metadata": {},
   "source": [
    "## TASK 3B\n",
    " - In the cell below, write code to pull up the help information for `data.frame()`:"
   ]
  },
  {
   "cell_type": "code",
   "execution_count": 13,
   "metadata": {
    "collapsed": true
   },
   "outputs": [],
   "source": [
    "# YOUR CODE HERE\n"
   ]
  },
  {
   "cell_type": "markdown",
   "metadata": {},
   "source": [
    "Finally, we can create fancy boxplots of our data using `ggplot2`:"
   ]
  },
  {
   "cell_type": "code",
   "execution_count": 14,
   "metadata": {},
   "outputs": [
    {
     "data": {},
     "metadata": {},
     "output_type": "display_data"
    },
    {
     "data": {
      "image/png": "[encoded data removed]",
      "text/plain": [
       "plot without title"
      ]
     },
     "metadata": {},
     "output_type": "display_data"
    }
   ],
   "source": [
    "tmp %>% \n",
    "  gather(\"Category\", \"X\") %>%\n",
    "  ggplot(aes(x = Category, y = X, fill = Category)) +\n",
    "    geom_violin() +\n",
    "    stat_summary(fun.y=mean, color='black', geom='point', size = 3) +\n",
    "    labs(title = \"Violin plot\",\n",
    "         subtitle = \"Means indicated as black dots\",\n",
    "         captions = \"Numbers generated in rnorm\") +\n",
    "    theme_bw()"
   ]
  },
  {
   "cell_type": "markdown",
   "metadata": {},
   "source": [
    "Finally, if you want to figure out what the commands above do, you can use the popup help function in Jupyter by adding a question mark before the function:"
   ]
  },
  {
   "cell_type": "code",
   "execution_count": 1,
   "metadata": {},
   "outputs": [],
   "source": [
    "# Pull up ggplot documentation\n",
    "?ggplot"
   ]
  },
  {
   "cell_type": "markdown",
   "metadata": {},
   "source": [
    "# What have you learned and what's next?\n",
    "\n",
    "The point of today's lab was simply to get you familiar with the structure of the course and Jupyter notebooks\n",
    "\n",
    "**You should at this point be comfortable:**\n",
    " 1. Logging into JupyterHub\n",
    " 2. Making a new notebook\n",
    " 3. Making a new cell\n",
    " 4. Changing the type of cell between Markdown/Code\n",
    " 5. Writing a tiny bit of markdown\n",
    " 6. Assigning a variable\n",
    " 7. Printing something to the screen\n",
    "\n",
    "Next week we will actually do some scientific computing - so come prepared!"
   ]
  },
  {
   "cell_type": "markdown",
   "metadata": {},
   "source": [
    "---\n",
    "# Task 4\n",
    "---\n",
    "\n",
    "If you're happy with the state of your notebook and you're done all the tasks:\n",
    "\n",
    "1. Login to Brightspace and click on the link for BIOL3872\n",
    "2. Add your answers to tasks 1-3 into the quiz\n",
    "\n",
    "\n",
    "---\n",
    "# ** A bientôt ** !"
   ]
  }
 ],
 "metadata": {
  "kernelspec": {
   "display_name": "R",
   "language": "R",
   "name": "ir"
  },
  "language_info": {
   "codemirror_mode": "r",
   "file_extension": ".r",
   "mimetype": "text/x-r-source",
   "name": "R",
   "pygments_lexer": "r",
   "version": "3.4.1"
  }
 },
 "nbformat": 4,
 "nbformat_minor": 2
}
