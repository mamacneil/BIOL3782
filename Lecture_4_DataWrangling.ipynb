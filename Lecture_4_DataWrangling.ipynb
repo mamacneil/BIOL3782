{
 "cells": [
  {
   "cell_type": "markdown",
   "metadata": {},
   "source": [
    "# Lecture 4 - Data wrangling"
   ]
  },
  {
   "cell_type": "markdown",
   "metadata": {},
   "source": [
    "Of all the advantages of modern computers the most dominant, awful activity is cleaning data. More than any other task, the job of finding and correcting data errors and putting the data into a machine-usable format dominates the daily lives of [Data Scientists](https://en.wikipedia.org/wiki/Data_science) who are pushing computers into all areas of the modern world. Is is estiamted that up to [80% of their time is spent data wrangling](https://www.nytimes.com/2014/08/18/technology/for-big-data-scientists-hurdle-to-insights-is-janitor-work.html), which makes the job far less sexy than it might first seem...\n",
    "\n",
    "\n"
   ]
  },
  {
   "cell_type": "markdown",
   "metadata": {},
   "source": [
    "The art of data wrangling lies in doing the most to get data in shape using the fewest possible lines. Anything that can be automated, due to **proper naming and data-storage convetions**, is the best, as you'll be able to do it again, over and over, with little extra effort. To do this effectively, let's look at a few of R's built in data types so we know what we're working with to start. "
   ]
  },
  {
   "cell_type": "markdown",
   "metadata": {},
   "source": [
    "# What's your [vector](https://www.youtube.com/watch?v=fVq4_HhBK8Y)?\n",
    "\n",
    "<img src=\"airplane.jpg\" alt=\"airplane\" width=\"500\"/>\n",
    "\n",
    "The sandard, basic building block of R is the vector or array - a data structure consisting of a collection of elements identified by their relative positions. Pretty much everything is a vector of some sort. Even a single value is a vector, having a single index position:"
   ]
  },
  {
   "cell_type": "code",
   "execution_count": 1,
   "metadata": {
    "collapsed": true
   },
   "outputs": [],
   "source": [
    "x = 2"
   ]
  },
  {
   "cell_type": "code",
   "execution_count": 2,
   "metadata": {},
   "outputs": [
    {
     "data": {
      "text/html": [
       "TRUE"
      ],
      "text/latex": [
       "TRUE"
      ],
      "text/markdown": [
       "TRUE"
      ],
      "text/plain": [
       "[1] TRUE"
      ]
     },
     "metadata": {},
     "output_type": "display_data"
    }
   ],
   "source": [
    "is.vector(x)"
   ]
  },
  {
   "cell_type": "code",
   "execution_count": 3,
   "metadata": {},
   "outputs": [
    {
     "data": {
      "text/html": [
       "2"
      ],
      "text/latex": [
       "2"
      ],
      "text/markdown": [
       "2"
      ],
      "text/plain": [
       "[1] 2"
      ]
     },
     "metadata": {},
     "output_type": "display_data"
    }
   ],
   "source": [
    "x[1]"
   ]
  },
  {
   "cell_type": "code",
   "execution_count": 4,
   "metadata": {},
   "outputs": [
    {
     "data": {
      "text/html": [
       "&lt;NA&gt;"
      ],
      "text/latex": [
       "<NA>"
      ],
      "text/markdown": [
       "&lt;NA&gt;"
      ],
      "text/plain": [
       "[1] NA"
      ]
     },
     "metadata": {},
     "output_type": "display_data"
    }
   ],
   "source": [
    "x[2]"
   ]
  },
  {
   "cell_type": "markdown",
   "metadata": {},
   "source": [
    "Those indexes can also be used on the fly, to change the dimension of an existing vector:"
   ]
  },
  {
   "cell_type": "code",
   "execution_count": 5,
   "metadata": {
    "collapsed": true
   },
   "outputs": [],
   "source": [
    "x[10] = 3"
   ]
  },
  {
   "cell_type": "code",
   "execution_count": 6,
   "metadata": {},
   "outputs": [
    {
     "data": {
      "text/html": [
       "<ol class=list-inline>\n",
       "\t<li>2</li>\n",
       "\t<li>&lt;NA&gt;</li>\n",
       "\t<li>&lt;NA&gt;</li>\n",
       "\t<li>&lt;NA&gt;</li>\n",
       "\t<li>&lt;NA&gt;</li>\n",
       "\t<li>&lt;NA&gt;</li>\n",
       "\t<li>&lt;NA&gt;</li>\n",
       "\t<li>&lt;NA&gt;</li>\n",
       "\t<li>&lt;NA&gt;</li>\n",
       "\t<li>3</li>\n",
       "</ol>\n"
      ],
      "text/latex": [
       "\\begin{enumerate*}\n",
       "\\item 2\n",
       "\\item <NA>\n",
       "\\item <NA>\n",
       "\\item <NA>\n",
       "\\item <NA>\n",
       "\\item <NA>\n",
       "\\item <NA>\n",
       "\\item <NA>\n",
       "\\item <NA>\n",
       "\\item 3\n",
       "\\end{enumerate*}\n"
      ],
      "text/markdown": [
       "1. 2\n",
       "2. &lt;NA&gt;\n",
       "3. &lt;NA&gt;\n",
       "4. &lt;NA&gt;\n",
       "5. &lt;NA&gt;\n",
       "6. &lt;NA&gt;\n",
       "7. &lt;NA&gt;\n",
       "8. &lt;NA&gt;\n",
       "9. &lt;NA&gt;\n",
       "10. 3\n",
       "\n",
       "\n"
      ],
      "text/plain": [
       " [1]  2 NA NA NA NA NA NA NA NA  3"
      ]
     },
     "metadata": {},
     "output_type": "display_data"
    }
   ],
   "source": [
    "x"
   ]
  },
  {
   "cell_type": "markdown",
   "metadata": {},
   "source": [
    "This vectorized behaviour is, unbenownst to most of us, awesome, because it makes some assumptions under the hood that are not immediately obvious. For example if we make a new object:"
   ]
  },
  {
   "cell_type": "code",
   "execution_count": 7,
   "metadata": {},
   "outputs": [
    {
     "data": {
      "text/html": [
       "<ol class=list-inline>\n",
       "\t<li>4</li>\n",
       "\t<li>&lt;NA&gt;</li>\n",
       "\t<li>&lt;NA&gt;</li>\n",
       "\t<li>&lt;NA&gt;</li>\n",
       "\t<li>&lt;NA&gt;</li>\n",
       "\t<li>&lt;NA&gt;</li>\n",
       "\t<li>&lt;NA&gt;</li>\n",
       "\t<li>&lt;NA&gt;</li>\n",
       "\t<li>&lt;NA&gt;</li>\n",
       "\t<li>9</li>\n",
       "</ol>\n"
      ],
      "text/latex": [
       "\\begin{enumerate*}\n",
       "\\item 4\n",
       "\\item <NA>\n",
       "\\item <NA>\n",
       "\\item <NA>\n",
       "\\item <NA>\n",
       "\\item <NA>\n",
       "\\item <NA>\n",
       "\\item <NA>\n",
       "\\item <NA>\n",
       "\\item 9\n",
       "\\end{enumerate*}\n"
      ],
      "text/markdown": [
       "1. 4\n",
       "2. &lt;NA&gt;\n",
       "3. &lt;NA&gt;\n",
       "4. &lt;NA&gt;\n",
       "5. &lt;NA&gt;\n",
       "6. &lt;NA&gt;\n",
       "7. &lt;NA&gt;\n",
       "8. &lt;NA&gt;\n",
       "9. &lt;NA&gt;\n",
       "10. 9\n",
       "\n",
       "\n"
      ],
      "text/plain": [
       " [1]  4 NA NA NA NA NA NA NA NA  9"
      ]
     },
     "metadata": {},
     "output_type": "display_data"
    }
   ],
   "source": [
    "y = x**2\n",
    "y"
   ]
  },
  {
   "cell_type": "markdown",
   "metadata": {},
   "source": [
    "R knows that we want to square each element of `x` to create the new object `y`. While this may not seem remarkable, try to think of how you would have to do it if R couldn't handle a vectorized input:"
   ]
  },
  {
   "cell_type": "markdown",
   "metadata": {},
   "source": [
    "---\n",
    "# Task 1\n",
    "---\n",
    "\n",
    "Create `y = x**2` one element at a time, where `x = c(2, 5, 7, 10)`. Code from Lecture 2 might be helpful here."
   ]
  },
  {
   "cell_type": "code",
   "execution_count": null,
   "metadata": {
    "collapsed": true
   },
   "outputs": [],
   "source": [
    "# Your answer here\n"
   ]
  },
  {
   "cell_type": "markdown",
   "metadata": {},
   "source": [
    "---\n",
    "\n",
    "A very important 'feature' of R, is that it recycles vectors - often without telling you - making it critical that you check the dimensions of things before and after you manipulate them. For example:"
   ]
  },
  {
   "cell_type": "code",
   "execution_count": 14,
   "metadata": {},
   "outputs": [
    {
     "data": {
      "text/html": [
       "3"
      ],
      "text/latex": [
       "3"
      ],
      "text/markdown": [
       "3"
      ],
      "text/plain": [
       "[1] 3"
      ]
     },
     "metadata": {},
     "output_type": "display_data"
    }
   ],
   "source": [
    "x = 1:3\n",
    "z = 4:9\n",
    "length(x)"
   ]
  },
  {
   "cell_type": "code",
   "execution_count": 15,
   "metadata": {},
   "outputs": [
    {
     "data": {
      "text/html": [
       "6"
      ],
      "text/latex": [
       "6"
      ],
      "text/markdown": [
       "6"
      ],
      "text/plain": [
       "[1] 6"
      ]
     },
     "metadata": {},
     "output_type": "display_data"
    }
   ],
   "source": [
    "length(z)"
   ]
  },
  {
   "cell_type": "code",
   "execution_count": 16,
   "metadata": {},
   "outputs": [
    {
     "data": {
      "text/html": [
       "<ol class=list-inline>\n",
       "\t<li>4</li>\n",
       "\t<li>10</li>\n",
       "\t<li>18</li>\n",
       "\t<li>7</li>\n",
       "\t<li>16</li>\n",
       "\t<li>27</li>\n",
       "</ol>\n"
      ],
      "text/latex": [
       "\\begin{enumerate*}\n",
       "\\item 4\n",
       "\\item 10\n",
       "\\item 18\n",
       "\\item 7\n",
       "\\item 16\n",
       "\\item 27\n",
       "\\end{enumerate*}\n"
      ],
      "text/markdown": [
       "1. 4\n",
       "2. 10\n",
       "3. 18\n",
       "4. 7\n",
       "5. 16\n",
       "6. 27\n",
       "\n",
       "\n"
      ],
      "text/plain": [
       "[1]  4 10 18  7 16 27"
      ]
     },
     "metadata": {},
     "output_type": "display_data"
    }
   ],
   "source": [
    "x*z"
   ]
  },
  {
   "cell_type": "markdown",
   "metadata": {},
   "source": [
    "Which, once it messes up your *really important data* a few times, will give you reflexive twitches to check and check again that you're doing what you think you are. \n",
    "\n",
    "## c()\n",
    "\n",
    "R's workhorse vector object is the catenate function `c()`, the name of which means [\"*To connect things together, especially to form a chain*\"](https://en.wiktionary.org/wiki/catenate). What's really important about these objects is that they are by default **all of the same type**. So numbers go with numbers, and strings go with strings etc. Once again, R makes some default decisions about assigning classes to objects within these *atomic vectors*:"
   ]
  },
  {
   "cell_type": "code",
   "execution_count": 17,
   "metadata": {
    "collapsed": true
   },
   "outputs": [],
   "source": [
    "x = c('This','is','intense','eh','?', 42)"
   ]
  },
  {
   "cell_type": "code",
   "execution_count": 18,
   "metadata": {},
   "outputs": [
    {
     "data": {
      "text/html": [
       "'character'"
      ],
      "text/latex": [
       "'character'"
      ],
      "text/markdown": [
       "'character'"
      ],
      "text/plain": [
       "[1] \"character\""
      ]
     },
     "metadata": {},
     "output_type": "display_data"
    }
   ],
   "source": [
    "class(x)"
   ]
  },
  {
   "cell_type": "code",
   "execution_count": 19,
   "metadata": {},
   "outputs": [
    {
     "data": {
      "text/html": [
       "<ol class=list-inline>\n",
       "\t<li>'This'</li>\n",
       "\t<li>'is'</li>\n",
       "\t<li>'intense'</li>\n",
       "\t<li>'eh'</li>\n",
       "\t<li>'?'</li>\n",
       "\t<li>'42'</li>\n",
       "</ol>\n"
      ],
      "text/latex": [
       "\\begin{enumerate*}\n",
       "\\item 'This'\n",
       "\\item 'is'\n",
       "\\item 'intense'\n",
       "\\item 'eh'\n",
       "\\item '?'\n",
       "\\item '42'\n",
       "\\end{enumerate*}\n"
      ],
      "text/markdown": [
       "1. 'This'\n",
       "2. 'is'\n",
       "3. 'intense'\n",
       "4. 'eh'\n",
       "5. '?'\n",
       "6. '42'\n",
       "\n",
       "\n"
      ],
      "text/plain": [
       "[1] \"This\"    \"is\"      \"intense\" \"eh\"      \"?\"       \"42\"     "
      ]
     },
     "metadata": {},
     "output_type": "display_data"
    }
   ],
   "source": [
    "x"
   ]
  },
  {
   "cell_type": "markdown",
   "metadata": {},
   "source": [
    "### list()\n",
    "\n",
    "Unlike atomic vectors such as `c()`, `list()` objects can hold any type of data, as a mixture. This increased flexability comes at the cost of decreased utility, with fewer automagic things built in and generally slower performance.\n",
    "\n",
    "One key feature is that list objects can also have names:"
   ]
  },
  {
   "cell_type": "code",
   "execution_count": 21,
   "metadata": {
    "collapsed": true
   },
   "outputs": [],
   "source": [
    "x = list(3,45,'nutz')"
   ]
  },
  {
   "cell_type": "code",
   "execution_count": 25,
   "metadata": {},
   "outputs": [
    {
     "data": {
      "text/html": [
       "<ol>\n",
       "\t<li>'nutz'</li>\n",
       "</ol>\n"
      ],
      "text/latex": [
       "\\begin{enumerate}\n",
       "\\item 'nutz'\n",
       "\\end{enumerate}\n"
      ],
      "text/markdown": [
       "1. 'nutz'\n",
       "\n",
       "\n"
      ],
      "text/plain": [
       "[[1]]\n",
       "[1] \"nutz\"\n"
      ]
     },
     "metadata": {},
     "output_type": "display_data"
    }
   ],
   "source": [
    "x[3]"
   ]
  },
  {
   "cell_type": "code",
   "execution_count": 26,
   "metadata": {
    "collapsed": true
   },
   "outputs": [],
   "source": [
    "x = list('one'=3, 'two'=45, 'three'='nutz')"
   ]
  },
  {
   "cell_type": "code",
   "execution_count": 27,
   "metadata": {},
   "outputs": [
    {
     "data": {
      "text/html": [
       "<dl>\n",
       "\t<dt>$one</dt>\n",
       "\t\t<dd>3</dd>\n",
       "\t<dt>$two</dt>\n",
       "\t\t<dd>45</dd>\n",
       "\t<dt>$three</dt>\n",
       "\t\t<dd>'nutz'</dd>\n",
       "</dl>\n"
      ],
      "text/latex": [
       "\\begin{description}\n",
       "\\item[\\$one] 3\n",
       "\\item[\\$two] 45\n",
       "\\item[\\$three] 'nutz'\n",
       "\\end{description}\n"
      ],
      "text/markdown": [
       "$one\n",
       ":   3\n",
       "$two\n",
       ":   45\n",
       "$three\n",
       ":   'nutz'\n",
       "\n",
       "\n"
      ],
      "text/plain": [
       "$one\n",
       "[1] 3\n",
       "\n",
       "$two\n",
       "[1] 45\n",
       "\n",
       "$three\n",
       "[1] \"nutz\"\n"
      ]
     },
     "metadata": {},
     "output_type": "display_data"
    }
   ],
   "source": [
    "x"
   ]
  },
  {
   "cell_type": "code",
   "execution_count": 28,
   "metadata": {},
   "outputs": [
    {
     "data": {
      "text/html": [
       "<ol class=list-inline>\n",
       "\t<li>'one'</li>\n",
       "\t<li>'two'</li>\n",
       "\t<li>'three'</li>\n",
       "</ol>\n"
      ],
      "text/latex": [
       "\\begin{enumerate*}\n",
       "\\item 'one'\n",
       "\\item 'two'\n",
       "\\item 'three'\n",
       "\\end{enumerate*}\n"
      ],
      "text/markdown": [
       "1. 'one'\n",
       "2. 'two'\n",
       "3. 'three'\n",
       "\n",
       "\n"
      ],
      "text/plain": [
       "[1] \"one\"   \"two\"   \"three\""
      ]
     },
     "metadata": {},
     "output_type": "display_data"
    }
   ],
   "source": [
    "names(x)"
   ]
  },
  {
   "cell_type": "code",
   "execution_count": 29,
   "metadata": {},
   "outputs": [
    {
     "data": {
      "text/html": [
       "45"
      ],
      "text/latex": [
       "45"
      ],
      "text/markdown": [
       "45"
      ],
      "text/plain": [
       "[1] 45"
      ]
     },
     "metadata": {},
     "output_type": "display_data"
    }
   ],
   "source": [
    "x$two"
   ]
  },
  {
   "cell_type": "code",
   "execution_count": 30,
   "metadata": {},
   "outputs": [
    {
     "data": {
      "text/html": [
       "<strong>$two</strong> = 45"
      ],
      "text/latex": [
       "\\textbf{\\$two} = 45"
      ],
      "text/markdown": [
       "**$two** = 45"
      ],
      "text/plain": [
       "$two\n",
       "[1] 45\n"
      ]
     },
     "metadata": {},
     "output_type": "display_data"
    }
   ],
   "source": [
    "x[2]"
   ]
  },
  {
   "cell_type": "markdown",
   "metadata": {
    "collapsed": true
   },
   "source": [
    "Many programming languages have this kind of behaviour, but in R the important reason to know about lists is that they are the buliding blocks for many kinds of objects, including `data.frame()` and other package function outputs. This is why you can use the `$` to access the columns in `data.frame()`.\n",
    "\n",
    "List indexing is also a bit different, in that it uses double-square brackets `[[]]` to do the indexing, often as a nested object."
   ]
  },
  {
   "cell_type": "code",
   "execution_count": 31,
   "metadata": {
    "collapsed": true
   },
   "outputs": [],
   "source": [
    "x = list('this'=c(1,4,6,7:20), 'is'=TRUE, 'some'=2:7, 'list'=c(4,3,5.44))"
   ]
  },
  {
   "cell_type": "code",
   "execution_count": 33,
   "metadata": {},
   "outputs": [
    {
     "data": {
      "text/html": [
       "<ol class=list-inline>\n",
       "\t<li>1</li>\n",
       "\t<li>4</li>\n",
       "\t<li>6</li>\n",
       "\t<li>7</li>\n",
       "\t<li>8</li>\n",
       "\t<li>9</li>\n",
       "\t<li>10</li>\n",
       "\t<li>11</li>\n",
       "\t<li>12</li>\n",
       "\t<li>13</li>\n",
       "\t<li>14</li>\n",
       "\t<li>15</li>\n",
       "\t<li>16</li>\n",
       "\t<li>17</li>\n",
       "\t<li>18</li>\n",
       "\t<li>19</li>\n",
       "\t<li>20</li>\n",
       "</ol>\n"
      ],
      "text/latex": [
       "\\begin{enumerate*}\n",
       "\\item 1\n",
       "\\item 4\n",
       "\\item 6\n",
       "\\item 7\n",
       "\\item 8\n",
       "\\item 9\n",
       "\\item 10\n",
       "\\item 11\n",
       "\\item 12\n",
       "\\item 13\n",
       "\\item 14\n",
       "\\item 15\n",
       "\\item 16\n",
       "\\item 17\n",
       "\\item 18\n",
       "\\item 19\n",
       "\\item 20\n",
       "\\end{enumerate*}\n"
      ],
      "text/markdown": [
       "1. 1\n",
       "2. 4\n",
       "3. 6\n",
       "4. 7\n",
       "5. 8\n",
       "6. 9\n",
       "7. 10\n",
       "8. 11\n",
       "9. 12\n",
       "10. 13\n",
       "11. 14\n",
       "12. 15\n",
       "13. 16\n",
       "14. 17\n",
       "15. 18\n",
       "16. 19\n",
       "17. 20\n",
       "\n",
       "\n"
      ],
      "text/plain": [
       " [1]  1  4  6  7  8  9 10 11 12 13 14 15 16 17 18 19 20"
      ]
     },
     "metadata": {},
     "output_type": "display_data"
    }
   ],
   "source": [
    "x$this"
   ]
  },
  {
   "cell_type": "code",
   "execution_count": 36,
   "metadata": {},
   "outputs": [
    {
     "data": {
      "text/html": [
       "<dl>\n",
       "\t<dt>$this</dt>\n",
       "\t\t<dd><ol class=list-inline>\n",
       "\t<li>1</li>\n",
       "\t<li>4</li>\n",
       "\t<li>6</li>\n",
       "\t<li>7</li>\n",
       "\t<li>8</li>\n",
       "\t<li>9</li>\n",
       "\t<li>10</li>\n",
       "\t<li>11</li>\n",
       "\t<li>12</li>\n",
       "\t<li>13</li>\n",
       "\t<li>14</li>\n",
       "\t<li>15</li>\n",
       "\t<li>16</li>\n",
       "\t<li>17</li>\n",
       "\t<li>18</li>\n",
       "\t<li>19</li>\n",
       "\t<li>20</li>\n",
       "</ol>\n",
       "</dd>\n",
       "\t<dt>$is</dt>\n",
       "\t\t<dd>TRUE</dd>\n",
       "\t<dt>$some</dt>\n",
       "\t\t<dd><ol class=list-inline>\n",
       "\t<li>2</li>\n",
       "\t<li>3</li>\n",
       "\t<li>4</li>\n",
       "\t<li>5</li>\n",
       "\t<li>6</li>\n",
       "\t<li>7</li>\n",
       "</ol>\n",
       "</dd>\n",
       "\t<dt>$list</dt>\n",
       "\t\t<dd><ol class=list-inline>\n",
       "\t<li>4</li>\n",
       "\t<li>3</li>\n",
       "\t<li>5.44</li>\n",
       "</ol>\n",
       "</dd>\n",
       "</dl>\n"
      ],
      "text/latex": [
       "\\begin{description}\n",
       "\\item[\\$this] \\begin{enumerate*}\n",
       "\\item 1\n",
       "\\item 4\n",
       "\\item 6\n",
       "\\item 7\n",
       "\\item 8\n",
       "\\item 9\n",
       "\\item 10\n",
       "\\item 11\n",
       "\\item 12\n",
       "\\item 13\n",
       "\\item 14\n",
       "\\item 15\n",
       "\\item 16\n",
       "\\item 17\n",
       "\\item 18\n",
       "\\item 19\n",
       "\\item 20\n",
       "\\end{enumerate*}\n",
       "\n",
       "\\item[\\$is] TRUE\n",
       "\\item[\\$some] \\begin{enumerate*}\n",
       "\\item 2\n",
       "\\item 3\n",
       "\\item 4\n",
       "\\item 5\n",
       "\\item 6\n",
       "\\item 7\n",
       "\\end{enumerate*}\n",
       "\n",
       "\\item[\\$list] \\begin{enumerate*}\n",
       "\\item 4\n",
       "\\item 3\n",
       "\\item 5.44\n",
       "\\end{enumerate*}\n",
       "\n",
       "\\end{description}\n"
      ],
      "text/markdown": [
       "$this\n",
       ":   1. 1\n",
       "2. 4\n",
       "3. 6\n",
       "4. 7\n",
       "5. 8\n",
       "6. 9\n",
       "7. 10\n",
       "8. 11\n",
       "9. 12\n",
       "10. 13\n",
       "11. 14\n",
       "12. 15\n",
       "13. 16\n",
       "14. 17\n",
       "15. 18\n",
       "16. 19\n",
       "17. 20\n",
       "\n",
       "\n",
       "\n",
       "$is\n",
       ":   TRUE\n",
       "$some\n",
       ":   1. 2\n",
       "2. 3\n",
       "3. 4\n",
       "4. 5\n",
       "5. 6\n",
       "6. 7\n",
       "\n",
       "\n",
       "\n",
       "$list\n",
       ":   1. 4\n",
       "2. 3\n",
       "3. 5.44\n",
       "\n",
       "\n",
       "\n",
       "\n",
       "\n"
      ],
      "text/plain": [
       "$this\n",
       " [1]  1  4  6  7  8  9 10 11 12 13 14 15 16 17 18 19 20\n",
       "\n",
       "$is\n",
       "[1] TRUE\n",
       "\n",
       "$some\n",
       "[1] 2 3 4 5 6 7\n",
       "\n",
       "$list\n",
       "[1] 4.00 3.00 5.44\n"
      ]
     },
     "metadata": {},
     "output_type": "display_data"
    }
   ],
   "source": [
    "x[]"
   ]
  },
  {
   "cell_type": "code",
   "execution_count": 37,
   "metadata": {},
   "outputs": [
    {
     "data": {
      "text/html": [
       "'list'"
      ],
      "text/latex": [
       "'list'"
      ],
      "text/markdown": [
       "'list'"
      ],
      "text/plain": [
       "[1] \"list\""
      ]
     },
     "metadata": {},
     "output_type": "display_data"
    }
   ],
   "source": [
    "class(x)"
   ]
  },
  {
   "cell_type": "markdown",
   "metadata": {},
   "source": [
    "This kind of list creation is how data frames are made explicitly - except that they need to have the same length of items for each row, except where a single value gets recycled to the full column. And keep in mind, data frame columns are atomic vectors (have the same type)."
   ]
  },
  {
   "cell_type": "markdown",
   "metadata": {},
   "source": [
    "---\n",
    "# Task 2\n",
    "---\n",
    "\n",
    "Using `data.frame()` instead of `list()`, create a data frame object that holds something interesting"
   ]
  },
  {
   "cell_type": "code",
   "execution_count": null,
   "metadata": {
    "collapsed": true
   },
   "outputs": [],
   "source": [
    "# Your answer here\n"
   ]
  },
  {
   "cell_type": "markdown",
   "metadata": {},
   "source": [
    "## Converting vector types\n",
    "\n",
    "Among all the things to give one fits about R it is the behaviour of *atomic vectors* - those vector types that specify inherent properties useful for getting things done can also cause super-annoying problems, particuarly when they are assumed to be `factors()`. \n",
    "\n",
    "Let's start with a numeric vector:"
   ]
  },
  {
   "cell_type": "code",
   "execution_count": 38,
   "metadata": {
    "collapsed": true
   },
   "outputs": [],
   "source": [
    "x = 22:7"
   ]
  },
  {
   "cell_type": "code",
   "execution_count": 39,
   "metadata": {},
   "outputs": [
    {
     "data": {
      "text/html": [
       "<ol class=list-inline>\n",
       "\t<li>22</li>\n",
       "\t<li>21</li>\n",
       "\t<li>20</li>\n",
       "\t<li>19</li>\n",
       "\t<li>18</li>\n",
       "\t<li>17</li>\n",
       "\t<li>16</li>\n",
       "\t<li>15</li>\n",
       "\t<li>14</li>\n",
       "\t<li>13</li>\n",
       "\t<li>12</li>\n",
       "\t<li>11</li>\n",
       "\t<li>10</li>\n",
       "\t<li>9</li>\n",
       "\t<li>8</li>\n",
       "\t<li>7</li>\n",
       "</ol>\n"
      ],
      "text/latex": [
       "\\begin{enumerate*}\n",
       "\\item 22\n",
       "\\item 21\n",
       "\\item 20\n",
       "\\item 19\n",
       "\\item 18\n",
       "\\item 17\n",
       "\\item 16\n",
       "\\item 15\n",
       "\\item 14\n",
       "\\item 13\n",
       "\\item 12\n",
       "\\item 11\n",
       "\\item 10\n",
       "\\item 9\n",
       "\\item 8\n",
       "\\item 7\n",
       "\\end{enumerate*}\n"
      ],
      "text/markdown": [
       "1. 22\n",
       "2. 21\n",
       "3. 20\n",
       "4. 19\n",
       "5. 18\n",
       "6. 17\n",
       "7. 16\n",
       "8. 15\n",
       "9. 14\n",
       "10. 13\n",
       "11. 12\n",
       "12. 11\n",
       "13. 10\n",
       "14. 9\n",
       "15. 8\n",
       "16. 7\n",
       "\n",
       "\n"
      ],
      "text/plain": [
       " [1] 22 21 20 19 18 17 16 15 14 13 12 11 10  9  8  7"
      ]
     },
     "metadata": {},
     "output_type": "display_data"
    }
   ],
   "source": [
    "x"
   ]
  },
  {
   "cell_type": "code",
   "execution_count": 40,
   "metadata": {},
   "outputs": [
    {
     "data": {
      "text/html": [
       "'integer'"
      ],
      "text/latex": [
       "'integer'"
      ],
      "text/markdown": [
       "'integer'"
      ],
      "text/plain": [
       "[1] \"integer\""
      ]
     },
     "metadata": {},
     "output_type": "display_data"
    }
   ],
   "source": [
    "class(x)"
   ]
  },
  {
   "cell_type": "code",
   "execution_count": 41,
   "metadata": {
    "collapsed": true
   },
   "outputs": [],
   "source": [
    "x = x/2.3"
   ]
  },
  {
   "cell_type": "code",
   "execution_count": 42,
   "metadata": {},
   "outputs": [
    {
     "data": {
      "text/html": [
       "<ol class=list-inline>\n",
       "\t<li>9.56521739130435</li>\n",
       "\t<li>9.1304347826087</li>\n",
       "\t<li>8.69565217391304</li>\n",
       "\t<li>8.26086956521739</li>\n",
       "\t<li>7.82608695652174</li>\n",
       "\t<li>7.39130434782609</li>\n",
       "\t<li>6.95652173913044</li>\n",
       "\t<li>6.52173913043478</li>\n",
       "\t<li>6.08695652173913</li>\n",
       "\t<li>5.65217391304348</li>\n",
       "\t<li>5.21739130434783</li>\n",
       "\t<li>4.78260869565217</li>\n",
       "\t<li>4.34782608695652</li>\n",
       "\t<li>3.91304347826087</li>\n",
       "\t<li>3.47826086956522</li>\n",
       "\t<li>3.04347826086957</li>\n",
       "</ol>\n"
      ],
      "text/latex": [
       "\\begin{enumerate*}\n",
       "\\item 9.56521739130435\n",
       "\\item 9.1304347826087\n",
       "\\item 8.69565217391304\n",
       "\\item 8.26086956521739\n",
       "\\item 7.82608695652174\n",
       "\\item 7.39130434782609\n",
       "\\item 6.95652173913044\n",
       "\\item 6.52173913043478\n",
       "\\item 6.08695652173913\n",
       "\\item 5.65217391304348\n",
       "\\item 5.21739130434783\n",
       "\\item 4.78260869565217\n",
       "\\item 4.34782608695652\n",
       "\\item 3.91304347826087\n",
       "\\item 3.47826086956522\n",
       "\\item 3.04347826086957\n",
       "\\end{enumerate*}\n"
      ],
      "text/markdown": [
       "1. 9.56521739130435\n",
       "2. 9.1304347826087\n",
       "3. 8.69565217391304\n",
       "4. 8.26086956521739\n",
       "5. 7.82608695652174\n",
       "6. 7.39130434782609\n",
       "7. 6.95652173913044\n",
       "8. 6.52173913043478\n",
       "9. 6.08695652173913\n",
       "10. 5.65217391304348\n",
       "11. 5.21739130434783\n",
       "12. 4.78260869565217\n",
       "13. 4.34782608695652\n",
       "14. 3.91304347826087\n",
       "15. 3.47826086956522\n",
       "16. 3.04347826086957\n",
       "\n",
       "\n"
      ],
      "text/plain": [
       " [1] 9.565217 9.130435 8.695652 8.260870 7.826087 7.391304 6.956522 6.521739\n",
       " [9] 6.086957 5.652174 5.217391 4.782609 4.347826 3.913043 3.478261 3.043478"
      ]
     },
     "metadata": {},
     "output_type": "display_data"
    }
   ],
   "source": [
    "x"
   ]
  },
  {
   "cell_type": "code",
   "execution_count": 43,
   "metadata": {},
   "outputs": [
    {
     "data": {
      "text/html": [
       "'numeric'"
      ],
      "text/latex": [
       "'numeric'"
      ],
      "text/markdown": [
       "'numeric'"
      ],
      "text/plain": [
       "[1] \"numeric\""
      ]
     },
     "metadata": {},
     "output_type": "display_data"
    }
   ],
   "source": [
    "class(x)"
   ]
  },
  {
   "cell_type": "code",
   "execution_count": 44,
   "metadata": {
    "collapsed": true
   },
   "outputs": [],
   "source": [
    "x = as.character(x)"
   ]
  },
  {
   "cell_type": "code",
   "execution_count": 48,
   "metadata": {},
   "outputs": [
    {
     "data": {
      "text/html": [
       "<ol class=list-inline>\n",
       "\t<li>'9.56521739130435'</li>\n",
       "\t<li>'9.1304347826087'</li>\n",
       "\t<li>'8.69565217391304'</li>\n",
       "\t<li>'8.26086956521739'</li>\n",
       "\t<li>'7.82608695652174'</li>\n",
       "\t<li>'7.39130434782609'</li>\n",
       "\t<li>'6.95652173913044'</li>\n",
       "\t<li>'6.52173913043478'</li>\n",
       "\t<li>'6.08695652173913'</li>\n",
       "\t<li>'5.65217391304348'</li>\n",
       "\t<li>'5.21739130434783'</li>\n",
       "\t<li>'4.78260869565217'</li>\n",
       "\t<li>'4.34782608695652'</li>\n",
       "\t<li>'3.91304347826087'</li>\n",
       "\t<li>'3.47826086956522'</li>\n",
       "\t<li>'3.04347826086957'</li>\n",
       "</ol>\n"
      ],
      "text/latex": [
       "\\begin{enumerate*}\n",
       "\\item '9.56521739130435'\n",
       "\\item '9.1304347826087'\n",
       "\\item '8.69565217391304'\n",
       "\\item '8.26086956521739'\n",
       "\\item '7.82608695652174'\n",
       "\\item '7.39130434782609'\n",
       "\\item '6.95652173913044'\n",
       "\\item '6.52173913043478'\n",
       "\\item '6.08695652173913'\n",
       "\\item '5.65217391304348'\n",
       "\\item '5.21739130434783'\n",
       "\\item '4.78260869565217'\n",
       "\\item '4.34782608695652'\n",
       "\\item '3.91304347826087'\n",
       "\\item '3.47826086956522'\n",
       "\\item '3.04347826086957'\n",
       "\\end{enumerate*}\n"
      ],
      "text/markdown": [
       "1. '9.56521739130435'\n",
       "2. '9.1304347826087'\n",
       "3. '8.69565217391304'\n",
       "4. '8.26086956521739'\n",
       "5. '7.82608695652174'\n",
       "6. '7.39130434782609'\n",
       "7. '6.95652173913044'\n",
       "8. '6.52173913043478'\n",
       "9. '6.08695652173913'\n",
       "10. '5.65217391304348'\n",
       "11. '5.21739130434783'\n",
       "12. '4.78260869565217'\n",
       "13. '4.34782608695652'\n",
       "14. '3.91304347826087'\n",
       "15. '3.47826086956522'\n",
       "16. '3.04347826086957'\n",
       "\n",
       "\n"
      ],
      "text/plain": [
       " [1] \"9.56521739130435\" \"9.1304347826087\"  \"8.69565217391304\" \"8.26086956521739\"\n",
       " [5] \"7.82608695652174\" \"7.39130434782609\" \"6.95652173913044\" \"6.52173913043478\"\n",
       " [9] \"6.08695652173913\" \"5.65217391304348\" \"5.21739130434783\" \"4.78260869565217\"\n",
       "[13] \"4.34782608695652\" \"3.91304347826087\" \"3.47826086956522\" \"3.04347826086957\""
      ]
     },
     "metadata": {},
     "output_type": "display_data"
    }
   ],
   "source": [
    "x"
   ]
  },
  {
   "cell_type": "code",
   "execution_count": 49,
   "metadata": {},
   "outputs": [
    {
     "data": {
      "text/html": [
       "'character'"
      ],
      "text/latex": [
       "'character'"
      ],
      "text/markdown": [
       "'character'"
      ],
      "text/plain": [
       "[1] \"character\""
      ]
     },
     "metadata": {},
     "output_type": "display_data"
    }
   ],
   "source": [
    "class(x)"
   ]
  },
  {
   "cell_type": "code",
   "execution_count": 50,
   "metadata": {
    "collapsed": true
   },
   "outputs": [],
   "source": [
    "x = as.factor(x)"
   ]
  },
  {
   "cell_type": "code",
   "execution_count": 51,
   "metadata": {},
   "outputs": [
    {
     "data": {
      "text/html": [
       "<ol class=list-inline>\n",
       "\t<li>9.56521739130435</li>\n",
       "\t<li>9.1304347826087</li>\n",
       "\t<li>8.69565217391304</li>\n",
       "\t<li>8.26086956521739</li>\n",
       "\t<li>7.82608695652174</li>\n",
       "\t<li>7.39130434782609</li>\n",
       "\t<li>6.95652173913044</li>\n",
       "\t<li>6.52173913043478</li>\n",
       "\t<li>6.08695652173913</li>\n",
       "\t<li>5.65217391304348</li>\n",
       "\t<li>5.21739130434783</li>\n",
       "\t<li>4.78260869565217</li>\n",
       "\t<li>4.34782608695652</li>\n",
       "\t<li>3.91304347826087</li>\n",
       "\t<li>3.47826086956522</li>\n",
       "\t<li>3.04347826086957</li>\n",
       "</ol>\n"
      ],
      "text/latex": [
       "\\begin{enumerate*}\n",
       "\\item 9.56521739130435\n",
       "\\item 9.1304347826087\n",
       "\\item 8.69565217391304\n",
       "\\item 8.26086956521739\n",
       "\\item 7.82608695652174\n",
       "\\item 7.39130434782609\n",
       "\\item 6.95652173913044\n",
       "\\item 6.52173913043478\n",
       "\\item 6.08695652173913\n",
       "\\item 5.65217391304348\n",
       "\\item 5.21739130434783\n",
       "\\item 4.78260869565217\n",
       "\\item 4.34782608695652\n",
       "\\item 3.91304347826087\n",
       "\\item 3.47826086956522\n",
       "\\item 3.04347826086957\n",
       "\\end{enumerate*}\n"
      ],
      "text/markdown": [
       "1. 9.56521739130435\n",
       "2. 9.1304347826087\n",
       "3. 8.69565217391304\n",
       "4. 8.26086956521739\n",
       "5. 7.82608695652174\n",
       "6. 7.39130434782609\n",
       "7. 6.95652173913044\n",
       "8. 6.52173913043478\n",
       "9. 6.08695652173913\n",
       "10. 5.65217391304348\n",
       "11. 5.21739130434783\n",
       "12. 4.78260869565217\n",
       "13. 4.34782608695652\n",
       "14. 3.91304347826087\n",
       "15. 3.47826086956522\n",
       "16. 3.04347826086957\n",
       "\n",
       "\n"
      ],
      "text/plain": [
       " [1] 9.56521739130435 9.1304347826087  8.69565217391304 8.26086956521739\n",
       " [5] 7.82608695652174 7.39130434782609 6.95652173913044 6.52173913043478\n",
       " [9] 6.08695652173913 5.65217391304348 5.21739130434783 4.78260869565217\n",
       "[13] 4.34782608695652 3.91304347826087 3.47826086956522 3.04347826086957\n",
       "16 Levels: 3.04347826086957 3.47826086956522 ... 9.56521739130435"
      ]
     },
     "metadata": {},
     "output_type": "display_data"
    }
   ],
   "source": [
    "x"
   ]
  },
  {
   "cell_type": "markdown",
   "metadata": {},
   "source": [
    "Now looking at the array above, what's not clear? Seems like a numeric vector by all appearences. Ah but if it were thus..."
   ]
  },
  {
   "cell_type": "code",
   "execution_count": 52,
   "metadata": {},
   "outputs": [
    {
     "name": "stderr",
     "output_type": "stream",
     "text": [
      "Warning message in Ops.factor(x, 10):\n",
      "“‘*’ not meaningful for factors”"
     ]
    },
    {
     "data": {
      "text/html": [
       "<ol class=list-inline>\n",
       "\t<li>&lt;NA&gt;</li>\n",
       "\t<li>&lt;NA&gt;</li>\n",
       "\t<li>&lt;NA&gt;</li>\n",
       "\t<li>&lt;NA&gt;</li>\n",
       "\t<li>&lt;NA&gt;</li>\n",
       "\t<li>&lt;NA&gt;</li>\n",
       "\t<li>&lt;NA&gt;</li>\n",
       "\t<li>&lt;NA&gt;</li>\n",
       "\t<li>&lt;NA&gt;</li>\n",
       "\t<li>&lt;NA&gt;</li>\n",
       "\t<li>&lt;NA&gt;</li>\n",
       "\t<li>&lt;NA&gt;</li>\n",
       "\t<li>&lt;NA&gt;</li>\n",
       "\t<li>&lt;NA&gt;</li>\n",
       "\t<li>&lt;NA&gt;</li>\n",
       "\t<li>&lt;NA&gt;</li>\n",
       "</ol>\n"
      ],
      "text/latex": [
       "\\begin{enumerate*}\n",
       "\\item <NA>\n",
       "\\item <NA>\n",
       "\\item <NA>\n",
       "\\item <NA>\n",
       "\\item <NA>\n",
       "\\item <NA>\n",
       "\\item <NA>\n",
       "\\item <NA>\n",
       "\\item <NA>\n",
       "\\item <NA>\n",
       "\\item <NA>\n",
       "\\item <NA>\n",
       "\\item <NA>\n",
       "\\item <NA>\n",
       "\\item <NA>\n",
       "\\item <NA>\n",
       "\\end{enumerate*}\n"
      ],
      "text/markdown": [
       "1. &lt;NA&gt;\n",
       "2. &lt;NA&gt;\n",
       "3. &lt;NA&gt;\n",
       "4. &lt;NA&gt;\n",
       "5. &lt;NA&gt;\n",
       "6. &lt;NA&gt;\n",
       "7. &lt;NA&gt;\n",
       "8. &lt;NA&gt;\n",
       "9. &lt;NA&gt;\n",
       "10. &lt;NA&gt;\n",
       "11. &lt;NA&gt;\n",
       "12. &lt;NA&gt;\n",
       "13. &lt;NA&gt;\n",
       "14. &lt;NA&gt;\n",
       "15. &lt;NA&gt;\n",
       "16. &lt;NA&gt;\n",
       "\n",
       "\n"
      ],
      "text/plain": [
       " [1] NA NA NA NA NA NA NA NA NA NA NA NA NA NA NA NA"
      ]
     },
     "metadata": {},
     "output_type": "display_data"
    }
   ],
   "source": [
    "x*10"
   ]
  },
  {
   "cell_type": "code",
   "execution_count": 53,
   "metadata": {},
   "outputs": [
    {
     "data": {
      "text/html": [
       "'factor'"
      ],
      "text/latex": [
       "'factor'"
      ],
      "text/markdown": [
       "'factor'"
      ],
      "text/plain": [
       "[1] \"factor\""
      ]
     },
     "metadata": {},
     "output_type": "display_data"
    }
   ],
   "source": [
    "class(x)"
   ]
  },
  {
   "cell_type": "markdown",
   "metadata": {},
   "source": [
    "Ah ok, well let's just convert it to a numeric vector eh?"
   ]
  },
  {
   "cell_type": "code",
   "execution_count": 54,
   "metadata": {},
   "outputs": [
    {
     "data": {
      "text/html": [
       "<ol class=list-inline>\n",
       "\t<li>16</li>\n",
       "\t<li>15</li>\n",
       "\t<li>14</li>\n",
       "\t<li>13</li>\n",
       "\t<li>12</li>\n",
       "\t<li>11</li>\n",
       "\t<li>10</li>\n",
       "\t<li>9</li>\n",
       "\t<li>8</li>\n",
       "\t<li>7</li>\n",
       "\t<li>6</li>\n",
       "\t<li>5</li>\n",
       "\t<li>4</li>\n",
       "\t<li>3</li>\n",
       "\t<li>2</li>\n",
       "\t<li>1</li>\n",
       "</ol>\n"
      ],
      "text/latex": [
       "\\begin{enumerate*}\n",
       "\\item 16\n",
       "\\item 15\n",
       "\\item 14\n",
       "\\item 13\n",
       "\\item 12\n",
       "\\item 11\n",
       "\\item 10\n",
       "\\item 9\n",
       "\\item 8\n",
       "\\item 7\n",
       "\\item 6\n",
       "\\item 5\n",
       "\\item 4\n",
       "\\item 3\n",
       "\\item 2\n",
       "\\item 1\n",
       "\\end{enumerate*}\n"
      ],
      "text/markdown": [
       "1. 16\n",
       "2. 15\n",
       "3. 14\n",
       "4. 13\n",
       "5. 12\n",
       "6. 11\n",
       "7. 10\n",
       "8. 9\n",
       "9. 8\n",
       "10. 7\n",
       "11. 6\n",
       "12. 5\n",
       "13. 4\n",
       "14. 3\n",
       "15. 2\n",
       "16. 1\n",
       "\n",
       "\n"
      ],
      "text/plain": [
       " [1] 16 15 14 13 12 11 10  9  8  7  6  5  4  3  2  1"
      ]
     },
     "metadata": {},
     "output_type": "display_data"
    }
   ],
   "source": [
    "as.numeric(x)"
   ]
  },
  {
   "cell_type": "markdown",
   "metadata": {},
   "source": [
    "Wha?\n",
    "\n",
    "What are these factors? Well factors in R are really categorical variables that store a set of integer values for each unique instance of the factor and a character value that is used when the factor is displayed. This is really useful for statistical models and some other plotting functions, but leads to unexpected behaviour more than one would like.\n",
    "\n",
    "So looking at a new array of nubmers with some duplicate values:"
   ]
  },
  {
   "cell_type": "code",
   "execution_count": 55,
   "metadata": {},
   "outputs": [
    {
     "data": {
      "text/html": [
       "<ol class=list-inline>\n",
       "\t<li>2</li>\n",
       "\t<li>33</li>\n",
       "\t<li>4</li>\n",
       "\t<li>33</li>\n",
       "\t<li>5</li>\n",
       "\t<li>66</li>\n",
       "\t<li>5</li>\n",
       "\t<li>7</li>\n",
       "\t<li>33</li>\n",
       "\t<li>4</li>\n",
       "\t<li>2</li>\n",
       "</ol>\n"
      ],
      "text/latex": [
       "\\begin{enumerate*}\n",
       "\\item 2\n",
       "\\item 33\n",
       "\\item 4\n",
       "\\item 33\n",
       "\\item 5\n",
       "\\item 66\n",
       "\\item 5\n",
       "\\item 7\n",
       "\\item 33\n",
       "\\item 4\n",
       "\\item 2\n",
       "\\end{enumerate*}\n"
      ],
      "text/markdown": [
       "1. 2\n",
       "2. 33\n",
       "3. 4\n",
       "4. 33\n",
       "5. 5\n",
       "6. 66\n",
       "7. 5\n",
       "8. 7\n",
       "9. 33\n",
       "10. 4\n",
       "11. 2\n",
       "\n",
       "\n"
      ],
      "text/plain": [
       " [1] 2  33 4  33 5  66 5  7  33 4  2 \n",
       "Levels: 2 4 5 7 33 66"
      ]
     },
     "metadata": {},
     "output_type": "display_data"
    }
   ],
   "source": [
    "x = factor(c(2,33,4,33,5,66,5,7,33,4,2))\n",
    "x"
   ]
  },
  {
   "cell_type": "code",
   "execution_count": 56,
   "metadata": {},
   "outputs": [
    {
     "data": {
      "text/html": [
       "<ol class=list-inline>\n",
       "\t<li>1</li>\n",
       "\t<li>5</li>\n",
       "\t<li>2</li>\n",
       "\t<li>5</li>\n",
       "\t<li>3</li>\n",
       "\t<li>6</li>\n",
       "\t<li>3</li>\n",
       "\t<li>4</li>\n",
       "\t<li>5</li>\n",
       "\t<li>2</li>\n",
       "\t<li>1</li>\n",
       "</ol>\n"
      ],
      "text/latex": [
       "\\begin{enumerate*}\n",
       "\\item 1\n",
       "\\item 5\n",
       "\\item 2\n",
       "\\item 5\n",
       "\\item 3\n",
       "\\item 6\n",
       "\\item 3\n",
       "\\item 4\n",
       "\\item 5\n",
       "\\item 2\n",
       "\\item 1\n",
       "\\end{enumerate*}\n"
      ],
      "text/markdown": [
       "1. 1\n",
       "2. 5\n",
       "3. 2\n",
       "4. 5\n",
       "5. 3\n",
       "6. 6\n",
       "7. 3\n",
       "8. 4\n",
       "9. 5\n",
       "10. 2\n",
       "11. 1\n",
       "\n",
       "\n"
      ],
      "text/plain": [
       " [1] 1 5 2 5 3 6 3 4 5 2 1"
      ]
     },
     "metadata": {},
     "output_type": "display_data"
    }
   ],
   "source": [
    "as.numeric(x)"
   ]
  },
  {
   "cell_type": "code",
   "execution_count": 57,
   "metadata": {},
   "outputs": [
    {
     "data": {
      "text/html": [
       "<ol class=list-inline>\n",
       "\t<li>'2'</li>\n",
       "\t<li>'4'</li>\n",
       "\t<li>'5'</li>\n",
       "\t<li>'7'</li>\n",
       "\t<li>'33'</li>\n",
       "\t<li>'66'</li>\n",
       "</ol>\n"
      ],
      "text/latex": [
       "\\begin{enumerate*}\n",
       "\\item '2'\n",
       "\\item '4'\n",
       "\\item '5'\n",
       "\\item '7'\n",
       "\\item '33'\n",
       "\\item '66'\n",
       "\\end{enumerate*}\n"
      ],
      "text/markdown": [
       "1. '2'\n",
       "2. '4'\n",
       "3. '5'\n",
       "4. '7'\n",
       "5. '33'\n",
       "6. '66'\n",
       "\n",
       "\n"
      ],
      "text/plain": [
       "[1] \"2\"  \"4\"  \"5\"  \"7\"  \"33\" \"66\""
      ]
     },
     "metadata": {},
     "output_type": "display_data"
    }
   ],
   "source": [
    "levels(x)"
   ]
  },
  {
   "cell_type": "markdown",
   "metadata": {},
   "source": [
    "So `levels()` returns the unique levels, and `as.numeric()` returns the index positions into `levels()`. So"
   ]
  },
  {
   "cell_type": "markdown",
   "metadata": {},
   "source": [
    "---\n",
    "# Task 3\n",
    "---\n",
    "\n",
    "Using `levels()` and `as.numeric()` return the original numeric vector for x using positional indexing."
   ]
  },
  {
   "cell_type": "code",
   "execution_count": 65,
   "metadata": {
    "collapsed": true
   },
   "outputs": [],
   "source": [
    "# Your answer here\n"
   ]
  },
  {
   "cell_type": "markdown",
   "metadata": {},
   "source": [
    "It may occasionally be important to specify the order of factors, in which case this can be specified explicitly:"
   ]
  },
  {
   "cell_type": "code",
   "execution_count": 68,
   "metadata": {},
   "outputs": [
    {
     "data": {
      "text/html": [
       "<ol class=list-inline>\n",
       "\t<li>small</li>\n",
       "\t<li>large</li>\n",
       "\t<li>large</li>\n",
       "\t<li>small</li>\n",
       "\t<li>medium</li>\n",
       "</ol>\n"
      ],
      "text/latex": [
       "\\begin{enumerate*}\n",
       "\\item small\n",
       "\\item large\n",
       "\\item large\n",
       "\\item small\n",
       "\\item medium\n",
       "\\end{enumerate*}\n"
      ],
      "text/markdown": [
       "1. small\n",
       "2. large\n",
       "3. large\n",
       "4. small\n",
       "5. medium\n",
       "\n",
       "\n"
      ],
      "text/plain": [
       "[1] small  large  large  small  medium\n",
       "Levels: medium small large"
      ]
     },
     "metadata": {},
     "output_type": "display_data"
    }
   ],
   "source": [
    "x = factor(c(\"small\", \"large\", \"large\", \"small\", \"medium\"), levels = c(\"medium\",\"small\",  \"large\"))\n",
    "x"
   ]
  },
  {
   "cell_type": "code",
   "execution_count": 69,
   "metadata": {},
   "outputs": [
    {
     "data": {
      "text/html": [
       "<ol class=list-inline>\n",
       "\t<li>'medium'</li>\n",
       "\t<li>'small'</li>\n",
       "\t<li>'large'</li>\n",
       "</ol>\n"
      ],
      "text/latex": [
       "\\begin{enumerate*}\n",
       "\\item 'medium'\n",
       "\\item 'small'\n",
       "\\item 'large'\n",
       "\\end{enumerate*}\n"
      ],
      "text/markdown": [
       "1. 'medium'\n",
       "2. 'small'\n",
       "3. 'large'\n",
       "\n",
       "\n"
      ],
      "text/plain": [
       "[1] \"medium\" \"small\"  \"large\" "
      ]
     },
     "metadata": {},
     "output_type": "display_data"
    }
   ],
   "source": [
    "levels(x)"
   ]
  },
  {
   "cell_type": "markdown",
   "metadata": {},
   "source": [
    "## Tables\n",
    "\n",
    "People that love Excel loves them some [pivot tables](https://exceljet.net/things-to-know-about-excel-pivot-tables) - but dang they are awful (and unreproducible). Yet getting summary tables in an informative format is not unique to Excel. Any object-oriented programming language worth its salt will have some form of table function. \n",
    "\n",
    "In R, the table function does this work, typically using categorical factors to get the work done. Let's start by making a data frame:"
   ]
  },
  {
   "cell_type": "code",
   "execution_count": 1,
   "metadata": {
    "collapsed": true
   },
   "outputs": [],
   "source": [
    "# Make fake clinical trial data\n",
    "set.seed(1234)\n",
    "study_results = data.frame(subject = 1:100,\n",
    "               age = round(runif(100, 18, 65),0),\n",
    "               treatment = gl(2, 50, labels = c(\"Treatment\", \"Control\")),\n",
    "               trial = sample(paste(\"Trial\", LETTERS[1:5]), 100, replace = TRUE))"
   ]
  },
  {
   "cell_type": "code",
   "execution_count": 2,
   "metadata": {},
   "outputs": [
    {
     "data": {
      "text/html": [
       "<ol class=list-inline>\n",
       "\t<li>49</li>\n",
       "\t<li>43</li>\n",
       "\t<li>33</li>\n",
       "\t<li>54</li>\n",
       "\t<li>43</li>\n",
       "\t<li>52</li>\n",
       "\t<li>32</li>\n",
       "\t<li>37</li>\n",
       "\t<li>28</li>\n",
       "\t<li>64</li>\n",
       "\t<li>45</li>\n",
       "\t<li>31</li>\n",
       "\t<li>27</li>\n",
       "\t<li>54</li>\n",
       "\t<li>45</li>\n",
       "\t<li>62</li>\n",
       "\t<li>48</li>\n",
       "\t<li>51</li>\n",
       "\t<li>41</li>\n",
       "\t<li>58</li>\n",
       "\t<li>38</li>\n",
       "\t<li>19</li>\n",
       "\t<li>30</li>\n",
       "\t<li>34</li>\n",
       "\t<li>24</li>\n",
       "\t<li>41</li>\n",
       "\t<li>56</li>\n",
       "\t<li>34</li>\n",
       "\t<li>42</li>\n",
       "\t<li>41</li>\n",
       "\t<li>55</li>\n",
       "\t<li>45</li>\n",
       "\t<li>23</li>\n",
       "\t<li>56</li>\n",
       "\t<li>45</li>\n",
       "\t<li>28</li>\n",
       "\t<li>53</li>\n",
       "\t<li>32</li>\n",
       "\t<li>41</li>\n",
       "\t<li>65</li>\n",
       "\t<li>38</li>\n",
       "\t<li>29</li>\n",
       "\t<li>28</li>\n",
       "\t<li>50</li>\n",
       "\t<li>64</li>\n",
       "\t<li>40</li>\n",
       "\t<li>54</li>\n",
       "\t<li>45</li>\n",
       "\t<li>63</li>\n",
       "\t<li>55</li>\n",
       "\t<li>43</li>\n",
       "\t<li>46</li>\n",
       "\t<li>30</li>\n",
       "\t<li>31</li>\n",
       "\t<li>21</li>\n",
       "\t<li>44</li>\n",
       "\t<li>30</li>\n",
       "\t<li>18</li>\n",
       "\t<li>46</li>\n",
       "\t<li>42</li>\n",
       "\t<li>58</li>\n",
       "\t<li>19</li>\n",
       "\t<li>46</li>\n",
       "\t<li>31</li>\n",
       "\t<li>24</li>\n",
       "\t<li>23</li>\n",
       "\t<li>53</li>\n",
       "\t<li>19</li>\n",
       "\t<li>20</li>\n",
       "\t<li>53</li>\n",
       "\t<li>35</li>\n",
       "\t<li>54</li>\n",
       "\t<li>36</li>\n",
       "\t<li>56</li>\n",
       "\t<li>19</li>\n",
       "\t<li>42</li>\n",
       "\t<li>57</li>\n",
       "\t<li>44</li>\n",
       "\t<li>31</li>\n",
       "\t<li>34</li>\n",
       "\t<li>35</li>\n",
       "\t<li>38</li>\n",
       "\t<li>61</li>\n",
       "\t<li>55</li>\n",
       "\t<li>53</li>\n",
       "\t<li>31</li>\n",
       "\t<li>39</li>\n",
       "\t<li>32</li>\n",
       "\t<li>51</li>\n",
       "\t<li>57</li>\n",
       "\t<li>49</li>\n",
       "\t<li>37</li>\n",
       "\t<li>63</li>\n",
       "\t<li>29</li>\n",
       "\t<li>47</li>\n",
       "\t<li>54</li>\n",
       "\t<li>51</li>\n",
       "\t<li>23</li>\n",
       "\t<li>48</li>\n",
       "\t<li>33</li>\n",
       "</ol>\n"
      ],
      "text/latex": [
       "\\begin{enumerate*}\n",
       "\\item 49\n",
       "\\item 43\n",
       "\\item 33\n",
       "\\item 54\n",
       "\\item 43\n",
       "\\item 52\n",
       "\\item 32\n",
       "\\item 37\n",
       "\\item 28\n",
       "\\item 64\n",
       "\\item 45\n",
       "\\item 31\n",
       "\\item 27\n",
       "\\item 54\n",
       "\\item 45\n",
       "\\item 62\n",
       "\\item 48\n",
       "\\item 51\n",
       "\\item 41\n",
       "\\item 58\n",
       "\\item 38\n",
       "\\item 19\n",
       "\\item 30\n",
       "\\item 34\n",
       "\\item 24\n",
       "\\item 41\n",
       "\\item 56\n",
       "\\item 34\n",
       "\\item 42\n",
       "\\item 41\n",
       "\\item 55\n",
       "\\item 45\n",
       "\\item 23\n",
       "\\item 56\n",
       "\\item 45\n",
       "\\item 28\n",
       "\\item 53\n",
       "\\item 32\n",
       "\\item 41\n",
       "\\item 65\n",
       "\\item 38\n",
       "\\item 29\n",
       "\\item 28\n",
       "\\item 50\n",
       "\\item 64\n",
       "\\item 40\n",
       "\\item 54\n",
       "\\item 45\n",
       "\\item 63\n",
       "\\item 55\n",
       "\\item 43\n",
       "\\item 46\n",
       "\\item 30\n",
       "\\item 31\n",
       "\\item 21\n",
       "\\item 44\n",
       "\\item 30\n",
       "\\item 18\n",
       "\\item 46\n",
       "\\item 42\n",
       "\\item 58\n",
       "\\item 19\n",
       "\\item 46\n",
       "\\item 31\n",
       "\\item 24\n",
       "\\item 23\n",
       "\\item 53\n",
       "\\item 19\n",
       "\\item 20\n",
       "\\item 53\n",
       "\\item 35\n",
       "\\item 54\n",
       "\\item 36\n",
       "\\item 56\n",
       "\\item 19\n",
       "\\item 42\n",
       "\\item 57\n",
       "\\item 44\n",
       "\\item 31\n",
       "\\item 34\n",
       "\\item 35\n",
       "\\item 38\n",
       "\\item 61\n",
       "\\item 55\n",
       "\\item 53\n",
       "\\item 31\n",
       "\\item 39\n",
       "\\item 32\n",
       "\\item 51\n",
       "\\item 57\n",
       "\\item 49\n",
       "\\item 37\n",
       "\\item 63\n",
       "\\item 29\n",
       "\\item 47\n",
       "\\item 54\n",
       "\\item 51\n",
       "\\item 23\n",
       "\\item 48\n",
       "\\item 33\n",
       "\\end{enumerate*}\n"
      ],
      "text/markdown": [
       "1. 49\n",
       "2. 43\n",
       "3. 33\n",
       "4. 54\n",
       "5. 43\n",
       "6. 52\n",
       "7. 32\n",
       "8. 37\n",
       "9. 28\n",
       "10. 64\n",
       "11. 45\n",
       "12. 31\n",
       "13. 27\n",
       "14. 54\n",
       "15. 45\n",
       "16. 62\n",
       "17. 48\n",
       "18. 51\n",
       "19. 41\n",
       "20. 58\n",
       "21. 38\n",
       "22. 19\n",
       "23. 30\n",
       "24. 34\n",
       "25. 24\n",
       "26. 41\n",
       "27. 56\n",
       "28. 34\n",
       "29. 42\n",
       "30. 41\n",
       "31. 55\n",
       "32. 45\n",
       "33. 23\n",
       "34. 56\n",
       "35. 45\n",
       "36. 28\n",
       "37. 53\n",
       "38. 32\n",
       "39. 41\n",
       "40. 65\n",
       "41. 38\n",
       "42. 29\n",
       "43. 28\n",
       "44. 50\n",
       "45. 64\n",
       "46. 40\n",
       "47. 54\n",
       "48. 45\n",
       "49. 63\n",
       "50. 55\n",
       "51. 43\n",
       "52. 46\n",
       "53. 30\n",
       "54. 31\n",
       "55. 21\n",
       "56. 44\n",
       "57. 30\n",
       "58. 18\n",
       "59. 46\n",
       "60. 42\n",
       "61. 58\n",
       "62. 19\n",
       "63. 46\n",
       "64. 31\n",
       "65. 24\n",
       "66. 23\n",
       "67. 53\n",
       "68. 19\n",
       "69. 20\n",
       "70. 53\n",
       "71. 35\n",
       "72. 54\n",
       "73. 36\n",
       "74. 56\n",
       "75. 19\n",
       "76. 42\n",
       "77. 57\n",
       "78. 44\n",
       "79. 31\n",
       "80. 34\n",
       "81. 35\n",
       "82. 38\n",
       "83. 61\n",
       "84. 55\n",
       "85. 53\n",
       "86. 31\n",
       "87. 39\n",
       "88. 32\n",
       "89. 51\n",
       "90. 57\n",
       "91. 49\n",
       "92. 37\n",
       "93. 63\n",
       "94. 29\n",
       "95. 47\n",
       "96. 54\n",
       "97. 51\n",
       "98. 23\n",
       "99. 48\n",
       "100. 33\n",
       "\n",
       "\n"
      ],
      "text/plain": [
       "  [1] 49 43 33 54 43 52 32 37 28 64 45 31 27 54 45 62 48 51 41 58 38 19 30 34 24\n",
       " [26] 41 56 34 42 41 55 45 23 56 45 28 53 32 41 65 38 29 28 50 64 40 54 45 63 55\n",
       " [51] 43 46 30 31 21 44 30 18 46 42 58 19 46 31 24 23 53 19 20 53 35 54 36 56 19\n",
       " [76] 42 57 44 31 34 35 38 61 55 53 31 39 32 51 57 49 37 63 29 47 54 51 23 48 33"
      ]
     },
     "metadata": {},
     "output_type": "display_data"
    }
   ],
   "source": [
    "round(runif(100, 18, 65),0)"
   ]
  },
  {
   "cell_type": "code",
   "execution_count": 3,
   "metadata": {},
   "outputs": [
    {
     "data": {
      "text/html": [
       "<table>\n",
       "<thead><tr><th scope=col>subject</th><th scope=col>age</th><th scope=col>treatment</th><th scope=col>trial</th></tr></thead>\n",
       "<tbody>\n",
       "\t<tr><td>1        </td><td>23       </td><td>Treatment</td><td>Trial A  </td></tr>\n",
       "\t<tr><td>2        </td><td>47       </td><td>Treatment</td><td>Trial C  </td></tr>\n",
       "\t<tr><td>3        </td><td>47       </td><td>Treatment</td><td>Trial B  </td></tr>\n",
       "\t<tr><td>4        </td><td>47       </td><td>Treatment</td><td>Trial B  </td></tr>\n",
       "\t<tr><td>5        </td><td>58       </td><td>Treatment</td><td>Trial A  </td></tr>\n",
       "\t<tr><td>6        </td><td>48       </td><td>Treatment</td><td>Trial B  </td></tr>\n",
       "</tbody>\n",
       "</table>\n"
      ],
      "text/latex": [
       "\\begin{tabular}{r|llll}\n",
       " subject & age & treatment & trial\\\\\n",
       "\\hline\n",
       "\t 1         & 23        & Treatment & Trial A  \\\\\n",
       "\t 2         & 47        & Treatment & Trial C  \\\\\n",
       "\t 3         & 47        & Treatment & Trial B  \\\\\n",
       "\t 4         & 47        & Treatment & Trial B  \\\\\n",
       "\t 5         & 58        & Treatment & Trial A  \\\\\n",
       "\t 6         & 48        & Treatment & Trial B  \\\\\n",
       "\\end{tabular}\n"
      ],
      "text/markdown": [
       "\n",
       "subject | age | treatment | trial | \n",
       "|---|---|---|---|---|---|\n",
       "| 1         | 23        | Treatment | Trial A   | \n",
       "| 2         | 47        | Treatment | Trial C   | \n",
       "| 3         | 47        | Treatment | Trial B   | \n",
       "| 4         | 47        | Treatment | Trial B   | \n",
       "| 5         | 58        | Treatment | Trial A   | \n",
       "| 6         | 48        | Treatment | Trial B   | \n",
       "\n",
       "\n"
      ],
      "text/plain": [
       "  subject age treatment trial  \n",
       "1 1       23  Treatment Trial A\n",
       "2 2       47  Treatment Trial C\n",
       "3 3       47  Treatment Trial B\n",
       "4 4       47  Treatment Trial B\n",
       "5 5       58  Treatment Trial A\n",
       "6 6       48  Treatment Trial B"
      ]
     },
     "metadata": {},
     "output_type": "display_data"
    }
   ],
   "source": [
    "head(study_results)"
   ]
  },
  {
   "cell_type": "markdown",
   "metadata": {},
   "source": [
    "The first and simplest thing we can table is to get counts of something, say like the number of people in each trial:"
   ]
  },
  {
   "cell_type": "code",
   "execution_count": 101,
   "metadata": {},
   "outputs": [
    {
     "data": {
      "text/plain": [
       "\n",
       "Trial A Trial B Trial C Trial D Trial E \n",
       "     16      19      23      18      24 "
      ]
     },
     "metadata": {},
     "output_type": "display_data"
    }
   ],
   "source": [
    "table(study_results$trial)"
   ]
  },
  {
   "cell_type": "markdown",
   "metadata": {},
   "source": [
    "More interesting might be to see how well distributed the treatments and controls were per trial:"
   ]
  },
  {
   "cell_type": "code",
   "execution_count": 102,
   "metadata": {},
   "outputs": [
    {
     "data": {
      "text/plain": [
       "         \n",
       "          FALSE TRUE\n",
       "  Trial A     7    9\n",
       "  Trial B     9   10\n",
       "  Trial C    11   12\n",
       "  Trial D    11    7\n",
       "  Trial E    12   12"
      ]
     },
     "metadata": {},
     "output_type": "display_data"
    }
   ],
   "source": [
    "table(study_results$trial,study_results$treatment=='Treatment')"
   ]
  },
  {
   "cell_type": "markdown",
   "metadata": {},
   "source": [
    "R also has an `xtab` (cross-tabular) function that gives you other kinds of summaries - by default the sum - for say, of all the ages in the study:"
   ]
  },
  {
   "cell_type": "code",
   "execution_count": 104,
   "metadata": {
    "collapsed": true
   },
   "outputs": [],
   "source": [
    "?xtabs"
   ]
  },
  {
   "cell_type": "code",
   "execution_count": 5,
   "metadata": {},
   "outputs": [
    {
     "data": {
      "text/plain": [
       "treatment\n",
       "  Control Treatment \n",
       "     1853      2000 "
      ]
     },
     "metadata": {},
     "output_type": "display_data"
    }
   ],
   "source": [
    "sort(xtabs(age~treatment,study_results))"
   ]
  },
  {
   "cell_type": "markdown",
   "metadata": {},
   "source": [
    "---\n",
    "# Task 4\n",
    "---\n",
    "\n",
    "Import the MLB pitching data and figure out how many total saves (`SV`) each team had in 2017, retuning them in order."
   ]
  },
  {
   "cell_type": "code",
   "execution_count": null,
   "metadata": {
    "collapsed": true
   },
   "outputs": [],
   "source": [
    "# Your answer here\n"
   ]
  },
  {
   "cell_type": "markdown",
   "metadata": {},
   "source": [
    "## Value matching\n",
    "\n",
    "Among the more useful things to do with a computer is compare matching elements of two different lists - in a stroke of serendipity this is remarkably tedious for people to do and remarkably easy for a computer. R has two distinct ways to do matching `%in%` and `match()`.\n",
    "\n",
    "## `%in%`\n",
    "\n",
    "The somewhat oddly written `%in%` function really just asks a simple question: is the first thing %within% the second. So with a simple list of numbers:"
   ]
  },
  {
   "cell_type": "code",
   "execution_count": 109,
   "metadata": {
    "collapsed": true
   },
   "outputs": [],
   "source": [
    "longarray = 1:10\n",
    "shortarray = c(1,3,5,9)"
   ]
  },
  {
   "cell_type": "code",
   "execution_count": 110,
   "metadata": {},
   "outputs": [
    {
     "data": {
      "text/html": [
       "<ol class=list-inline>\n",
       "\t<li>1</li>\n",
       "\t<li>2</li>\n",
       "\t<li>3</li>\n",
       "\t<li>4</li>\n",
       "\t<li>5</li>\n",
       "\t<li>6</li>\n",
       "\t<li>7</li>\n",
       "\t<li>8</li>\n",
       "\t<li>9</li>\n",
       "\t<li>10</li>\n",
       "</ol>\n"
      ],
      "text/latex": [
       "\\begin{enumerate*}\n",
       "\\item 1\n",
       "\\item 2\n",
       "\\item 3\n",
       "\\item 4\n",
       "\\item 5\n",
       "\\item 6\n",
       "\\item 7\n",
       "\\item 8\n",
       "\\item 9\n",
       "\\item 10\n",
       "\\end{enumerate*}\n"
      ],
      "text/markdown": [
       "1. 1\n",
       "2. 2\n",
       "3. 3\n",
       "4. 4\n",
       "5. 5\n",
       "6. 6\n",
       "7. 7\n",
       "8. 8\n",
       "9. 9\n",
       "10. 10\n",
       "\n",
       "\n"
      ],
      "text/plain": [
       " [1]  1  2  3  4  5  6  7  8  9 10"
      ]
     },
     "metadata": {},
     "output_type": "display_data"
    }
   ],
   "source": [
    "longarray"
   ]
  },
  {
   "cell_type": "code",
   "execution_count": 111,
   "metadata": {},
   "outputs": [
    {
     "data": {
      "text/html": [
       "<ol class=list-inline>\n",
       "\t<li>1</li>\n",
       "\t<li>3</li>\n",
       "\t<li>5</li>\n",
       "\t<li>9</li>\n",
       "</ol>\n"
      ],
      "text/latex": [
       "\\begin{enumerate*}\n",
       "\\item 1\n",
       "\\item 3\n",
       "\\item 5\n",
       "\\item 9\n",
       "\\end{enumerate*}\n"
      ],
      "text/markdown": [
       "1. 1\n",
       "2. 3\n",
       "3. 5\n",
       "4. 9\n",
       "\n",
       "\n"
      ],
      "text/plain": [
       "[1] 1 3 5 9"
      ]
     },
     "metadata": {},
     "output_type": "display_data"
    }
   ],
   "source": [
    "shortarray"
   ]
  },
  {
   "cell_type": "code",
   "execution_count": 112,
   "metadata": {},
   "outputs": [
    {
     "data": {
      "text/html": [
       "<ol class=list-inline>\n",
       "\t<li>TRUE</li>\n",
       "\t<li>FALSE</li>\n",
       "\t<li>TRUE</li>\n",
       "\t<li>FALSE</li>\n",
       "\t<li>TRUE</li>\n",
       "\t<li>FALSE</li>\n",
       "\t<li>FALSE</li>\n",
       "\t<li>FALSE</li>\n",
       "\t<li>TRUE</li>\n",
       "\t<li>FALSE</li>\n",
       "</ol>\n"
      ],
      "text/latex": [
       "\\begin{enumerate*}\n",
       "\\item TRUE\n",
       "\\item FALSE\n",
       "\\item TRUE\n",
       "\\item FALSE\n",
       "\\item TRUE\n",
       "\\item FALSE\n",
       "\\item FALSE\n",
       "\\item FALSE\n",
       "\\item TRUE\n",
       "\\item FALSE\n",
       "\\end{enumerate*}\n"
      ],
      "text/markdown": [
       "1. TRUE\n",
       "2. FALSE\n",
       "3. TRUE\n",
       "4. FALSE\n",
       "5. TRUE\n",
       "6. FALSE\n",
       "7. FALSE\n",
       "8. FALSE\n",
       "9. TRUE\n",
       "10. FALSE\n",
       "\n",
       "\n"
      ],
      "text/plain": [
       " [1]  TRUE FALSE  TRUE FALSE  TRUE FALSE FALSE FALSE  TRUE FALSE"
      ]
     },
     "metadata": {},
     "output_type": "display_data"
    }
   ],
   "source": [
    "longarray %in% shortarray"
   ]
  },
  {
   "cell_type": "code",
   "execution_count": 114,
   "metadata": {},
   "outputs": [
    {
     "data": {
      "text/html": [
       "<ol class=list-inline>\n",
       "\t<li>1</li>\n",
       "\t<li>3</li>\n",
       "\t<li>5</li>\n",
       "\t<li>9</li>\n",
       "</ol>\n"
      ],
      "text/latex": [
       "\\begin{enumerate*}\n",
       "\\item 1\n",
       "\\item 3\n",
       "\\item 5\n",
       "\\item 9\n",
       "\\end{enumerate*}\n"
      ],
      "text/markdown": [
       "1. 1\n",
       "2. 3\n",
       "3. 5\n",
       "4. 9\n",
       "\n",
       "\n"
      ],
      "text/plain": [
       "[1] 1 3 5 9"
      ]
     },
     "metadata": {},
     "output_type": "display_data"
    }
   ],
   "source": [
    "longarray[longarray %in% shortarray]"
   ]
  },
  {
   "cell_type": "code",
   "execution_count": 113,
   "metadata": {},
   "outputs": [
    {
     "data": {
      "text/html": [
       "<ol class=list-inline>\n",
       "\t<li>TRUE</li>\n",
       "\t<li>TRUE</li>\n",
       "\t<li>TRUE</li>\n",
       "\t<li>TRUE</li>\n",
       "</ol>\n"
      ],
      "text/latex": [
       "\\begin{enumerate*}\n",
       "\\item TRUE\n",
       "\\item TRUE\n",
       "\\item TRUE\n",
       "\\item TRUE\n",
       "\\end{enumerate*}\n"
      ],
      "text/markdown": [
       "1. TRUE\n",
       "2. TRUE\n",
       "3. TRUE\n",
       "4. TRUE\n",
       "\n",
       "\n"
      ],
      "text/plain": [
       "[1] TRUE TRUE TRUE TRUE"
      ]
     },
     "metadata": {},
     "output_type": "display_data"
    }
   ],
   "source": [
    "shortarray %in% longarray"
   ]
  },
  {
   "cell_type": "markdown",
   "metadata": {},
   "source": [
    "Look carefully here at what is being compared, simply is each member of the left hand item also a member of the right hand item. It doesn't matter their order, but the left hand item is the length of what gets returned, because that's what is being checked.\n",
    "\n",
    "This kind of matching can also usefully apply to strings:"
   ]
  },
  {
   "cell_type": "code",
   "execution_count": 115,
   "metadata": {},
   "outputs": [
    {
     "data": {
      "text/html": [
       "<ol class=list-inline>\n",
       "\t<li>'c'</li>\n",
       "\t<li>'ab'</li>\n",
       "\t<li>'B'</li>\n",
       "\t<li>'bba'</li>\n",
       "\t<li>'c'</li>\n",
       "\t<li>NA</li>\n",
       "\t<li>'@'</li>\n",
       "\t<li>'bla'</li>\n",
       "\t<li>'a'</li>\n",
       "\t<li>'Ba'</li>\n",
       "\t<li>'%'</li>\n",
       "</ol>\n"
      ],
      "text/latex": [
       "\\begin{enumerate*}\n",
       "\\item 'c'\n",
       "\\item 'ab'\n",
       "\\item 'B'\n",
       "\\item 'bba'\n",
       "\\item 'c'\n",
       "\\item NA\n",
       "\\item '@'\n",
       "\\item 'bla'\n",
       "\\item 'a'\n",
       "\\item 'Ba'\n",
       "\\item '\\%'\n",
       "\\end{enumerate*}\n"
      ],
      "text/markdown": [
       "1. 'c'\n",
       "2. 'ab'\n",
       "3. 'B'\n",
       "4. 'bba'\n",
       "5. 'c'\n",
       "6. NA\n",
       "7. '@'\n",
       "8. 'bla'\n",
       "9. 'a'\n",
       "10. 'Ba'\n",
       "11. '%'\n",
       "\n",
       "\n"
      ],
      "text/plain": [
       " [1] \"c\"   \"ab\"  \"B\"   \"bba\" \"c\"   NA    \"@\"   \"bla\" \"a\"   \"Ba\"  \"%\"  "
      ]
     },
     "metadata": {},
     "output_type": "display_data"
    }
   ],
   "source": [
    "# Example from help('%in%')\n",
    "sstr = c(\"c\",\"ab\",\"B\",\"bba\",\"c\",NA,\"@\",\"bla\",\"a\",\"Ba\",\"%\")\n",
    "sstr"
   ]
  },
  {
   "cell_type": "code",
   "execution_count": 116,
   "metadata": {},
   "outputs": [
    {
     "data": {
      "text/html": [
       "<ol class=list-inline>\n",
       "\t<li>'a'</li>\n",
       "\t<li>'b'</li>\n",
       "\t<li>'c'</li>\n",
       "\t<li>'d'</li>\n",
       "\t<li>'e'</li>\n",
       "\t<li>'f'</li>\n",
       "\t<li>'g'</li>\n",
       "\t<li>'h'</li>\n",
       "\t<li>'i'</li>\n",
       "\t<li>'j'</li>\n",
       "\t<li>'k'</li>\n",
       "\t<li>'l'</li>\n",
       "\t<li>'m'</li>\n",
       "\t<li>'n'</li>\n",
       "\t<li>'o'</li>\n",
       "\t<li>'p'</li>\n",
       "\t<li>'q'</li>\n",
       "\t<li>'r'</li>\n",
       "\t<li>'s'</li>\n",
       "\t<li>'t'</li>\n",
       "\t<li>'u'</li>\n",
       "\t<li>'v'</li>\n",
       "\t<li>'w'</li>\n",
       "\t<li>'x'</li>\n",
       "\t<li>'y'</li>\n",
       "\t<li>'z'</li>\n",
       "</ol>\n"
      ],
      "text/latex": [
       "\\begin{enumerate*}\n",
       "\\item 'a'\n",
       "\\item 'b'\n",
       "\\item 'c'\n",
       "\\item 'd'\n",
       "\\item 'e'\n",
       "\\item 'f'\n",
       "\\item 'g'\n",
       "\\item 'h'\n",
       "\\item 'i'\n",
       "\\item 'j'\n",
       "\\item 'k'\n",
       "\\item 'l'\n",
       "\\item 'm'\n",
       "\\item 'n'\n",
       "\\item 'o'\n",
       "\\item 'p'\n",
       "\\item 'q'\n",
       "\\item 'r'\n",
       "\\item 's'\n",
       "\\item 't'\n",
       "\\item 'u'\n",
       "\\item 'v'\n",
       "\\item 'w'\n",
       "\\item 'x'\n",
       "\\item 'y'\n",
       "\\item 'z'\n",
       "\\end{enumerate*}\n"
      ],
      "text/markdown": [
       "1. 'a'\n",
       "2. 'b'\n",
       "3. 'c'\n",
       "4. 'd'\n",
       "5. 'e'\n",
       "6. 'f'\n",
       "7. 'g'\n",
       "8. 'h'\n",
       "9. 'i'\n",
       "10. 'j'\n",
       "11. 'k'\n",
       "12. 'l'\n",
       "13. 'm'\n",
       "14. 'n'\n",
       "15. 'o'\n",
       "16. 'p'\n",
       "17. 'q'\n",
       "18. 'r'\n",
       "19. 's'\n",
       "20. 't'\n",
       "21. 'u'\n",
       "22. 'v'\n",
       "23. 'w'\n",
       "24. 'x'\n",
       "25. 'y'\n",
       "26. 'z'\n",
       "\n",
       "\n"
      ],
      "text/plain": [
       " [1] \"a\" \"b\" \"c\" \"d\" \"e\" \"f\" \"g\" \"h\" \"i\" \"j\" \"k\" \"l\" \"m\" \"n\" \"o\" \"p\" \"q\" \"r\" \"s\"\n",
       "[20] \"t\" \"u\" \"v\" \"w\" \"x\" \"y\" \"z\""
      ]
     },
     "metadata": {},
     "output_type": "display_data"
    },
    {
     "data": {
      "text/html": [
       "<ol class=list-inline>\n",
       "\t<li>'A'</li>\n",
       "\t<li>'B'</li>\n",
       "\t<li>'C'</li>\n",
       "\t<li>'D'</li>\n",
       "\t<li>'E'</li>\n",
       "\t<li>'F'</li>\n",
       "\t<li>'G'</li>\n",
       "\t<li>'H'</li>\n",
       "\t<li>'I'</li>\n",
       "\t<li>'J'</li>\n",
       "\t<li>'K'</li>\n",
       "\t<li>'L'</li>\n",
       "\t<li>'M'</li>\n",
       "\t<li>'N'</li>\n",
       "\t<li>'O'</li>\n",
       "\t<li>'P'</li>\n",
       "\t<li>'Q'</li>\n",
       "\t<li>'R'</li>\n",
       "\t<li>'S'</li>\n",
       "\t<li>'T'</li>\n",
       "\t<li>'U'</li>\n",
       "\t<li>'V'</li>\n",
       "\t<li>'W'</li>\n",
       "\t<li>'X'</li>\n",
       "\t<li>'Y'</li>\n",
       "\t<li>'Z'</li>\n",
       "</ol>\n"
      ],
      "text/latex": [
       "\\begin{enumerate*}\n",
       "\\item 'A'\n",
       "\\item 'B'\n",
       "\\item 'C'\n",
       "\\item 'D'\n",
       "\\item 'E'\n",
       "\\item 'F'\n",
       "\\item 'G'\n",
       "\\item 'H'\n",
       "\\item 'I'\n",
       "\\item 'J'\n",
       "\\item 'K'\n",
       "\\item 'L'\n",
       "\\item 'M'\n",
       "\\item 'N'\n",
       "\\item 'O'\n",
       "\\item 'P'\n",
       "\\item 'Q'\n",
       "\\item 'R'\n",
       "\\item 'S'\n",
       "\\item 'T'\n",
       "\\item 'U'\n",
       "\\item 'V'\n",
       "\\item 'W'\n",
       "\\item 'X'\n",
       "\\item 'Y'\n",
       "\\item 'Z'\n",
       "\\end{enumerate*}\n"
      ],
      "text/markdown": [
       "1. 'A'\n",
       "2. 'B'\n",
       "3. 'C'\n",
       "4. 'D'\n",
       "5. 'E'\n",
       "6. 'F'\n",
       "7. 'G'\n",
       "8. 'H'\n",
       "9. 'I'\n",
       "10. 'J'\n",
       "11. 'K'\n",
       "12. 'L'\n",
       "13. 'M'\n",
       "14. 'N'\n",
       "15. 'O'\n",
       "16. 'P'\n",
       "17. 'Q'\n",
       "18. 'R'\n",
       "19. 'S'\n",
       "20. 'T'\n",
       "21. 'U'\n",
       "22. 'V'\n",
       "23. 'W'\n",
       "24. 'X'\n",
       "25. 'Y'\n",
       "26. 'Z'\n",
       "\n",
       "\n"
      ],
      "text/plain": [
       " [1] \"A\" \"B\" \"C\" \"D\" \"E\" \"F\" \"G\" \"H\" \"I\" \"J\" \"K\" \"L\" \"M\" \"N\" \"O\" \"P\" \"Q\" \"R\" \"S\"\n",
       "[20] \"T\" \"U\" \"V\" \"W\" \"X\" \"Y\" \"Z\""
      ]
     },
     "metadata": {},
     "output_type": "display_data"
    }
   ],
   "source": [
    "# Bulit-in letters\n",
    "letters\n",
    "LETTERS"
   ]
  },
  {
   "cell_type": "code",
   "execution_count": 117,
   "metadata": {},
   "outputs": [
    {
     "data": {
      "text/html": [
       "<ol class=list-inline>\n",
       "\t<li>'c'</li>\n",
       "\t<li>'B'</li>\n",
       "\t<li>'c'</li>\n",
       "\t<li>'a'</li>\n",
       "</ol>\n"
      ],
      "text/latex": [
       "\\begin{enumerate*}\n",
       "\\item 'c'\n",
       "\\item 'B'\n",
       "\\item 'c'\n",
       "\\item 'a'\n",
       "\\end{enumerate*}\n"
      ],
      "text/markdown": [
       "1. 'c'\n",
       "2. 'B'\n",
       "3. 'c'\n",
       "4. 'a'\n",
       "\n",
       "\n"
      ],
      "text/plain": [
       "[1] \"c\" \"B\" \"c\" \"a\""
      ]
     },
     "metadata": {},
     "output_type": "display_data"
    }
   ],
   "source": [
    "sstr[sstr %in% c(letters, LETTERS)]"
   ]
  },
  {
   "cell_type": "markdown",
   "metadata": {},
   "source": [
    "What comes back here, through some clever use of positional indexing, are the values of `sstr` that are letters (or LETTERS)."
   ]
  },
  {
   "cell_type": "markdown",
   "metadata": {
    "collapsed": true
   },
   "source": [
    "## `match()`\n",
    "\n",
    "One of R's more useful functions for indexing one vector based on another is `match()`, which takes items in one list and finds their **index position** in another. "
   ]
  },
  {
   "cell_type": "markdown",
   "metadata": {},
   "source": [
    "Remember our perfect-batting 2017 baseball pitchers from two weeks ago? "
   ]
  },
  {
   "cell_type": "code",
   "execution_count": 118,
   "metadata": {},
   "outputs": [
    {
     "data": {
      "text/html": [
       "<table>\n",
       "<thead><tr><th></th><th scope=col>Rk</th><th scope=col>Name</th><th scope=col>Age</th><th scope=col>Tm</th><th scope=col>Lg</th><th scope=col>G</th><th scope=col>PA</th><th scope=col>AB</th><th scope=col>R</th><th scope=col>H</th><th scope=col>⋯</th><th scope=col>SLG</th><th scope=col>OPS</th><th scope=col>OPS.</th><th scope=col>TB</th><th scope=col>GDP</th><th scope=col>HBP</th><th scope=col>SH</th><th scope=col>SF</th><th scope=col>IBB</th><th scope=col>Pos.Summary</th></tr></thead>\n",
       "<tbody>\n",
       "\t<tr><th scope=row>641</th><td> 641                      </td><td>Raisel Iglesias\\iglesra01</td><td>27                        </td><td>CIN                       </td><td>NL                        </td><td>60                        </td><td>1                         </td><td>1                         </td><td>0                         </td><td>1                         </td><td>⋯                         </td><td>2                         </td><td>3                         </td><td>657                       </td><td>2                         </td><td>0                         </td><td>0                         </td><td>0                         </td><td>0                         </td><td>0                         </td><td>1                         </td></tr>\n",
       "\t<tr><th scope=row>1321</th><td>1321                      </td><td>Jose Torres*\\torrejo02   </td><td>23                        </td><td>SDP                       </td><td>NL                        </td><td>57                        </td><td>1                         </td><td>1                         </td><td>1                         </td><td>1                         </td><td>⋯                         </td><td>1                         </td><td>2                         </td><td>439                       </td><td>1                         </td><td>0                         </td><td>0                         </td><td>0                         </td><td>0                         </td><td>0                         </td><td>1                         </td></tr>\n",
       "</tbody>\n",
       "</table>\n"
      ],
      "text/latex": [
       "\\begin{tabular}{r|llllllllllllllllllllllllllllll}\n",
       "  & Rk & Name & Age & Tm & Lg & G & PA & AB & R & H & ⋯ & SLG & OPS & OPS. & TB & GDP & HBP & SH & SF & IBB & Pos.Summary\\\\\n",
       "\\hline\n",
       "\t641 &  641                                      & Raisel Iglesias\\textbackslash{}iglesra01 & 27                                        & CIN                                       & NL                                        & 60                                        & 1                                         & 1                                         & 0                                         & 1                                         & ⋯                                         & 2                                         & 3                                         & 657                                       & 2                                         & 0                                         & 0                                         & 0                                         & 0                                         & 0                                         & 1                                        \\\\\n",
       "\t1321 & 1321                                      & Jose Torres*\\textbackslash{}torrejo02    & 23                                        & SDP                                       & NL                                        & 57                                        & 1                                         & 1                                         & 1                                         & 1                                         & ⋯                                         & 1                                         & 2                                         & 439                                       & 1                                         & 0                                         & 0                                         & 0                                         & 0                                         & 0                                         & 1                                        \\\\\n",
       "\\end{tabular}\n"
      ],
      "text/markdown": [
       "\n",
       "| <!--/--> | Rk | Name | Age | Tm | Lg | G | PA | AB | R | H | ⋯ | SLG | OPS | OPS. | TB | GDP | HBP | SH | SF | IBB | Pos.Summary | \n",
       "|---|---|\n",
       "| 641 |  641                       | Raisel Iglesias\\iglesra01 | 27                         | CIN                        | NL                         | 60                         | 1                          | 1                          | 0                          | 1                          | ⋯                          | 2                          | 3                          | 657                        | 2                          | 0                          | 0                          | 0                          | 0                          | 0                          | 1                          | \n",
       "| 1321 | 1321                       | Jose Torres*\\torrejo02    | 23                         | SDP                        | NL                         | 57                         | 1                          | 1                          | 1                          | 1                          | ⋯                          | 1                          | 2                          | 439                        | 1                          | 0                          | 0                          | 0                          | 0                          | 0                          | 1                          | \n",
       "\n",
       "\n"
      ],
      "text/plain": [
       "     Rk   Name                       Age Tm  Lg G  PA AB R H ⋯ SLG OPS OPS. TB\n",
       "641   641 Raisel Iglesias\\\\iglesra01 27  CIN NL 60 1  1  0 1 ⋯ 2   3   657  2 \n",
       "1321 1321 Jose Torres*\\\\torrejo02    23  SDP NL 57 1  1  1 1 ⋯ 1   2   439  1 \n",
       "     GDP HBP SH SF IBB Pos.Summary\n",
       "641  0   0   0  0  0   1          \n",
       "1321 0   0   0  0  0   1          "
      ]
     },
     "metadata": {},
     "output_type": "display_data"
    }
   ],
   "source": [
    "mlb_batting = na.omit(read.csv(\"mlb2017_batting.txt\"))\n",
    "mlb_batting[mlb_batting$BA==1 & mlb_batting$G>10, ]"
   ]
  },
  {
   "cell_type": "markdown",
   "metadata": {},
   "source": [
    "Well let's figure out if they are actually closers, used in the last inning to shut down the other team. To do this, we'll need to import the pitching data from [Baseball-Reference.com](https://www.baseball-reference.com/leagues/MLB/2017-standard-pitching.shtml):"
   ]
  },
  {
   "cell_type": "code",
   "execution_count": 119,
   "metadata": {
    "collapsed": true
   },
   "outputs": [],
   "source": [
    "# Create new dataframe from baseball data\n",
    "mlb_pitching = na.omit(read.csv(\"mlb2017_pitching.txt\"))"
   ]
  },
  {
   "cell_type": "code",
   "execution_count": 120,
   "metadata": {},
   "outputs": [
    {
     "data": {
      "text/html": [
       "<ol class=list-inline>\n",
       "\t<li>'Rk'</li>\n",
       "\t<li>'Name'</li>\n",
       "\t<li>'Age'</li>\n",
       "\t<li>'Tm'</li>\n",
       "\t<li>'Lg'</li>\n",
       "\t<li>'W'</li>\n",
       "\t<li>'L'</li>\n",
       "\t<li>'W.L.'</li>\n",
       "\t<li>'ERA'</li>\n",
       "\t<li>'G'</li>\n",
       "\t<li>'GS'</li>\n",
       "\t<li>'GF'</li>\n",
       "\t<li>'CG'</li>\n",
       "\t<li>'SHO'</li>\n",
       "\t<li>'SV'</li>\n",
       "\t<li>'IP'</li>\n",
       "\t<li>'H'</li>\n",
       "\t<li>'R'</li>\n",
       "\t<li>'ER'</li>\n",
       "\t<li>'HR'</li>\n",
       "\t<li>'BB'</li>\n",
       "\t<li>'IBB'</li>\n",
       "\t<li>'SO'</li>\n",
       "\t<li>'HBP'</li>\n",
       "\t<li>'BK'</li>\n",
       "\t<li>'WP'</li>\n",
       "\t<li>'BF'</li>\n",
       "\t<li>'ERA.'</li>\n",
       "\t<li>'FIP'</li>\n",
       "\t<li>'WHIP'</li>\n",
       "\t<li>'H9'</li>\n",
       "\t<li>'HR9'</li>\n",
       "\t<li>'BB9'</li>\n",
       "\t<li>'SO9'</li>\n",
       "\t<li>'SO.W'</li>\n",
       "</ol>\n"
      ],
      "text/latex": [
       "\\begin{enumerate*}\n",
       "\\item 'Rk'\n",
       "\\item 'Name'\n",
       "\\item 'Age'\n",
       "\\item 'Tm'\n",
       "\\item 'Lg'\n",
       "\\item 'W'\n",
       "\\item 'L'\n",
       "\\item 'W.L.'\n",
       "\\item 'ERA'\n",
       "\\item 'G'\n",
       "\\item 'GS'\n",
       "\\item 'GF'\n",
       "\\item 'CG'\n",
       "\\item 'SHO'\n",
       "\\item 'SV'\n",
       "\\item 'IP'\n",
       "\\item 'H'\n",
       "\\item 'R'\n",
       "\\item 'ER'\n",
       "\\item 'HR'\n",
       "\\item 'BB'\n",
       "\\item 'IBB'\n",
       "\\item 'SO'\n",
       "\\item 'HBP'\n",
       "\\item 'BK'\n",
       "\\item 'WP'\n",
       "\\item 'BF'\n",
       "\\item 'ERA.'\n",
       "\\item 'FIP'\n",
       "\\item 'WHIP'\n",
       "\\item 'H9'\n",
       "\\item 'HR9'\n",
       "\\item 'BB9'\n",
       "\\item 'SO9'\n",
       "\\item 'SO.W'\n",
       "\\end{enumerate*}\n"
      ],
      "text/markdown": [
       "1. 'Rk'\n",
       "2. 'Name'\n",
       "3. 'Age'\n",
       "4. 'Tm'\n",
       "5. 'Lg'\n",
       "6. 'W'\n",
       "7. 'L'\n",
       "8. 'W.L.'\n",
       "9. 'ERA'\n",
       "10. 'G'\n",
       "11. 'GS'\n",
       "12. 'GF'\n",
       "13. 'CG'\n",
       "14. 'SHO'\n",
       "15. 'SV'\n",
       "16. 'IP'\n",
       "17. 'H'\n",
       "18. 'R'\n",
       "19. 'ER'\n",
       "20. 'HR'\n",
       "21. 'BB'\n",
       "22. 'IBB'\n",
       "23. 'SO'\n",
       "24. 'HBP'\n",
       "25. 'BK'\n",
       "26. 'WP'\n",
       "27. 'BF'\n",
       "28. 'ERA.'\n",
       "29. 'FIP'\n",
       "30. 'WHIP'\n",
       "31. 'H9'\n",
       "32. 'HR9'\n",
       "33. 'BB9'\n",
       "34. 'SO9'\n",
       "35. 'SO.W'\n",
       "\n",
       "\n"
      ],
      "text/plain": [
       " [1] \"Rk\"   \"Name\" \"Age\"  \"Tm\"   \"Lg\"   \"W\"    \"L\"    \"W.L.\" \"ERA\"  \"G\"   \n",
       "[11] \"GS\"   \"GF\"   \"CG\"   \"SHO\"  \"SV\"   \"IP\"   \"H\"    \"R\"    \"ER\"   \"HR\"  \n",
       "[21] \"BB\"   \"IBB\"  \"SO\"   \"HBP\"  \"BK\"   \"WP\"   \"BF\"   \"ERA.\" \"FIP\"  \"WHIP\"\n",
       "[31] \"H9\"   \"HR9\"  \"BB9\"  \"SO9\"  \"SO.W\""
      ]
     },
     "metadata": {},
     "output_type": "display_data"
    }
   ],
   "source": [
    "names(mlb_pitching)"
   ]
  },
  {
   "cell_type": "markdown",
   "metadata": {},
   "source": [
    "The columns for pitching are different than for batting:\n",
    "\n",
    "- **Rk** -- Rank; This is a count of the rows from top to bottom. It is recalculated following the sorting of a column.\n",
    "- **Name** -- Player Name; Bold can mean player is active for this team or player has appeared in MLB; * means LHP or LHB, # means switch hitter,+ can mean HOFer\n",
    "- **Age** -- Player’s age at midnight of June 30th of that year\n",
    "- **Lg** -- League; AL - American League (1901-present); NL - National League (1876-present); AA - American Association (1882-1891); UA - Union Association (1884); PL - Players League (1890); FL - Federal League (1914-1915); NA - National Association (1871-1875)\n",
    "\n",
    "- **W** -- Wins\n",
    "- **L** -- Losses\n",
    "- **W-L%** -- Win-Loss Percentage\n",
    "W / (W + L)\n",
    "For players, leaders need one decision for every ten team games.\n",
    "For managers, minimum to qualify for leading is 320 games.\n",
    "- **ERA** -- 9 * ER / IP\n",
    "For recent years, leaders need 1 IP\n",
    "per team game played.\n",
    "Bold indicates lowest ERA using current stats\n",
    "Gold means awarded ERA title at end of year.\n",
    "- **G** -- Games Played or Pitched\n",
    "- **GS** -- Games Started\n",
    "- **GF** -- Games Finished\n",
    "- **CG** -- Complete Game\n",
    "- **SHO** -- Shutouts\n",
    "No runs allowed and a complete game.\n",
    "- **SV** -- Saves\n",
    "- **IP** -- Innings Pitched\n",
    "- **H** -- Hits/Hits Allowed\n",
    "- **R** -- Runs Scored/Allowed\n",
    "- **ER** -- Earned Runs Allowed\n",
    "- **HR** -- Home Runs Hit/Allowed\n",
    "- **BB** -- Bases on Balls/Walks\n",
    "- **IBB** -- Intentional Bases on Balls\n",
    "First tracked in 1955.\n",
    "- **SO** -- Strikeouts\n",
    "- **HBP** -- Times Hit by a Pitch.\n",
    "- **BK** -- Balks\n",
    "- **WP** -- Wild Pitches\n",
    "- **BF** -- Batters Faced\n",
    "- **ERA+** -- ERA+\n",
    "100*[lgERA/ERA]\n",
    "Adjusted to the player’s ballpark(s).\n",
    "- **FIP** -- Fielding Independent Pitching\n",
    "this stat measures a pitcher's effectiveness at preventing HR, BB, HBP and causing SO\n",
    "(13*HR + 3*(BB+HBP) - 2*SO)/IP + Constantlg\n",
    "The constant is set so that each season MLB average FIP is the same as the MLB avg ERA\n",
    "- **WHIP** -- (BB + H)/IP\n",
    "For recent years, leaders need 1 IP\n",
    "per team game played\n",
    "- **H9** -- 9 x H / IP\n",
    "For recent years, leaders need 1 IP\n",
    "per team game played\n",
    "- **HR9** -- 9 x HR / IP\n",
    "For recent years, leaders need 1 IP\n",
    "per team game played\n",
    "- **BB9** -- 9 x BB / IP\n",
    "For recent years, leaders need 1 IP\n",
    "per team game played\n",
    "- **SO9** -- 9 x SO / IP\n",
    "For recent years, leaders need 1 IP\n",
    "per team game played\n",
    "- **SO/W** -- SO/W or SO/BB\n",
    "For recent years, pitching leaders need 1 IP\n",
    "per team game played.\n",
    "No batting leaders computed."
   ]
  },
  {
   "cell_type": "markdown",
   "metadata": {},
   "source": [
    "How do we figure out if these pitchers are closers? Reading the [Wikipedia Closer page](https://en.wikipedia.org/wiki/Closer_(baseball)) we can see that the main statistic that ranks closers is [saves](https://en.wikipedia.org/wiki/Save_(baseball)) (`SV`) - being is the finishing pitcher in a game won by his team and entered the game when they were ahead. \n",
    "\n",
    "So looking at saves:"
   ]
  },
  {
   "cell_type": "code",
   "execution_count": 121,
   "metadata": {},
   "outputs": [
    {
     "data": {
      "image/png": "[encoded data removed]",
      "text/plain": [
       "Plot with title “”"
      ]
     },
     "metadata": {},
     "output_type": "display_data"
    }
   ],
   "source": [
    "hist(mlb_pitching$SV,breaks=100, xlab='Saves', main='')"
   ]
  },
  {
   "cell_type": "markdown",
   "metadata": {},
   "source": [
    "We can see there are a lot of zeros and ones - likely starting pitchers - so looking at just those with more than 3 saves:"
   ]
  },
  {
   "cell_type": "code",
   "execution_count": 122,
   "metadata": {},
   "outputs": [
    {
     "data": {
      "image/png": "[encoded data removed]",
      "text/plain": [
       "Plot with title “”"
      ]
     },
     "metadata": {},
     "output_type": "display_data"
    }
   ],
   "source": [
    "hist(mlb_pitching$SV[mlb_pitching$SV>3],breaks=100, xlab='Saves', main='')"
   ]
  },
  {
   "cell_type": "markdown",
   "metadata": {},
   "source": [
    "We're likely looking at relievers or closers. The key thing we need to link the batting and pitching tables is the `name` column - we need to extract the names of interest from the batting column and use them to extract the number of saves for these two players.\n",
    "\n",
    "There are a few different ways one could do this in R, but a good one is the `match()` function, which finds the index locations of one list within another:"
   ]
  },
  {
   "cell_type": "code",
   "execution_count": 123,
   "metadata": {},
   "outputs": [
    {
     "data": {
      "text/html": [
       "<ol class=list-inline>\n",
       "\t<li>Raisel Iglesias\\\\iglesra01</li>\n",
       "\t<li>Jose Torres*\\\\torrejo02</li>\n",
       "</ol>\n"
      ],
      "text/latex": [
       "\\begin{enumerate*}\n",
       "\\item Raisel Iglesias\\textbackslash{}\\textbackslash{}iglesra01\n",
       "\\item Jose Torres*\\textbackslash{}\\textbackslash{}torrejo02\n",
       "\\end{enumerate*}\n"
      ],
      "text/markdown": [
       "1. Raisel Iglesias\\\\iglesra01\n",
       "2. Jose Torres*\\\\torrejo02\n",
       "\n",
       "\n"
      ],
      "text/plain": [
       "[1] Raisel Iglesias\\\\iglesra01 Jose Torres*\\\\torrejo02   \n",
       "1230 Levels: A.J. Cole\\\\coleaj01 ... Zack Wheeler*\\\\wheelza01"
      ]
     },
     "metadata": {},
     "output_type": "display_data"
    }
   ],
   "source": [
    "# Possible closers from batting data\n",
    "Pclosers = mlb_batting$Name[mlb_batting$BA==1&mlb_batting$G>10]\n",
    "Pclosers"
   ]
  },
  {
   "cell_type": "code",
   "execution_count": 124,
   "metadata": {},
   "outputs": [
    {
     "data": {
      "text/html": [
       "<ol class=list-inline>\n",
       "\t<li>311</li>\n",
       "\t<li>645</li>\n",
       "</ol>\n"
      ],
      "text/latex": [
       "\\begin{enumerate*}\n",
       "\\item 311\n",
       "\\item 645\n",
       "\\end{enumerate*}\n"
      ],
      "text/markdown": [
       "1. 311\n",
       "2. 645\n",
       "\n",
       "\n"
      ],
      "text/plain": [
       "[1] 311 645"
      ]
     },
     "metadata": {},
     "output_type": "display_data"
    }
   ],
   "source": [
    "# Index pitching data for these players\n",
    "indx = match(Pclosers, mlb_pitching$Name)\n",
    "indx"
   ]
  },
  {
   "cell_type": "markdown",
   "metadata": {},
   "source": [
    "Take a second to look at this - we match the datasets in a specific direction, getting the index positions within the second match function argument, for the players corresponding to the first match function argument. Order here is important and you need to remember (or trial and error) which is which."
   ]
  },
  {
   "cell_type": "code",
   "execution_count": 125,
   "metadata": {},
   "outputs": [
    {
     "data": {
      "text/html": [
       "<table>\n",
       "<thead><tr><th></th><th scope=col>Rk</th><th scope=col>Name</th><th scope=col>Age</th><th scope=col>Tm</th><th scope=col>Lg</th><th scope=col>W</th><th scope=col>L</th><th scope=col>W.L.</th><th scope=col>ERA</th><th scope=col>G</th><th scope=col>GS</th><th scope=col>GF</th><th scope=col>CG</th><th scope=col>SHO</th><th scope=col>SV</th><th scope=col>IP</th><th scope=col>H</th><th scope=col>R</th><th scope=col>ER</th><th scope=col>HR</th></tr></thead>\n",
       "<tbody>\n",
       "\t<tr><th scope=row>395</th><td>395                       </td><td>Raisel Iglesias\\iglesra01</td><td>27                        </td><td>CIN                       </td><td>NL                        </td><td>3                         </td><td>3                         </td><td>0.500                     </td><td>2.49                      </td><td>63                        </td><td>0                         </td><td>57                        </td><td>0                         </td><td>0                         </td><td>28                        </td><td>76.0                      </td><td>57                        </td><td>22                        </td><td>21                        </td><td> 5                        </td></tr>\n",
       "\t<tr><th scope=row>828</th><td>828                       </td><td>Jose Torres*\\torrejo02   </td><td>23                        </td><td>SDP                       </td><td>NL                        </td><td>7                         </td><td>4                         </td><td>0.636                     </td><td>4.21                      </td><td>62                        </td><td>0                         </td><td>16                        </td><td>0                         </td><td>0                         </td><td> 1                        </td><td>68.1                      </td><td>63                        </td><td>34                        </td><td>32                        </td><td>13                        </td></tr>\n",
       "</tbody>\n",
       "</table>\n"
      ],
      "text/latex": [
       "\\begin{tabular}{r|llllllllllllllllllll}\n",
       "  & Rk & Name & Age & Tm & Lg & W & L & W.L. & ERA & G & GS & GF & CG & SHO & SV & IP & H & R & ER & HR\\\\\n",
       "\\hline\n",
       "\t395 & 395                                       & Raisel Iglesias\\textbackslash{}iglesra01 & 27                                        & CIN                                       & NL                                        & 3                                         & 3                                         & 0.500                                     & 2.49                                      & 63                                        & 0                                         & 57                                        & 0                                         & 0                                         & 28                                        & 76.0                                      & 57                                        & 22                                        & 21                                        &  5                                       \\\\\n",
       "\t828 & 828                                       & Jose Torres*\\textbackslash{}torrejo02    & 23                                        & SDP                                       & NL                                        & 7                                         & 4                                         & 0.636                                     & 4.21                                      & 62                                        & 0                                         & 16                                        & 0                                         & 0                                         &  1                                        & 68.1                                      & 63                                        & 34                                        & 32                                        & 13                                       \\\\\n",
       "\\end{tabular}\n"
      ],
      "text/markdown": [
       "\n",
       "| <!--/--> | Rk | Name | Age | Tm | Lg | W | L | W.L. | ERA | G | GS | GF | CG | SHO | SV | IP | H | R | ER | HR | \n",
       "|---|---|\n",
       "| 395 | 395                        | Raisel Iglesias\\iglesra01 | 27                         | CIN                        | NL                         | 3                          | 3                          | 0.500                      | 2.49                       | 63                         | 0                          | 57                         | 0                          | 0                          | 28                         | 76.0                       | 57                         | 22                         | 21                         |  5                         | \n",
       "| 828 | 828                        | Jose Torres*\\torrejo02    | 23                         | SDP                        | NL                         | 7                          | 4                          | 0.636                      | 4.21                       | 62                         | 0                          | 16                         | 0                          | 0                          |  1                         | 68.1                       | 63                         | 34                         | 32                         | 13                         | \n",
       "\n",
       "\n"
      ],
      "text/plain": [
       "    Rk  Name                       Age Tm  Lg W L W.L.  ERA  G  GS GF CG SHO SV\n",
       "395 395 Raisel Iglesias\\\\iglesra01 27  CIN NL 3 3 0.500 2.49 63 0  57 0  0   28\n",
       "828 828 Jose Torres*\\\\torrejo02    23  SDP NL 7 4 0.636 4.21 62 0  16 0  0    1\n",
       "    IP   H  R  ER HR\n",
       "395 76.0 57 22 21  5\n",
       "828 68.1 63 34 32 13"
      ]
     },
     "metadata": {},
     "output_type": "display_data"
    }
   ],
   "source": [
    "# Index the pitching data\n",
    "mlb_pitching[indx,1:20]"
   ]
  },
  {
   "cell_type": "markdown",
   "metadata": {},
   "source": [
    "From this we can see that with 28 saves one player (Raisel Iglesias) appears to be a closer - however with one save the other player clearly isn't (`SV=1`). Who the heck is Jose Torres? It looks like he was used as a short-relief pitcher - used in 68 innings but only allowed to come to bat once during his entire career. (Don't feel bad for him, as it turns out he's [not a nice guy](http://www.sandiegouniontribune.com/sports/sd-sp-padres-jose-torres-padres-arrest-0214-story.html).)"
   ]
  },
  {
   "cell_type": "markdown",
   "metadata": {
    "collapsed": true
   },
   "source": [
    "---\n",
    "# Task 5\n",
    "---\n",
    "\n",
    "Use your index and matching skills to find oldest MLB pitcher to hit above 0.250 in 2017."
   ]
  },
  {
   "cell_type": "code",
   "execution_count": null,
   "metadata": {
    "collapsed": true
   },
   "outputs": [],
   "source": [
    "# Your answer here\n"
   ]
  },
  {
   "cell_type": "markdown",
   "metadata": {},
   "source": [
    "*Several parts of today were cribbed from [Jenny Bryan](http://stat545.com/block004_basic-r-objects.html)."
   ]
  },
  {
   "cell_type": "markdown",
   "metadata": {},
   "source": [
    "# What have you learned and what's next?\n",
    "\n",
    "The point of today's lab was to learn a few key aspects of R objects so we can wrangle them\n",
    "\n",
    "**You should at this point be comfortable:**\n",
    " 1. Knowing about various vector types\n",
    " 2. Understanding that not all R vectors act the same\n",
    " 3. Handling factors\n",
    " 4. Tables\n",
    " 5. Value matching\n",
    "\n",
    "Next week we will delve into database-style operations, life-saving for reproducible, error-free research that will speed up many data wrangling operations."
   ]
  },
  {
   "cell_type": "markdown",
   "metadata": {},
   "source": [
    "---\n",
    "# Assignment 1 - Excel from Hell - 'the revenge'\n"
   ]
  }
 ],
 "metadata": {
  "kernelspec": {
   "display_name": "R",
   "language": "R",
   "name": "ir"
  },
  "language_info": {
   "codemirror_mode": "r",
   "file_extension": ".r",
   "mimetype": "text/x-r-source",
   "name": "R",
   "pygments_lexer": "r",
   "version": "3.4.3"
  }
 },
 "nbformat": 4,
 "nbformat_minor": 2
}
