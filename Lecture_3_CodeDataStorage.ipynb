{
 "cells": [
  {
   "cell_type": "markdown",
   "metadata": {
    "collapsed": true
   },
   "source": [
    "# Lecture 3 - Code and Data Storage"
   ]
  },
  {
   "cell_type": "markdown",
   "metadata": {},
   "source": [
    "## Reproducible research (intro)"
   ]
  },
  {
   "cell_type": "markdown",
   "metadata": {},
   "source": [
    "The ability of others to understand and repeat a study (*i.e.* replicable) is one of the core pillars of the scientific method, a critical check that the methods used for inference are sound and that the findings are general enough to constitute new knowledge. Historically the ability of others to understand what was done (and therefore to do the same research again) was typically provided by the Methods section in a publication. With this description in hand, it was thought, others would be able to spin up their own study and see how closely their results matched those reported in a given study. \n",
    "\n",
    "Although in practice this doesn't always happen, it is exactly how the most important scientific research gets used. Discovered in 2012, the gene-editing technology [CRISPR-Cas9](https://en.wikipedia.org/wiki/CRISPR) is already one of the most important discoveries in the history of Biology (and will certainly to lead to a Nobel Prize for its discoverers, Jennifer Doudna and Emmanuelle Charpentier), making it possible to edit specific genetic code to add or remove information. The rapid adoption and use of CRISPR-Cas9 to edit genes is entirely due to its being presented in a reproducible way, with a [detailed supplemental secion](http://science.sciencemag.org/highwire/filestream/593726/field_highwire_adjunct_files/0/1225829.Jinek.SM.revision.1.pdf) in the main paper that provided all the information needed to try it at home. Belief in a scientific finding comes initially from the plausabilty of the work based on the described methods (tentative belief), then fundamentally by others being able to successfully and independently repeat the study, acheiveing similar answers.\n",
    "\n",
    "We will discuss it more in subsequent lectures, but suffice to say here that in contemporary biology reproducible research has come to mean that all necessary information to repeat a study is made available, including a description of the methods used, the data collected, and the computer code used for analysis and production of published graphics.\n",
    "\n",
    "In this lecture we'll discuss contemporary ways to store code and data, so that others (including your future self) can figure out what was done."
   ]
  },
  {
   "cell_type": "markdown",
   "metadata": {},
   "source": [
    "## GitHub\n",
    "\n",
    "[GitHub GitHub GitHub](https://github.com/) - GitHub is fantastic. A free, open-source, online repository for storing and sharing code. Most critically it simplifies the job of [**version control**](https://en.wikipedia.org/wiki/Version_control) - keeping track of changes made to code through a series of **commits**. Each time you create or edit a piece of code, GitHub will keep track of the new version, as well as the code differences between each revision. This greatly simplifies people having to keep track of their code and means we can always go back to previous versions of what we have done. It is an excellent collaboration tool (that hopefully [Microsoft doesn't ruin](https://www.theverge.com/2018/6/4/17422788/microsoft-github-acquisition-official-deal)).\n",
    "\n",
    "![xkcd](git.png)\n",
    "\n",
    "**ALSO**: the easy sharability of code on GitHub means that our scientific analyses can be readily reproduced by others, from **data manipulation** all the way to **final figures**, including **your future self**. This is a **BIG DEAL** and a crucial part of contemporary science. "
   ]
  },
  {
   "cell_type": "markdown",
   "metadata": {
    "collapsed": true
   },
   "source": [
    "## Set up your account\n",
    "\n",
    "The first step to using GitHub is to [set up your account](https://github.com/) - pick a username and submit your email and password and you're off. You should also sign up for the [student pack](https://education.github.com/pack), which gives you extra stuff for free (such as free secret repos)."
   ]
  },
  {
   "cell_type": "markdown",
   "metadata": {},
   "source": [
    "---\n",
    "# Task 1\n",
    "---\n",
    " - Once you have these things in place, login to your account and click the green `New repository` button on the right hand side. Here you'll be asked for a repoistory name (`Hello_world` is a classic choice) and add a short description (`This is my first repo`). Keep it public and click on initialize with a `README`, then on to `create repository`. This will bring you to a front page for your new repository. On the upper right side, under the green **Clone or download** button, click on the the copy link to clipboard button, then paste the URL into the box below."
   ]
  },
  {
   "cell_type": "code",
   "execution_count": 1,
   "metadata": {
    "collapsed": true
   },
   "outputs": [],
   "source": [
    "# YOUR CODE HERE\n"
   ]
  },
  {
   "cell_type": "markdown",
   "metadata": {
    "collapsed": true
   },
   "source": [
    "## Version control"
   ]
  },
  {
   "cell_type": "markdown",
   "metadata": {
    "collapsed": true
   },
   "source": [
    "A critical feature of GitHub is the automation of **version control**, whereby each update to your code is kept track of with corresponding text as to the changes made. \n",
    "\n"
   ]
  },
  {
   "cell_type": "markdown",
   "metadata": {
    "collapsed": true
   },
   "source": [
    "In GitHub, version control happens by design, with each update requiring a mini-description of what was done, along the opportunity to make longer comments. Why does this matter? Typically (*i.e.* almost every time) when we conduct an analysis we build up code iteratively, starting with a simple model, simulation, or figure and buliding up to something more complex. But often (*i.e.* almost every time) we hit some dead ends along the way. And without version control our fancy-new-now-failing-analyis-file will have overwritten the old version back at the fork in the road. Trying to remember previous code = failure. "
   ]
  },
  {
   "cell_type": "markdown",
   "metadata": {
    "collapsed": true
   },
   "source": [
    "---\n",
    "# Task 2\n",
    "---\n",
    " - Next click on create new file on the repo front page and create a new R file (use the .R file extension in the name) with a little function of your choice in it. Describe and comment on it, then commit to the **Master** branch. Click on the link to your new file and cut and paste it's URL into the box below."
   ]
  },
  {
   "cell_type": "code",
   "execution_count": 2,
   "metadata": {
    "collapsed": true
   },
   "outputs": [],
   "source": [
    "# YOUR CODE HERE\n"
   ]
  },
  {
   "cell_type": "markdown",
   "metadata": {
    "collapsed": true
   },
   "source": [
    "## Branching\n",
    "\n",
    "One of the most important principles in GitHub is the notion of branching, whereby people (possibly you) can pull down the current version of code, work on it in a sandbox (where your remarkable insights are quarentined), test it thouroughly, *then* merge your cleverness with the main, master branch of code.  \n",
    "\n",
    "Rather than re-inventing the wheel here, we're going to work through GitHub's own Try Git tutorial - this will be the command-line version of git that clever people use to commit their code changes so it might be something your future self gets into.\n",
    "\n",
    "Click on -> [Try Git](https://try.github.io/) and 'Learn Git by Branching'"
   ]
  },
  {
   "cell_type": "markdown",
   "metadata": {
    "collapsed": true
   },
   "source": [
    "################### THINGS HAPPEN ####################\n",
    "\n",
    "Now that we've learned about how to use git, you can use [git - the simple guide](https://rogerdudler.github.io/git-guide/) as a reference for creating new repos and pushing your files."
   ]
  },
  {
   "cell_type": "markdown",
   "metadata": {
    "collapsed": true
   },
   "source": [
    "---\n",
    "# Task 3\n",
    "---\n",
    " - Find your recently created .R function file and click edit on the right hand side. Edit your file in some ironically-clever way and then describe and comment on it as usual. This time click on **Create new branch** and then on the green **Create pull request** button on the following page, and finally on **Merge pull request** on the next page. Once again, click on the link to your new file and cut and paste it's URL into the box below."
   ]
  },
  {
   "cell_type": "code",
   "execution_count": 3,
   "metadata": {
    "collapsed": true
   },
   "outputs": [],
   "source": [
    "# YOUR CODE HERE\n"
   ]
  },
  {
   "cell_type": "markdown",
   "metadata": {},
   "source": [
    "### Gists\n",
    "\n",
    "GitHub also has a super-useful feature where you can post code for others to see and copy, but without all the branching, merging, and commits of regular GitHub. This is particularly useful for storing Jupyter notebooks of your analysis for a scientific paper (e.g. Python code for [Graham et al. 2018](https://gist.github.com/mamacneil/f55d48278a8ba4073983b7e2b4ab0e06)) or for sharing with colleagues who might want to know how you did some analysis. Simply cut and paste the raw text from your Jupyter notebook (the file on your computer ending in `.ipynb`) and make sure to name the file with the `.ipynb` extension when you save your Gist."
   ]
  },
  {
   "cell_type": "markdown",
   "metadata": {},
   "source": [
    "If you want to dive more deeply (*i.e.* if you're a student who is coding right now), have a look at Jenny Bryan's [Happy Git with R page](http://happygitwithr.com/)"
   ]
  },
  {
   "cell_type": "markdown",
   "metadata": {
    "collapsed": true
   },
   "source": [
    "---\n",
    "\n",
    "# Data storage\n",
    "\n",
    "---"
   ]
  },
  {
   "cell_type": "markdown",
   "metadata": {
    "collapsed": true
   },
   "source": [
    "> Tidy datasets are easy to manipulate, model and visualize, and have a specific structure: each variable is a column, each observation is a row, and each type of observational unit is a table.\n",
    "    - Hadley Wickam"
   ]
  },
  {
   "cell_type": "markdown",
   "metadata": {
    "collapsed": true
   },
   "source": [
    "Among the most important tasks in any research endevour is the proper recording, handling, and storage of data. Data is the core unit of science - the object that is analyzed and from which inferences are made about how the world works. Debates about objectivity in science abound, however the careful recording and storage of data is the dividing line between compentent and spurrious science. Frequently it is stored data - or lack thereof - that is used to convict or absolve scientists accused of faking research.\n",
    "\n",
    "A recent, but already classic, case is that of Oona Lönnstedt, a Sweedish researcher who faked data saying larval fish preferentially ate microplastics in order to get the [resulting paper into Science](http://science.sciencemag.org/content/352/6290/1213). A key piece of evidence against Lönnstedt was that the data was supposedly stored only on her laptop which just-so-happened-to-have-been-stolen once other researchers went asking for it (you can read more about the case [here](https://www.acsh.org/news/2017/05/05/science-finally-retracts-absolute-mess-paper-11234)), which is contrary to the code of scientific conduct in many countries. Dalhousie is behind the times and currently working on a code of conduct, but data storage practices typically specify storage for at least 10 years. With cloud computing and the cheap cost of data warehousing, storage for your entire scientific carrear isn't unreasonable. One never knows when they might have to issue a correction...like on their first ever publication from 2002..."
   ]
  },
  {
   "cell_type": "markdown",
   "metadata": {
    "collapsed": true
   },
   "source": [
    "## Naming conventions\n",
    "\n",
    "It may seem like an trivial thing, but how you name your files and the directories you put them in is a **big deal**. Programming languages need to be able to read file names in easliy and in naming something you're telling your dumb future self what you're looking at. It is remarkable how quickly that super-important file becomes a distant memory when time passes and priorites change."
   ]
  },
  {
   "cell_type": "markdown",
   "metadata": {
    "collapsed": true
   },
   "source": [
    "#### Bad names\n",
    "\n",
    "A couple of things to avoid include:\n",
    "    - non specific names (unless in a clearly defined directory): e.g. abstract.docx, figure1.jpg etc.\n",
    "    - S P A C E S: e.g. Figure 1.jpg, Data for BIO 1000.csv\n",
    "    - commas: test_data,trial1.csv\n",
    "    - puncutaion of any kind: big_result!.csv, awesomess:).jpg"
   ]
  },
  {
   "cell_type": "markdown",
   "metadata": {
    "collapsed": true
   },
   "source": [
    "#### Good names\n",
    "\n",
    "A few things to include:\n",
    "    \n",
    "    - dates: e.g. trout_draft_05_May_17.doc, unicorn_data_05_05_16.csv\n",
    "    - detailed descriptors: e.g. figure_1_trout_draft2.png, unicorn_meristics.csv"
   ]
  },
  {
   "cell_type": "markdown",
   "metadata": {},
   "source": [
    "The most important issues for machine readability are for **file names**, **column headings**, and **objects**."
   ]
  },
  {
   "cell_type": "markdown",
   "metadata": {
    "collapsed": true
   },
   "source": [
    "## File names\n",
    "\n",
    "### Lifted entirely from Jenny [Bryan's](https://t.co/99waX8liuQ) three principles for file names\n",
    "\n",
    "    1. Machine readable\n",
    "    2. Human readable\n",
    "    3. Plays well with default ordering\n"
   ]
  },
  {
   "cell_type": "markdown",
   "metadata": {
    "collapsed": true
   },
   "source": [
    "### Machine readability\n",
    "\n",
    "Computers use [regular expressions](https://en.wikipedia.org/wiki/Regular_expression), which means that they use standardized syntax to process and search information. Without regular expressions, any kind of search on your computer or on the internet would fail miserably. In the context of naming, regular expressions avoid spaces, punctuation, accents, and case sensitivity. \n",
    "\n",
    "Great file names look like they're oversharing:\n",
    "\n",
    "```\n",
    "2012-07-07_FINPRINT_Aruba-LionCay-T1.csv\n",
    "2012-07-07_FINPRINT_Aruba-LionCay-T2.csv\n",
    "2012-07-07_FINPRINT_Aruba-LionCay-T3.csv\n",
    "2012-07-07_FINPRINT_Aruba-TigerCay-T1.csv\n",
    "2012-07-07_FINPRINT_Aruba-TigerCay-T2.csv\n",
    "2012-07-07_FINPRINT_Aruba-TigerCay-T3.csv\n",
    "2012-07-07_FINPRINT_Aruba-OcelotCay-T1.csv\n",
    "2012-07-07_FINPRINT_Aruba-OcelotCay-T2.csv\n",
    "2012-07-07_FINPRINT_Aruba-OcelotCay-T3.csv\n",
    "```\n",
    "\n",
    "\n",
    "Awful file names are coy: \n",
    "\n",
    "```\n",
    "transect1.csv\n",
    "transect2.csv\n",
    "Transect2.csv\n",
    "partialreef.csv\n",
    "quickone.csv\n",
    "```\n",
    "\n",
    "From the first list, we know exactly how and when the data were collected and we can use built-in R functions to do some computing for us. The second is close to useless."
   ]
  },
  {
   "cell_type": "markdown",
   "metadata": {},
   "source": [
    "For example, we can look at all the data files in a well-stored directory called (cleverly) `Filez`:"
   ]
  },
  {
   "cell_type": "code",
   "execution_count": 1,
   "metadata": {},
   "outputs": [
    {
     "data": {
      "text/html": [
       "<ol class=list-inline>\n",
       "\t<li>'2011-1-30_SERF_CookIslands-TurneffeAtollReef.csv'</li>\n",
       "\t<li>'2011-1-9_SERF_DominicanRepublic-SantoDomingoLaCaleta.csv'</li>\n",
       "\t<li>'2011-10-16_SERF_FrenchPolynesia-AbacoBightofOldRobinsonBay.csv'</li>\n",
       "\t<li>'2011-10-29_FINPRINT_Indonesia-GloversReefWest.csv'</li>\n",
       "\t<li>'2011-11-2_SERF_SaudiArabia-PenghuCimei.csv'</li>\n",
       "\t<li>'2011-11-30_SERF_BritishWestIndies-AlphonseStFrancois.csv'</li>\n",
       "\t<li>'2011-3-1_FINPRINT_USAPacific-StEustatiusWest.csv'</li>\n",
       "\t<li>'2011-3-10_FINPRINT_Qatar-HoutmanAbrolhosNorthOpen.csv'</li>\n",
       "\t<li>'2011-3-11_SERF_Belize-BonaireNorthCoast.csv'</li>\n",
       "\t<li>'2011-3-11_SERF_Fiji-ArubaSouthEast.csv'</li>\n",
       "\t<li>'2011-3-19_FINPRINT_Tonga-NorthSulawesiLembehIsland.csv'</li>\n",
       "\t<li>'2011-4-16_SERF_Palau-KimberleyJacksonIsland.csv'</li>\n",
       "\t<li>'2011-4-3_FINPRINT_BritishWestIndies-FloridaUpperKeys2.csv'</li>\n",
       "\t<li>'2011-5-14_SERF_Brazil-FloridaKeysTip1.csv'</li>\n",
       "\t<li>'2011-5-15_SERF_DominicanRepublic-TurneffeAtollLagoon.csv'</li>\n",
       "\t<li>'2011-5-27_SERF_USAWesternAtlantic-TobagoCharlotteville.csv'</li>\n",
       "\t<li>'2011-5-29_FINPRINT_CookIslands-NingalooWestExmouthGulf.csv'</li>\n",
       "\t<li>'2011-5-8_FINPRINT_USAPacific-PearlandHermesAtollPearlandHermesAtoll.csv'</li>\n",
       "\t<li>'2011-6-19_FINPRINT_Qatar-NingalooCloatesOpen.csv'</li>\n",
       "\t<li>'2011-6-22_FINPRINT_Vietnam-ZairaAreaOpen.csv'</li>\n",
       "\t<li>'2011-8-1_SERF_USAPacific-TikehauTikehau1.csv'</li>\n",
       "\t<li>'2011-8-13_SERF_Vanuatu-OahuOahu.csv'</li>\n",
       "\t<li>'2011-8-14_FINPRINT_Belize-SouthernKenyaMpungutiReserve.csv'</li>\n",
       "\t<li>'2011-8-17_FINPRINT_AustraliaPacific-OldProvidenceIslandOldProvidenceIsland.csv'</li>\n",
       "\t<li>'2011-8-18_SERF_SouthAfrica-KimberleyJacksonIsland.csv'</li>\n",
       "\t<li>'2011-9-22_SERF_AustraliaPacific-EastCoastNilaveli.csv'</li>\n",
       "\t<li>'2012-1-12_SERF_USAPacific-SabaBankBank2.csv'</li>\n",
       "\t<li>'2012-10-30_FINPRINT_Jamaica-CayeCaulkerCayeCaulkerLagoon.csv'</li>\n",
       "\t<li>'2012-11-1_SERF_NewZealand-MontserratMontserratWest.csv'</li>\n",
       "\t<li>'2012-2-11_SERF_Seychelles-BonaireSouthCoast.csv'</li>\n",
       "\t<li>'2012-2-21_SERF_SolomonIslands-KermedecNorthRaoulIsland.csv'</li>\n",
       "\t<li>'2012-3-13_SERF_DominicanRepublic-MaruteaMarutea1.csv'</li>\n",
       "\t<li>'2012-3-19_FINPRINT_Qatar-BuenHombreBuenHombreReef.csv'</li>\n",
       "\t<li>'2012-3-9_SERF_FederatedStatesofMicronesia-SouthernKenyaKisiteWest.csv'</li>\n",
       "\t<li>'2012-4-11_SERF_Bahamas-SempornaIslandsParkTunSakaranMarinePark.csv'</li>\n",
       "\t<li>'2012-4-13_SERF_Madagascar-NorthNorthWest.csv'</li>\n",
       "\t<li>'2012-4-19_FINPRINT_Indonesia-NorthernTanzaniaTangaSouth.csv'</li>\n",
       "\t<li>'2012-4-20_SERF_AustraliaPacific-NinhThuanNorth.csv'</li>\n",
       "\t<li>'2012-5-21_FINPRINT_Bahamas-ScottReefNorth.csv'</li>\n",
       "\t<li>'2012-6-1_FINPRINT_DominicanRepublic-TiomanEast.csv'</li>\n",
       "\t<li>'2012-6-15_SERF_FrenchWestIndies-NorthernTanzaniaTangaNorth.csv'</li>\n",
       "\t<li>'2012-6-18_FINPRINT_USAWesternAtlantic-NingalooWinderabandiReserve.csv'</li>\n",
       "\t<li>'2012-6-24_SERF_SouthAfrica-OkinawaIriomote.csv'</li>\n",
       "\t<li>'2012-9-20_SERF_Brazil-MooreaMoorea1.csv'</li>\n",
       "\t<li>'2013-1-17_FINPRINT_SriLanka-HoutmanAbrolhosEasterReserve.csv'</li>\n",
       "\t<li>'2013-1-27_FINPRINT_Kenya-GuanahacabibesGuanahacabibesReef.csv'</li>\n",
       "\t<li>'2013-10-1_FINPRINT_Vanuatu-AbacoBightofOldRobinsonBay.csv'</li>\n",
       "\t<li>'2013-11-4_FINPRINT_TrinidadandTobago-PilbaraRosemaryIsland.csv'</li>\n",
       "\t<li>'2013-11-6_SERF_FederatedStatesofMicronesia-GiliIslandsGiliTrawanganClosed.csv'</li>\n",
       "\t<li>'2013-2-11_FINPRINT_AmericanSamoa-NorthSumatraAcehIsland.csv'</li>\n",
       "\t<li>'2013-2-17_SERF_BritishWestIndies-CayeCaulkerCayeCaulker.csv'</li>\n",
       "\t<li>'2013-2-24_SERF_Guam-StLuciaiSimangalisoWetlandParkSouth.csv'</li>\n",
       "\t<li>'2013-2-7_SERF_DutchCaribbean-NosyBeSharkPoint.csv'</li>\n",
       "\t<li>'2013-3-21_SERF_Vietnam-CentralMozambiqueParadiseIsland.csv'</li>\n",
       "\t<li>'2013-5-24_FINPRINT_AntiguaandBarbuda-NingalooPelicanReserve.csv'</li>\n",
       "\t<li>'2013-7-30_FINPRINT_Qatar-StLuciaiSimangalisoWetlandParkNorth.csv'</li>\n",
       "\t<li>'2013-8-8_SERF_Guam-UpoluFalealili.csv'</li>\n",
       "\t<li>'2013-9-23_SERF_Kiribati-BiminiBiminiNorth.csv'</li>\n",
       "\t<li>'2013-9-3_FINPRINT_NewCaledonia-KaviengKapalaman.csv'</li>\n",
       "\t<li>'2014-1-16_SERF_Mozambique-NingalooEastExmouthGulf.csv'</li>\n",
       "\t<li>'2014-1-3_FINPRINT_DutchCaribbean-LighthouseReefLighthouseHalfmoon.csv'</li>\n",
       "\t<li>'2014-10-21_FINPRINT_Vietnam-KermedecSouthMacauleyIsland.csv'</li>\n",
       "\t<li>'2014-10-25_SERF_FederatedStatesofMicronesia-MooreaMoorea3.csv'</li>\n",
       "\t<li>'2014-11-22_SERF_Kenya-BonaireProtectedAreasCombined.csv'</li>\n",
       "\t<li>'2014-2-23_SERF_DominicanRepublic-KimberleyDugongBay.csv'</li>\n",
       "\t<li>'2014-2-3_FINPRINT_DutchCaribbean-PalauNorthKayangel.csv'</li>\n",
       "\t<li>'2014-4-21_SERF_TrinidadandTobago-KotaKinabaluTunkuAbdulRahmanPark.csv'</li>\n",
       "\t<li>'2014-5-26_FINPRINT_Malaysia-WestCoastNetrani.csv'</li>\n",
       "\t<li>'2014-5-8_SERF_NewCaledonia-HawaiiKonaAirport.csv'</li>\n",
       "\t<li>'2014-6-1_FINPRINT_Vietnam-NinhThuanSouth.csv'</li>\n",
       "\t<li>'2014-7-1_SERF_Madagascar-KimberleyMontgomeryIsland.csv'</li>\n",
       "\t<li>'2014-7-24_SERF_Kenya-OvalauEast.csv'</li>\n",
       "\t<li>'2014-8-26_SERF_Guam-TahitiTahiti3.csv'</li>\n",
       "\t<li>'2014-9-10_FINPRINT_India-BiminiBiminiSouth.csv'</li>\n",
       "\t<li>'2014-9-18_FINPRINT_AmericanSamoa-JamaicaOchoRios.csv'</li>\n",
       "\t<li>'2015-3-11_SERF_Maldives-ArubaArubaWest.csv'</li>\n",
       "\t<li>'2015-3-26_FINPRINT_Jamaica-HoutmanAbrolhosWallabiOpen.csv'</li>\n",
       "\t<li>'2015-3-6_SERF_NewCaledonia-NorthernTanzaniaTangaNorth.csv'</li>\n",
       "\t<li>'2015-4-8_SERF_TrinidadandTobago-GloversReefEast.csv'</li>\n",
       "\t<li>'2015-6-1_FINPRINT_Samoa-ExumasNorth.csv'</li>\n",
       "\t<li>'2015-6-22_SERF_Mozambique-NorthernGBR2LagoonReef.csv'</li>\n",
       "\t<li>'2015-7-9_FINPRINT_Seychelles-WestCoastTakarli.csv'</li>\n",
       "\t<li>'2015-8-18_FINPRINT_Kenya-KubulauNamenaOpen.csv'</li>\n",
       "\t<li>'2015-8-19_SERF_Tanzania-FloridaUpperKeys1.csv'</li>\n",
       "\t<li>'2015-9-17_FINPRINT_AmericanSamoa-LanaiLanaiSouth.csv'</li>\n",
       "\t<li>'2016-1-12_FINPRINT_Mozambique-KubulauNamena.csv'</li>\n",
       "\t<li>'2016-1-12_FINPRINT_USAWesternAtlantic-FernandodeNoronhaAPAArea.csv'</li>\n",
       "\t<li>'2016-10-19_SERF_FederatedStatesofMicronesia-NingalooManduReserve.csv'</li>\n",
       "\t<li>'2016-10-30_SERF_DominicanRepublic-GloversReefWest.csv'</li>\n",
       "\t<li>'2016-11-13_FINPRINT_AustraliaPacific-MaupitiMaupiti1.csv'</li>\n",
       "\t<li>'2016-11-3_FINPRINT_Niue-GuamPati.csv'</li>\n",
       "\t<li>'2016-2-1_SERF_BritishWestIndies-ChristmasIslandEast.csv'</li>\n",
       "\t<li>'2016-2-24_FINPRINT_DominicanRepublic-LordHoweIslandLordHoweIsland.csv'</li>\n",
       "\t<li>'2016-2-30_FINPRINT_FederatedStatesofMicronesia-StMaartenDutchFishing.csv'</li>\n",
       "\t<li>'2016-2-5_FINPRINT_Mayotte-NorthNorthWest.csv'</li>\n",
       "\t<li>'2016-3-25_SERF_AustraliaIndianOcean-NosyIranjaBancAnkivonjy.csv'</li>\n",
       "\t<li>'2016-3-26_FINPRINT_FrenchWestIndies-RaiateaRaiatea1.csv'</li>\n",
       "\t<li>'2016-3-29_SERF_FederatedStatesofMicronesia-CuracaoEastCoast.csv'</li>\n",
       "\t<li>'2016-4-11_FINPRINT_FrenchWestIndies-BarbadosNortheast.csv'</li>\n",
       "\t<li>'2016-4-15_FINPRINT_TrinidadandTobago-CayeCaulkerCayeCaulker.csv'</li>\n",
       "\t<li>'2016-5-20_FINPRINT_SouthAfrica-CobourgPeninsulaOffshoreReef.csv'</li>\n",
       "\t<li>'2016-5-4_FINPRINT_Mozambique-GuadeloupeGrandeculdeSac.csv'</li>\n",
       "\t<li>'2016-6-28_FINPRINT_Seychelles-SouthernKenyaWatamu.csv'</li>\n",
       "\t<li>'2016-8-11_SERF_SolomonIslands-KimberleyLacepedeIslands.csv'</li>\n",
       "\t<li>'2016-9-13_FINPRINT_Barbados-CentralMozambiqueNorthBazarutoReef.csv'</li>\n",
       "\t<li>'2016-9-21_FINPRINT_Fiji-Cocos-KeelingHomeIsland.csv'</li>\n",
       "</ol>\n"
      ],
      "text/latex": [
       "\\begin{enumerate*}\n",
       "\\item '2011-1-30\\_SERF\\_CookIslands-TurneffeAtollReef.csv'\n",
       "\\item '2011-1-9\\_SERF\\_DominicanRepublic-SantoDomingoLaCaleta.csv'\n",
       "\\item '2011-10-16\\_SERF\\_FrenchPolynesia-AbacoBightofOldRobinsonBay.csv'\n",
       "\\item '2011-10-29\\_FINPRINT\\_Indonesia-GloversReefWest.csv'\n",
       "\\item '2011-11-2\\_SERF\\_SaudiArabia-PenghuCimei.csv'\n",
       "\\item '2011-11-30\\_SERF\\_BritishWestIndies-AlphonseStFrancois.csv'\n",
       "\\item '2011-3-1\\_FINPRINT\\_USAPacific-StEustatiusWest.csv'\n",
       "\\item '2011-3-10\\_FINPRINT\\_Qatar-HoutmanAbrolhosNorthOpen.csv'\n",
       "\\item '2011-3-11\\_SERF\\_Belize-BonaireNorthCoast.csv'\n",
       "\\item '2011-3-11\\_SERF\\_Fiji-ArubaSouthEast.csv'\n",
       "\\item '2011-3-19\\_FINPRINT\\_Tonga-NorthSulawesiLembehIsland.csv'\n",
       "\\item '2011-4-16\\_SERF\\_Palau-KimberleyJacksonIsland.csv'\n",
       "\\item '2011-4-3\\_FINPRINT\\_BritishWestIndies-FloridaUpperKeys2.csv'\n",
       "\\item '2011-5-14\\_SERF\\_Brazil-FloridaKeysTip1.csv'\n",
       "\\item '2011-5-15\\_SERF\\_DominicanRepublic-TurneffeAtollLagoon.csv'\n",
       "\\item '2011-5-27\\_SERF\\_USAWesternAtlantic-TobagoCharlotteville.csv'\n",
       "\\item '2011-5-29\\_FINPRINT\\_CookIslands-NingalooWestExmouthGulf.csv'\n",
       "\\item '2011-5-8\\_FINPRINT\\_USAPacific-PearlandHermesAtollPearlandHermesAtoll.csv'\n",
       "\\item '2011-6-19\\_FINPRINT\\_Qatar-NingalooCloatesOpen.csv'\n",
       "\\item '2011-6-22\\_FINPRINT\\_Vietnam-ZairaAreaOpen.csv'\n",
       "\\item '2011-8-1\\_SERF\\_USAPacific-TikehauTikehau1.csv'\n",
       "\\item '2011-8-13\\_SERF\\_Vanuatu-OahuOahu.csv'\n",
       "\\item '2011-8-14\\_FINPRINT\\_Belize-SouthernKenyaMpungutiReserve.csv'\n",
       "\\item '2011-8-17\\_FINPRINT\\_AustraliaPacific-OldProvidenceIslandOldProvidenceIsland.csv'\n",
       "\\item '2011-8-18\\_SERF\\_SouthAfrica-KimberleyJacksonIsland.csv'\n",
       "\\item '2011-9-22\\_SERF\\_AustraliaPacific-EastCoastNilaveli.csv'\n",
       "\\item '2012-1-12\\_SERF\\_USAPacific-SabaBankBank2.csv'\n",
       "\\item '2012-10-30\\_FINPRINT\\_Jamaica-CayeCaulkerCayeCaulkerLagoon.csv'\n",
       "\\item '2012-11-1\\_SERF\\_NewZealand-MontserratMontserratWest.csv'\n",
       "\\item '2012-2-11\\_SERF\\_Seychelles-BonaireSouthCoast.csv'\n",
       "\\item '2012-2-21\\_SERF\\_SolomonIslands-KermedecNorthRaoulIsland.csv'\n",
       "\\item '2012-3-13\\_SERF\\_DominicanRepublic-MaruteaMarutea1.csv'\n",
       "\\item '2012-3-19\\_FINPRINT\\_Qatar-BuenHombreBuenHombreReef.csv'\n",
       "\\item '2012-3-9\\_SERF\\_FederatedStatesofMicronesia-SouthernKenyaKisiteWest.csv'\n",
       "\\item '2012-4-11\\_SERF\\_Bahamas-SempornaIslandsParkTunSakaranMarinePark.csv'\n",
       "\\item '2012-4-13\\_SERF\\_Madagascar-NorthNorthWest.csv'\n",
       "\\item '2012-4-19\\_FINPRINT\\_Indonesia-NorthernTanzaniaTangaSouth.csv'\n",
       "\\item '2012-4-20\\_SERF\\_AustraliaPacific-NinhThuanNorth.csv'\n",
       "\\item '2012-5-21\\_FINPRINT\\_Bahamas-ScottReefNorth.csv'\n",
       "\\item '2012-6-1\\_FINPRINT\\_DominicanRepublic-TiomanEast.csv'\n",
       "\\item '2012-6-15\\_SERF\\_FrenchWestIndies-NorthernTanzaniaTangaNorth.csv'\n",
       "\\item '2012-6-18\\_FINPRINT\\_USAWesternAtlantic-NingalooWinderabandiReserve.csv'\n",
       "\\item '2012-6-24\\_SERF\\_SouthAfrica-OkinawaIriomote.csv'\n",
       "\\item '2012-9-20\\_SERF\\_Brazil-MooreaMoorea1.csv'\n",
       "\\item '2013-1-17\\_FINPRINT\\_SriLanka-HoutmanAbrolhosEasterReserve.csv'\n",
       "\\item '2013-1-27\\_FINPRINT\\_Kenya-GuanahacabibesGuanahacabibesReef.csv'\n",
       "\\item '2013-10-1\\_FINPRINT\\_Vanuatu-AbacoBightofOldRobinsonBay.csv'\n",
       "\\item '2013-11-4\\_FINPRINT\\_TrinidadandTobago-PilbaraRosemaryIsland.csv'\n",
       "\\item '2013-11-6\\_SERF\\_FederatedStatesofMicronesia-GiliIslandsGiliTrawanganClosed.csv'\n",
       "\\item '2013-2-11\\_FINPRINT\\_AmericanSamoa-NorthSumatraAcehIsland.csv'\n",
       "\\item '2013-2-17\\_SERF\\_BritishWestIndies-CayeCaulkerCayeCaulker.csv'\n",
       "\\item '2013-2-24\\_SERF\\_Guam-StLuciaiSimangalisoWetlandParkSouth.csv'\n",
       "\\item '2013-2-7\\_SERF\\_DutchCaribbean-NosyBeSharkPoint.csv'\n",
       "\\item '2013-3-21\\_SERF\\_Vietnam-CentralMozambiqueParadiseIsland.csv'\n",
       "\\item '2013-5-24\\_FINPRINT\\_AntiguaandBarbuda-NingalooPelicanReserve.csv'\n",
       "\\item '2013-7-30\\_FINPRINT\\_Qatar-StLuciaiSimangalisoWetlandParkNorth.csv'\n",
       "\\item '2013-8-8\\_SERF\\_Guam-UpoluFalealili.csv'\n",
       "\\item '2013-9-23\\_SERF\\_Kiribati-BiminiBiminiNorth.csv'\n",
       "\\item '2013-9-3\\_FINPRINT\\_NewCaledonia-KaviengKapalaman.csv'\n",
       "\\item '2014-1-16\\_SERF\\_Mozambique-NingalooEastExmouthGulf.csv'\n",
       "\\item '2014-1-3\\_FINPRINT\\_DutchCaribbean-LighthouseReefLighthouseHalfmoon.csv'\n",
       "\\item '2014-10-21\\_FINPRINT\\_Vietnam-KermedecSouthMacauleyIsland.csv'\n",
       "\\item '2014-10-25\\_SERF\\_FederatedStatesofMicronesia-MooreaMoorea3.csv'\n",
       "\\item '2014-11-22\\_SERF\\_Kenya-BonaireProtectedAreasCombined.csv'\n",
       "\\item '2014-2-23\\_SERF\\_DominicanRepublic-KimberleyDugongBay.csv'\n",
       "\\item '2014-2-3\\_FINPRINT\\_DutchCaribbean-PalauNorthKayangel.csv'\n",
       "\\item '2014-4-21\\_SERF\\_TrinidadandTobago-KotaKinabaluTunkuAbdulRahmanPark.csv'\n",
       "\\item '2014-5-26\\_FINPRINT\\_Malaysia-WestCoastNetrani.csv'\n",
       "\\item '2014-5-8\\_SERF\\_NewCaledonia-HawaiiKonaAirport.csv'\n",
       "\\item '2014-6-1\\_FINPRINT\\_Vietnam-NinhThuanSouth.csv'\n",
       "\\item '2014-7-1\\_SERF\\_Madagascar-KimberleyMontgomeryIsland.csv'\n",
       "\\item '2014-7-24\\_SERF\\_Kenya-OvalauEast.csv'\n",
       "\\item '2014-8-26\\_SERF\\_Guam-TahitiTahiti3.csv'\n",
       "\\item '2014-9-10\\_FINPRINT\\_India-BiminiBiminiSouth.csv'\n",
       "\\item '2014-9-18\\_FINPRINT\\_AmericanSamoa-JamaicaOchoRios.csv'\n",
       "\\item '2015-3-11\\_SERF\\_Maldives-ArubaArubaWest.csv'\n",
       "\\item '2015-3-26\\_FINPRINT\\_Jamaica-HoutmanAbrolhosWallabiOpen.csv'\n",
       "\\item '2015-3-6\\_SERF\\_NewCaledonia-NorthernTanzaniaTangaNorth.csv'\n",
       "\\item '2015-4-8\\_SERF\\_TrinidadandTobago-GloversReefEast.csv'\n",
       "\\item '2015-6-1\\_FINPRINT\\_Samoa-ExumasNorth.csv'\n",
       "\\item '2015-6-22\\_SERF\\_Mozambique-NorthernGBR2LagoonReef.csv'\n",
       "\\item '2015-7-9\\_FINPRINT\\_Seychelles-WestCoastTakarli.csv'\n",
       "\\item '2015-8-18\\_FINPRINT\\_Kenya-KubulauNamenaOpen.csv'\n",
       "\\item '2015-8-19\\_SERF\\_Tanzania-FloridaUpperKeys1.csv'\n",
       "\\item '2015-9-17\\_FINPRINT\\_AmericanSamoa-LanaiLanaiSouth.csv'\n",
       "\\item '2016-1-12\\_FINPRINT\\_Mozambique-KubulauNamena.csv'\n",
       "\\item '2016-1-12\\_FINPRINT\\_USAWesternAtlantic-FernandodeNoronhaAPAArea.csv'\n",
       "\\item '2016-10-19\\_SERF\\_FederatedStatesofMicronesia-NingalooManduReserve.csv'\n",
       "\\item '2016-10-30\\_SERF\\_DominicanRepublic-GloversReefWest.csv'\n",
       "\\item '2016-11-13\\_FINPRINT\\_AustraliaPacific-MaupitiMaupiti1.csv'\n",
       "\\item '2016-11-3\\_FINPRINT\\_Niue-GuamPati.csv'\n",
       "\\item '2016-2-1\\_SERF\\_BritishWestIndies-ChristmasIslandEast.csv'\n",
       "\\item '2016-2-24\\_FINPRINT\\_DominicanRepublic-LordHoweIslandLordHoweIsland.csv'\n",
       "\\item '2016-2-30\\_FINPRINT\\_FederatedStatesofMicronesia-StMaartenDutchFishing.csv'\n",
       "\\item '2016-2-5\\_FINPRINT\\_Mayotte-NorthNorthWest.csv'\n",
       "\\item '2016-3-25\\_SERF\\_AustraliaIndianOcean-NosyIranjaBancAnkivonjy.csv'\n",
       "\\item '2016-3-26\\_FINPRINT\\_FrenchWestIndies-RaiateaRaiatea1.csv'\n",
       "\\item '2016-3-29\\_SERF\\_FederatedStatesofMicronesia-CuracaoEastCoast.csv'\n",
       "\\item '2016-4-11\\_FINPRINT\\_FrenchWestIndies-BarbadosNortheast.csv'\n",
       "\\item '2016-4-15\\_FINPRINT\\_TrinidadandTobago-CayeCaulkerCayeCaulker.csv'\n",
       "\\item '2016-5-20\\_FINPRINT\\_SouthAfrica-CobourgPeninsulaOffshoreReef.csv'\n",
       "\\item '2016-5-4\\_FINPRINT\\_Mozambique-GuadeloupeGrandeculdeSac.csv'\n",
       "\\item '2016-6-28\\_FINPRINT\\_Seychelles-SouthernKenyaWatamu.csv'\n",
       "\\item '2016-8-11\\_SERF\\_SolomonIslands-KimberleyLacepedeIslands.csv'\n",
       "\\item '2016-9-13\\_FINPRINT\\_Barbados-CentralMozambiqueNorthBazarutoReef.csv'\n",
       "\\item '2016-9-21\\_FINPRINT\\_Fiji-Cocos-KeelingHomeIsland.csv'\n",
       "\\end{enumerate*}\n"
      ],
      "text/markdown": [
       "1. '2011-1-30_SERF_CookIslands-TurneffeAtollReef.csv'\n",
       "2. '2011-1-9_SERF_DominicanRepublic-SantoDomingoLaCaleta.csv'\n",
       "3. '2011-10-16_SERF_FrenchPolynesia-AbacoBightofOldRobinsonBay.csv'\n",
       "4. '2011-10-29_FINPRINT_Indonesia-GloversReefWest.csv'\n",
       "5. '2011-11-2_SERF_SaudiArabia-PenghuCimei.csv'\n",
       "6. '2011-11-30_SERF_BritishWestIndies-AlphonseStFrancois.csv'\n",
       "7. '2011-3-1_FINPRINT_USAPacific-StEustatiusWest.csv'\n",
       "8. '2011-3-10_FINPRINT_Qatar-HoutmanAbrolhosNorthOpen.csv'\n",
       "9. '2011-3-11_SERF_Belize-BonaireNorthCoast.csv'\n",
       "10. '2011-3-11_SERF_Fiji-ArubaSouthEast.csv'\n",
       "11. '2011-3-19_FINPRINT_Tonga-NorthSulawesiLembehIsland.csv'\n",
       "12. '2011-4-16_SERF_Palau-KimberleyJacksonIsland.csv'\n",
       "13. '2011-4-3_FINPRINT_BritishWestIndies-FloridaUpperKeys2.csv'\n",
       "14. '2011-5-14_SERF_Brazil-FloridaKeysTip1.csv'\n",
       "15. '2011-5-15_SERF_DominicanRepublic-TurneffeAtollLagoon.csv'\n",
       "16. '2011-5-27_SERF_USAWesternAtlantic-TobagoCharlotteville.csv'\n",
       "17. '2011-5-29_FINPRINT_CookIslands-NingalooWestExmouthGulf.csv'\n",
       "18. '2011-5-8_FINPRINT_USAPacific-PearlandHermesAtollPearlandHermesAtoll.csv'\n",
       "19. '2011-6-19_FINPRINT_Qatar-NingalooCloatesOpen.csv'\n",
       "20. '2011-6-22_FINPRINT_Vietnam-ZairaAreaOpen.csv'\n",
       "21. '2011-8-1_SERF_USAPacific-TikehauTikehau1.csv'\n",
       "22. '2011-8-13_SERF_Vanuatu-OahuOahu.csv'\n",
       "23. '2011-8-14_FINPRINT_Belize-SouthernKenyaMpungutiReserve.csv'\n",
       "24. '2011-8-17_FINPRINT_AustraliaPacific-OldProvidenceIslandOldProvidenceIsland.csv'\n",
       "25. '2011-8-18_SERF_SouthAfrica-KimberleyJacksonIsland.csv'\n",
       "26. '2011-9-22_SERF_AustraliaPacific-EastCoastNilaveli.csv'\n",
       "27. '2012-1-12_SERF_USAPacific-SabaBankBank2.csv'\n",
       "28. '2012-10-30_FINPRINT_Jamaica-CayeCaulkerCayeCaulkerLagoon.csv'\n",
       "29. '2012-11-1_SERF_NewZealand-MontserratMontserratWest.csv'\n",
       "30. '2012-2-11_SERF_Seychelles-BonaireSouthCoast.csv'\n",
       "31. '2012-2-21_SERF_SolomonIslands-KermedecNorthRaoulIsland.csv'\n",
       "32. '2012-3-13_SERF_DominicanRepublic-MaruteaMarutea1.csv'\n",
       "33. '2012-3-19_FINPRINT_Qatar-BuenHombreBuenHombreReef.csv'\n",
       "34. '2012-3-9_SERF_FederatedStatesofMicronesia-SouthernKenyaKisiteWest.csv'\n",
       "35. '2012-4-11_SERF_Bahamas-SempornaIslandsParkTunSakaranMarinePark.csv'\n",
       "36. '2012-4-13_SERF_Madagascar-NorthNorthWest.csv'\n",
       "37. '2012-4-19_FINPRINT_Indonesia-NorthernTanzaniaTangaSouth.csv'\n",
       "38. '2012-4-20_SERF_AustraliaPacific-NinhThuanNorth.csv'\n",
       "39. '2012-5-21_FINPRINT_Bahamas-ScottReefNorth.csv'\n",
       "40. '2012-6-1_FINPRINT_DominicanRepublic-TiomanEast.csv'\n",
       "41. '2012-6-15_SERF_FrenchWestIndies-NorthernTanzaniaTangaNorth.csv'\n",
       "42. '2012-6-18_FINPRINT_USAWesternAtlantic-NingalooWinderabandiReserve.csv'\n",
       "43. '2012-6-24_SERF_SouthAfrica-OkinawaIriomote.csv'\n",
       "44. '2012-9-20_SERF_Brazil-MooreaMoorea1.csv'\n",
       "45. '2013-1-17_FINPRINT_SriLanka-HoutmanAbrolhosEasterReserve.csv'\n",
       "46. '2013-1-27_FINPRINT_Kenya-GuanahacabibesGuanahacabibesReef.csv'\n",
       "47. '2013-10-1_FINPRINT_Vanuatu-AbacoBightofOldRobinsonBay.csv'\n",
       "48. '2013-11-4_FINPRINT_TrinidadandTobago-PilbaraRosemaryIsland.csv'\n",
       "49. '2013-11-6_SERF_FederatedStatesofMicronesia-GiliIslandsGiliTrawanganClosed.csv'\n",
       "50. '2013-2-11_FINPRINT_AmericanSamoa-NorthSumatraAcehIsland.csv'\n",
       "51. '2013-2-17_SERF_BritishWestIndies-CayeCaulkerCayeCaulker.csv'\n",
       "52. '2013-2-24_SERF_Guam-StLuciaiSimangalisoWetlandParkSouth.csv'\n",
       "53. '2013-2-7_SERF_DutchCaribbean-NosyBeSharkPoint.csv'\n",
       "54. '2013-3-21_SERF_Vietnam-CentralMozambiqueParadiseIsland.csv'\n",
       "55. '2013-5-24_FINPRINT_AntiguaandBarbuda-NingalooPelicanReserve.csv'\n",
       "56. '2013-7-30_FINPRINT_Qatar-StLuciaiSimangalisoWetlandParkNorth.csv'\n",
       "57. '2013-8-8_SERF_Guam-UpoluFalealili.csv'\n",
       "58. '2013-9-23_SERF_Kiribati-BiminiBiminiNorth.csv'\n",
       "59. '2013-9-3_FINPRINT_NewCaledonia-KaviengKapalaman.csv'\n",
       "60. '2014-1-16_SERF_Mozambique-NingalooEastExmouthGulf.csv'\n",
       "61. '2014-1-3_FINPRINT_DutchCaribbean-LighthouseReefLighthouseHalfmoon.csv'\n",
       "62. '2014-10-21_FINPRINT_Vietnam-KermedecSouthMacauleyIsland.csv'\n",
       "63. '2014-10-25_SERF_FederatedStatesofMicronesia-MooreaMoorea3.csv'\n",
       "64. '2014-11-22_SERF_Kenya-BonaireProtectedAreasCombined.csv'\n",
       "65. '2014-2-23_SERF_DominicanRepublic-KimberleyDugongBay.csv'\n",
       "66. '2014-2-3_FINPRINT_DutchCaribbean-PalauNorthKayangel.csv'\n",
       "67. '2014-4-21_SERF_TrinidadandTobago-KotaKinabaluTunkuAbdulRahmanPark.csv'\n",
       "68. '2014-5-26_FINPRINT_Malaysia-WestCoastNetrani.csv'\n",
       "69. '2014-5-8_SERF_NewCaledonia-HawaiiKonaAirport.csv'\n",
       "70. '2014-6-1_FINPRINT_Vietnam-NinhThuanSouth.csv'\n",
       "71. '2014-7-1_SERF_Madagascar-KimberleyMontgomeryIsland.csv'\n",
       "72. '2014-7-24_SERF_Kenya-OvalauEast.csv'\n",
       "73. '2014-8-26_SERF_Guam-TahitiTahiti3.csv'\n",
       "74. '2014-9-10_FINPRINT_India-BiminiBiminiSouth.csv'\n",
       "75. '2014-9-18_FINPRINT_AmericanSamoa-JamaicaOchoRios.csv'\n",
       "76. '2015-3-11_SERF_Maldives-ArubaArubaWest.csv'\n",
       "77. '2015-3-26_FINPRINT_Jamaica-HoutmanAbrolhosWallabiOpen.csv'\n",
       "78. '2015-3-6_SERF_NewCaledonia-NorthernTanzaniaTangaNorth.csv'\n",
       "79. '2015-4-8_SERF_TrinidadandTobago-GloversReefEast.csv'\n",
       "80. '2015-6-1_FINPRINT_Samoa-ExumasNorth.csv'\n",
       "81. '2015-6-22_SERF_Mozambique-NorthernGBR2LagoonReef.csv'\n",
       "82. '2015-7-9_FINPRINT_Seychelles-WestCoastTakarli.csv'\n",
       "83. '2015-8-18_FINPRINT_Kenya-KubulauNamenaOpen.csv'\n",
       "84. '2015-8-19_SERF_Tanzania-FloridaUpperKeys1.csv'\n",
       "85. '2015-9-17_FINPRINT_AmericanSamoa-LanaiLanaiSouth.csv'\n",
       "86. '2016-1-12_FINPRINT_Mozambique-KubulauNamena.csv'\n",
       "87. '2016-1-12_FINPRINT_USAWesternAtlantic-FernandodeNoronhaAPAArea.csv'\n",
       "88. '2016-10-19_SERF_FederatedStatesofMicronesia-NingalooManduReserve.csv'\n",
       "89. '2016-10-30_SERF_DominicanRepublic-GloversReefWest.csv'\n",
       "90. '2016-11-13_FINPRINT_AustraliaPacific-MaupitiMaupiti1.csv'\n",
       "91. '2016-11-3_FINPRINT_Niue-GuamPati.csv'\n",
       "92. '2016-2-1_SERF_BritishWestIndies-ChristmasIslandEast.csv'\n",
       "93. '2016-2-24_FINPRINT_DominicanRepublic-LordHoweIslandLordHoweIsland.csv'\n",
       "94. '2016-2-30_FINPRINT_FederatedStatesofMicronesia-StMaartenDutchFishing.csv'\n",
       "95. '2016-2-5_FINPRINT_Mayotte-NorthNorthWest.csv'\n",
       "96. '2016-3-25_SERF_AustraliaIndianOcean-NosyIranjaBancAnkivonjy.csv'\n",
       "97. '2016-3-26_FINPRINT_FrenchWestIndies-RaiateaRaiatea1.csv'\n",
       "98. '2016-3-29_SERF_FederatedStatesofMicronesia-CuracaoEastCoast.csv'\n",
       "99. '2016-4-11_FINPRINT_FrenchWestIndies-BarbadosNortheast.csv'\n",
       "100. '2016-4-15_FINPRINT_TrinidadandTobago-CayeCaulkerCayeCaulker.csv'\n",
       "101. '2016-5-20_FINPRINT_SouthAfrica-CobourgPeninsulaOffshoreReef.csv'\n",
       "102. '2016-5-4_FINPRINT_Mozambique-GuadeloupeGrandeculdeSac.csv'\n",
       "103. '2016-6-28_FINPRINT_Seychelles-SouthernKenyaWatamu.csv'\n",
       "104. '2016-8-11_SERF_SolomonIslands-KimberleyLacepedeIslands.csv'\n",
       "105. '2016-9-13_FINPRINT_Barbados-CentralMozambiqueNorthBazarutoReef.csv'\n",
       "106. '2016-9-21_FINPRINT_Fiji-Cocos-KeelingHomeIsland.csv'\n",
       "\n",
       "\n"
      ],
      "text/plain": [
       "  [1] \"2011-1-30_SERF_CookIslands-TurneffeAtollReef.csv\"                              \n",
       "  [2] \"2011-1-9_SERF_DominicanRepublic-SantoDomingoLaCaleta.csv\"                      \n",
       "  [3] \"2011-10-16_SERF_FrenchPolynesia-AbacoBightofOldRobinsonBay.csv\"                \n",
       "  [4] \"2011-10-29_FINPRINT_Indonesia-GloversReefWest.csv\"                             \n",
       "  [5] \"2011-11-2_SERF_SaudiArabia-PenghuCimei.csv\"                                    \n",
       "  [6] \"2011-11-30_SERF_BritishWestIndies-AlphonseStFrancois.csv\"                      \n",
       "  [7] \"2011-3-1_FINPRINT_USAPacific-StEustatiusWest.csv\"                              \n",
       "  [8] \"2011-3-10_FINPRINT_Qatar-HoutmanAbrolhosNorthOpen.csv\"                         \n",
       "  [9] \"2011-3-11_SERF_Belize-BonaireNorthCoast.csv\"                                   \n",
       " [10] \"2011-3-11_SERF_Fiji-ArubaSouthEast.csv\"                                        \n",
       " [11] \"2011-3-19_FINPRINT_Tonga-NorthSulawesiLembehIsland.csv\"                        \n",
       " [12] \"2011-4-16_SERF_Palau-KimberleyJacksonIsland.csv\"                               \n",
       " [13] \"2011-4-3_FINPRINT_BritishWestIndies-FloridaUpperKeys2.csv\"                     \n",
       " [14] \"2011-5-14_SERF_Brazil-FloridaKeysTip1.csv\"                                     \n",
       " [15] \"2011-5-15_SERF_DominicanRepublic-TurneffeAtollLagoon.csv\"                      \n",
       " [16] \"2011-5-27_SERF_USAWesternAtlantic-TobagoCharlotteville.csv\"                    \n",
       " [17] \"2011-5-29_FINPRINT_CookIslands-NingalooWestExmouthGulf.csv\"                    \n",
       " [18] \"2011-5-8_FINPRINT_USAPacific-PearlandHermesAtollPearlandHermesAtoll.csv\"       \n",
       " [19] \"2011-6-19_FINPRINT_Qatar-NingalooCloatesOpen.csv\"                              \n",
       " [20] \"2011-6-22_FINPRINT_Vietnam-ZairaAreaOpen.csv\"                                  \n",
       " [21] \"2011-8-1_SERF_USAPacific-TikehauTikehau1.csv\"                                  \n",
       " [22] \"2011-8-13_SERF_Vanuatu-OahuOahu.csv\"                                           \n",
       " [23] \"2011-8-14_FINPRINT_Belize-SouthernKenyaMpungutiReserve.csv\"                    \n",
       " [24] \"2011-8-17_FINPRINT_AustraliaPacific-OldProvidenceIslandOldProvidenceIsland.csv\"\n",
       " [25] \"2011-8-18_SERF_SouthAfrica-KimberleyJacksonIsland.csv\"                         \n",
       " [26] \"2011-9-22_SERF_AustraliaPacific-EastCoastNilaveli.csv\"                         \n",
       " [27] \"2012-1-12_SERF_USAPacific-SabaBankBank2.csv\"                                   \n",
       " [28] \"2012-10-30_FINPRINT_Jamaica-CayeCaulkerCayeCaulkerLagoon.csv\"                  \n",
       " [29] \"2012-11-1_SERF_NewZealand-MontserratMontserratWest.csv\"                        \n",
       " [30] \"2012-2-11_SERF_Seychelles-BonaireSouthCoast.csv\"                               \n",
       " [31] \"2012-2-21_SERF_SolomonIslands-KermedecNorthRaoulIsland.csv\"                    \n",
       " [32] \"2012-3-13_SERF_DominicanRepublic-MaruteaMarutea1.csv\"                          \n",
       " [33] \"2012-3-19_FINPRINT_Qatar-BuenHombreBuenHombreReef.csv\"                         \n",
       " [34] \"2012-3-9_SERF_FederatedStatesofMicronesia-SouthernKenyaKisiteWest.csv\"         \n",
       " [35] \"2012-4-11_SERF_Bahamas-SempornaIslandsParkTunSakaranMarinePark.csv\"            \n",
       " [36] \"2012-4-13_SERF_Madagascar-NorthNorthWest.csv\"                                  \n",
       " [37] \"2012-4-19_FINPRINT_Indonesia-NorthernTanzaniaTangaSouth.csv\"                   \n",
       " [38] \"2012-4-20_SERF_AustraliaPacific-NinhThuanNorth.csv\"                            \n",
       " [39] \"2012-5-21_FINPRINT_Bahamas-ScottReefNorth.csv\"                                 \n",
       " [40] \"2012-6-1_FINPRINT_DominicanRepublic-TiomanEast.csv\"                            \n",
       " [41] \"2012-6-15_SERF_FrenchWestIndies-NorthernTanzaniaTangaNorth.csv\"                \n",
       " [42] \"2012-6-18_FINPRINT_USAWesternAtlantic-NingalooWinderabandiReserve.csv\"         \n",
       " [43] \"2012-6-24_SERF_SouthAfrica-OkinawaIriomote.csv\"                                \n",
       " [44] \"2012-9-20_SERF_Brazil-MooreaMoorea1.csv\"                                       \n",
       " [45] \"2013-1-17_FINPRINT_SriLanka-HoutmanAbrolhosEasterReserve.csv\"                  \n",
       " [46] \"2013-1-27_FINPRINT_Kenya-GuanahacabibesGuanahacabibesReef.csv\"                 \n",
       " [47] \"2013-10-1_FINPRINT_Vanuatu-AbacoBightofOldRobinsonBay.csv\"                     \n",
       " [48] \"2013-11-4_FINPRINT_TrinidadandTobago-PilbaraRosemaryIsland.csv\"                \n",
       " [49] \"2013-11-6_SERF_FederatedStatesofMicronesia-GiliIslandsGiliTrawanganClosed.csv\" \n",
       " [50] \"2013-2-11_FINPRINT_AmericanSamoa-NorthSumatraAcehIsland.csv\"                   \n",
       " [51] \"2013-2-17_SERF_BritishWestIndies-CayeCaulkerCayeCaulker.csv\"                   \n",
       " [52] \"2013-2-24_SERF_Guam-StLuciaiSimangalisoWetlandParkSouth.csv\"                   \n",
       " [53] \"2013-2-7_SERF_DutchCaribbean-NosyBeSharkPoint.csv\"                             \n",
       " [54] \"2013-3-21_SERF_Vietnam-CentralMozambiqueParadiseIsland.csv\"                    \n",
       " [55] \"2013-5-24_FINPRINT_AntiguaandBarbuda-NingalooPelicanReserve.csv\"               \n",
       " [56] \"2013-7-30_FINPRINT_Qatar-StLuciaiSimangalisoWetlandParkNorth.csv\"              \n",
       " [57] \"2013-8-8_SERF_Guam-UpoluFalealili.csv\"                                         \n",
       " [58] \"2013-9-23_SERF_Kiribati-BiminiBiminiNorth.csv\"                                 \n",
       " [59] \"2013-9-3_FINPRINT_NewCaledonia-KaviengKapalaman.csv\"                           \n",
       " [60] \"2014-1-16_SERF_Mozambique-NingalooEastExmouthGulf.csv\"                         \n",
       " [61] \"2014-1-3_FINPRINT_DutchCaribbean-LighthouseReefLighthouseHalfmoon.csv\"         \n",
       " [62] \"2014-10-21_FINPRINT_Vietnam-KermedecSouthMacauleyIsland.csv\"                   \n",
       " [63] \"2014-10-25_SERF_FederatedStatesofMicronesia-MooreaMoorea3.csv\"                 \n",
       " [64] \"2014-11-22_SERF_Kenya-BonaireProtectedAreasCombined.csv\"                       \n",
       " [65] \"2014-2-23_SERF_DominicanRepublic-KimberleyDugongBay.csv\"                       \n",
       " [66] \"2014-2-3_FINPRINT_DutchCaribbean-PalauNorthKayangel.csv\"                       \n",
       " [67] \"2014-4-21_SERF_TrinidadandTobago-KotaKinabaluTunkuAbdulRahmanPark.csv\"         \n",
       " [68] \"2014-5-26_FINPRINT_Malaysia-WestCoastNetrani.csv\"                              \n",
       " [69] \"2014-5-8_SERF_NewCaledonia-HawaiiKonaAirport.csv\"                              \n",
       " [70] \"2014-6-1_FINPRINT_Vietnam-NinhThuanSouth.csv\"                                  \n",
       " [71] \"2014-7-1_SERF_Madagascar-KimberleyMontgomeryIsland.csv\"                        \n",
       " [72] \"2014-7-24_SERF_Kenya-OvalauEast.csv\"                                           \n",
       " [73] \"2014-8-26_SERF_Guam-TahitiTahiti3.csv\"                                         \n",
       " [74] \"2014-9-10_FINPRINT_India-BiminiBiminiSouth.csv\"                                \n",
       " [75] \"2014-9-18_FINPRINT_AmericanSamoa-JamaicaOchoRios.csv\"                          \n",
       " [76] \"2015-3-11_SERF_Maldives-ArubaArubaWest.csv\"                                    \n",
       " [77] \"2015-3-26_FINPRINT_Jamaica-HoutmanAbrolhosWallabiOpen.csv\"                     \n",
       " [78] \"2015-3-6_SERF_NewCaledonia-NorthernTanzaniaTangaNorth.csv\"                     \n",
       " [79] \"2015-4-8_SERF_TrinidadandTobago-GloversReefEast.csv\"                           \n",
       " [80] \"2015-6-1_FINPRINT_Samoa-ExumasNorth.csv\"                                       \n",
       " [81] \"2015-6-22_SERF_Mozambique-NorthernGBR2LagoonReef.csv\"                          \n",
       " [82] \"2015-7-9_FINPRINT_Seychelles-WestCoastTakarli.csv\"                             \n",
       " [83] \"2015-8-18_FINPRINT_Kenya-KubulauNamenaOpen.csv\"                                \n",
       " [84] \"2015-8-19_SERF_Tanzania-FloridaUpperKeys1.csv\"                                 \n",
       " [85] \"2015-9-17_FINPRINT_AmericanSamoa-LanaiLanaiSouth.csv\"                          \n",
       " [86] \"2016-1-12_FINPRINT_Mozambique-KubulauNamena.csv\"                               \n",
       " [87] \"2016-1-12_FINPRINT_USAWesternAtlantic-FernandodeNoronhaAPAArea.csv\"            \n",
       " [88] \"2016-10-19_SERF_FederatedStatesofMicronesia-NingalooManduReserve.csv\"          \n",
       " [89] \"2016-10-30_SERF_DominicanRepublic-GloversReefWest.csv\"                         \n",
       " [90] \"2016-11-13_FINPRINT_AustraliaPacific-MaupitiMaupiti1.csv\"                      \n",
       " [91] \"2016-11-3_FINPRINT_Niue-GuamPati.csv\"                                          \n",
       " [92] \"2016-2-1_SERF_BritishWestIndies-ChristmasIslandEast.csv\"                       \n",
       " [93] \"2016-2-24_FINPRINT_DominicanRepublic-LordHoweIslandLordHoweIsland.csv\"         \n",
       " [94] \"2016-2-30_FINPRINT_FederatedStatesofMicronesia-StMaartenDutchFishing.csv\"      \n",
       " [95] \"2016-2-5_FINPRINT_Mayotte-NorthNorthWest.csv\"                                  \n",
       " [96] \"2016-3-25_SERF_AustraliaIndianOcean-NosyIranjaBancAnkivonjy.csv\"               \n",
       " [97] \"2016-3-26_FINPRINT_FrenchWestIndies-RaiateaRaiatea1.csv\"                       \n",
       " [98] \"2016-3-29_SERF_FederatedStatesofMicronesia-CuracaoEastCoast.csv\"               \n",
       " [99] \"2016-4-11_FINPRINT_FrenchWestIndies-BarbadosNortheast.csv\"                     \n",
       "[100] \"2016-4-15_FINPRINT_TrinidadandTobago-CayeCaulkerCayeCaulker.csv\"               \n",
       "[101] \"2016-5-20_FINPRINT_SouthAfrica-CobourgPeninsulaOffshoreReef.csv\"               \n",
       "[102] \"2016-5-4_FINPRINT_Mozambique-GuadeloupeGrandeculdeSac.csv\"                     \n",
       "[103] \"2016-6-28_FINPRINT_Seychelles-SouthernKenyaWatamu.csv\"                         \n",
       "[104] \"2016-8-11_SERF_SolomonIslands-KimberleyLacepedeIslands.csv\"                    \n",
       "[105] \"2016-9-13_FINPRINT_Barbados-CentralMozambiqueNorthBazarutoReef.csv\"            \n",
       "[106] \"2016-9-21_FINPRINT_Fiji-Cocos-KeelingHomeIsland.csv\"                           "
      ]
     },
     "metadata": {},
     "output_type": "display_data"
    }
   ],
   "source": [
    "list.files(path='Filez')"
   ]
  },
  {
   "cell_type": "markdown",
   "metadata": {},
   "source": [
    "And we can use internal R functions to find a specific pattern in those filez:"
   ]
  },
  {
   "cell_type": "code",
   "execution_count": 2,
   "metadata": {},
   "outputs": [
    {
     "data": {
      "text/html": [
       "<ol class=list-inline>\n",
       "\t<li>'2011-10-29_FINPRINT_Indonesia-GloversReefWest.csv'</li>\n",
       "\t<li>'2011-3-1_FINPRINT_USAPacific-StEustatiusWest.csv'</li>\n",
       "\t<li>'2011-3-10_FINPRINT_Qatar-HoutmanAbrolhosNorthOpen.csv'</li>\n",
       "\t<li>'2011-3-19_FINPRINT_Tonga-NorthSulawesiLembehIsland.csv'</li>\n",
       "\t<li>'2011-4-3_FINPRINT_BritishWestIndies-FloridaUpperKeys2.csv'</li>\n",
       "\t<li>'2011-5-29_FINPRINT_CookIslands-NingalooWestExmouthGulf.csv'</li>\n",
       "\t<li>'2011-5-8_FINPRINT_USAPacific-PearlandHermesAtollPearlandHermesAtoll.csv'</li>\n",
       "\t<li>'2011-6-19_FINPRINT_Qatar-NingalooCloatesOpen.csv'</li>\n",
       "\t<li>'2011-6-22_FINPRINT_Vietnam-ZairaAreaOpen.csv'</li>\n",
       "\t<li>'2011-8-14_FINPRINT_Belize-SouthernKenyaMpungutiReserve.csv'</li>\n",
       "\t<li>'2011-8-17_FINPRINT_AustraliaPacific-OldProvidenceIslandOldProvidenceIsland.csv'</li>\n",
       "\t<li>'2012-10-30_FINPRINT_Jamaica-CayeCaulkerCayeCaulkerLagoon.csv'</li>\n",
       "\t<li>'2012-3-19_FINPRINT_Qatar-BuenHombreBuenHombreReef.csv'</li>\n",
       "\t<li>'2012-4-19_FINPRINT_Indonesia-NorthernTanzaniaTangaSouth.csv'</li>\n",
       "\t<li>'2012-5-21_FINPRINT_Bahamas-ScottReefNorth.csv'</li>\n",
       "\t<li>'2012-6-1_FINPRINT_DominicanRepublic-TiomanEast.csv'</li>\n",
       "\t<li>'2012-6-18_FINPRINT_USAWesternAtlantic-NingalooWinderabandiReserve.csv'</li>\n",
       "\t<li>'2013-1-17_FINPRINT_SriLanka-HoutmanAbrolhosEasterReserve.csv'</li>\n",
       "\t<li>'2013-1-27_FINPRINT_Kenya-GuanahacabibesGuanahacabibesReef.csv'</li>\n",
       "\t<li>'2013-10-1_FINPRINT_Vanuatu-AbacoBightofOldRobinsonBay.csv'</li>\n",
       "\t<li>'2013-11-4_FINPRINT_TrinidadandTobago-PilbaraRosemaryIsland.csv'</li>\n",
       "\t<li>'2013-2-11_FINPRINT_AmericanSamoa-NorthSumatraAcehIsland.csv'</li>\n",
       "\t<li>'2013-5-24_FINPRINT_AntiguaandBarbuda-NingalooPelicanReserve.csv'</li>\n",
       "\t<li>'2013-7-30_FINPRINT_Qatar-StLuciaiSimangalisoWetlandParkNorth.csv'</li>\n",
       "\t<li>'2013-9-3_FINPRINT_NewCaledonia-KaviengKapalaman.csv'</li>\n",
       "\t<li>'2014-1-3_FINPRINT_DutchCaribbean-LighthouseReefLighthouseHalfmoon.csv'</li>\n",
       "\t<li>'2014-10-21_FINPRINT_Vietnam-KermedecSouthMacauleyIsland.csv'</li>\n",
       "\t<li>'2014-2-3_FINPRINT_DutchCaribbean-PalauNorthKayangel.csv'</li>\n",
       "\t<li>'2014-5-26_FINPRINT_Malaysia-WestCoastNetrani.csv'</li>\n",
       "\t<li>'2014-6-1_FINPRINT_Vietnam-NinhThuanSouth.csv'</li>\n",
       "\t<li>'2014-9-10_FINPRINT_India-BiminiBiminiSouth.csv'</li>\n",
       "\t<li>'2014-9-18_FINPRINT_AmericanSamoa-JamaicaOchoRios.csv'</li>\n",
       "\t<li>'2015-3-26_FINPRINT_Jamaica-HoutmanAbrolhosWallabiOpen.csv'</li>\n",
       "\t<li>'2015-6-1_FINPRINT_Samoa-ExumasNorth.csv'</li>\n",
       "\t<li>'2015-7-9_FINPRINT_Seychelles-WestCoastTakarli.csv'</li>\n",
       "\t<li>'2015-8-18_FINPRINT_Kenya-KubulauNamenaOpen.csv'</li>\n",
       "\t<li>'2015-9-17_FINPRINT_AmericanSamoa-LanaiLanaiSouth.csv'</li>\n",
       "\t<li>'2016-1-12_FINPRINT_Mozambique-KubulauNamena.csv'</li>\n",
       "\t<li>'2016-1-12_FINPRINT_USAWesternAtlantic-FernandodeNoronhaAPAArea.csv'</li>\n",
       "\t<li>'2016-11-13_FINPRINT_AustraliaPacific-MaupitiMaupiti1.csv'</li>\n",
       "\t<li>'2016-11-3_FINPRINT_Niue-GuamPati.csv'</li>\n",
       "\t<li>'2016-2-24_FINPRINT_DominicanRepublic-LordHoweIslandLordHoweIsland.csv'</li>\n",
       "\t<li>'2016-2-30_FINPRINT_FederatedStatesofMicronesia-StMaartenDutchFishing.csv'</li>\n",
       "\t<li>'2016-2-5_FINPRINT_Mayotte-NorthNorthWest.csv'</li>\n",
       "\t<li>'2016-3-26_FINPRINT_FrenchWestIndies-RaiateaRaiatea1.csv'</li>\n",
       "\t<li>'2016-4-11_FINPRINT_FrenchWestIndies-BarbadosNortheast.csv'</li>\n",
       "\t<li>'2016-4-15_FINPRINT_TrinidadandTobago-CayeCaulkerCayeCaulker.csv'</li>\n",
       "\t<li>'2016-5-20_FINPRINT_SouthAfrica-CobourgPeninsulaOffshoreReef.csv'</li>\n",
       "\t<li>'2016-5-4_FINPRINT_Mozambique-GuadeloupeGrandeculdeSac.csv'</li>\n",
       "\t<li>'2016-6-28_FINPRINT_Seychelles-SouthernKenyaWatamu.csv'</li>\n",
       "\t<li>'2016-9-13_FINPRINT_Barbados-CentralMozambiqueNorthBazarutoReef.csv'</li>\n",
       "\t<li>'2016-9-21_FINPRINT_Fiji-Cocos-KeelingHomeIsland.csv'</li>\n",
       "</ol>\n"
      ],
      "text/latex": [
       "\\begin{enumerate*}\n",
       "\\item '2011-10-29\\_FINPRINT\\_Indonesia-GloversReefWest.csv'\n",
       "\\item '2011-3-1\\_FINPRINT\\_USAPacific-StEustatiusWest.csv'\n",
       "\\item '2011-3-10\\_FINPRINT\\_Qatar-HoutmanAbrolhosNorthOpen.csv'\n",
       "\\item '2011-3-19\\_FINPRINT\\_Tonga-NorthSulawesiLembehIsland.csv'\n",
       "\\item '2011-4-3\\_FINPRINT\\_BritishWestIndies-FloridaUpperKeys2.csv'\n",
       "\\item '2011-5-29\\_FINPRINT\\_CookIslands-NingalooWestExmouthGulf.csv'\n",
       "\\item '2011-5-8\\_FINPRINT\\_USAPacific-PearlandHermesAtollPearlandHermesAtoll.csv'\n",
       "\\item '2011-6-19\\_FINPRINT\\_Qatar-NingalooCloatesOpen.csv'\n",
       "\\item '2011-6-22\\_FINPRINT\\_Vietnam-ZairaAreaOpen.csv'\n",
       "\\item '2011-8-14\\_FINPRINT\\_Belize-SouthernKenyaMpungutiReserve.csv'\n",
       "\\item '2011-8-17\\_FINPRINT\\_AustraliaPacific-OldProvidenceIslandOldProvidenceIsland.csv'\n",
       "\\item '2012-10-30\\_FINPRINT\\_Jamaica-CayeCaulkerCayeCaulkerLagoon.csv'\n",
       "\\item '2012-3-19\\_FINPRINT\\_Qatar-BuenHombreBuenHombreReef.csv'\n",
       "\\item '2012-4-19\\_FINPRINT\\_Indonesia-NorthernTanzaniaTangaSouth.csv'\n",
       "\\item '2012-5-21\\_FINPRINT\\_Bahamas-ScottReefNorth.csv'\n",
       "\\item '2012-6-1\\_FINPRINT\\_DominicanRepublic-TiomanEast.csv'\n",
       "\\item '2012-6-18\\_FINPRINT\\_USAWesternAtlantic-NingalooWinderabandiReserve.csv'\n",
       "\\item '2013-1-17\\_FINPRINT\\_SriLanka-HoutmanAbrolhosEasterReserve.csv'\n",
       "\\item '2013-1-27\\_FINPRINT\\_Kenya-GuanahacabibesGuanahacabibesReef.csv'\n",
       "\\item '2013-10-1\\_FINPRINT\\_Vanuatu-AbacoBightofOldRobinsonBay.csv'\n",
       "\\item '2013-11-4\\_FINPRINT\\_TrinidadandTobago-PilbaraRosemaryIsland.csv'\n",
       "\\item '2013-2-11\\_FINPRINT\\_AmericanSamoa-NorthSumatraAcehIsland.csv'\n",
       "\\item '2013-5-24\\_FINPRINT\\_AntiguaandBarbuda-NingalooPelicanReserve.csv'\n",
       "\\item '2013-7-30\\_FINPRINT\\_Qatar-StLuciaiSimangalisoWetlandParkNorth.csv'\n",
       "\\item '2013-9-3\\_FINPRINT\\_NewCaledonia-KaviengKapalaman.csv'\n",
       "\\item '2014-1-3\\_FINPRINT\\_DutchCaribbean-LighthouseReefLighthouseHalfmoon.csv'\n",
       "\\item '2014-10-21\\_FINPRINT\\_Vietnam-KermedecSouthMacauleyIsland.csv'\n",
       "\\item '2014-2-3\\_FINPRINT\\_DutchCaribbean-PalauNorthKayangel.csv'\n",
       "\\item '2014-5-26\\_FINPRINT\\_Malaysia-WestCoastNetrani.csv'\n",
       "\\item '2014-6-1\\_FINPRINT\\_Vietnam-NinhThuanSouth.csv'\n",
       "\\item '2014-9-10\\_FINPRINT\\_India-BiminiBiminiSouth.csv'\n",
       "\\item '2014-9-18\\_FINPRINT\\_AmericanSamoa-JamaicaOchoRios.csv'\n",
       "\\item '2015-3-26\\_FINPRINT\\_Jamaica-HoutmanAbrolhosWallabiOpen.csv'\n",
       "\\item '2015-6-1\\_FINPRINT\\_Samoa-ExumasNorth.csv'\n",
       "\\item '2015-7-9\\_FINPRINT\\_Seychelles-WestCoastTakarli.csv'\n",
       "\\item '2015-8-18\\_FINPRINT\\_Kenya-KubulauNamenaOpen.csv'\n",
       "\\item '2015-9-17\\_FINPRINT\\_AmericanSamoa-LanaiLanaiSouth.csv'\n",
       "\\item '2016-1-12\\_FINPRINT\\_Mozambique-KubulauNamena.csv'\n",
       "\\item '2016-1-12\\_FINPRINT\\_USAWesternAtlantic-FernandodeNoronhaAPAArea.csv'\n",
       "\\item '2016-11-13\\_FINPRINT\\_AustraliaPacific-MaupitiMaupiti1.csv'\n",
       "\\item '2016-11-3\\_FINPRINT\\_Niue-GuamPati.csv'\n",
       "\\item '2016-2-24\\_FINPRINT\\_DominicanRepublic-LordHoweIslandLordHoweIsland.csv'\n",
       "\\item '2016-2-30\\_FINPRINT\\_FederatedStatesofMicronesia-StMaartenDutchFishing.csv'\n",
       "\\item '2016-2-5\\_FINPRINT\\_Mayotte-NorthNorthWest.csv'\n",
       "\\item '2016-3-26\\_FINPRINT\\_FrenchWestIndies-RaiateaRaiatea1.csv'\n",
       "\\item '2016-4-11\\_FINPRINT\\_FrenchWestIndies-BarbadosNortheast.csv'\n",
       "\\item '2016-4-15\\_FINPRINT\\_TrinidadandTobago-CayeCaulkerCayeCaulker.csv'\n",
       "\\item '2016-5-20\\_FINPRINT\\_SouthAfrica-CobourgPeninsulaOffshoreReef.csv'\n",
       "\\item '2016-5-4\\_FINPRINT\\_Mozambique-GuadeloupeGrandeculdeSac.csv'\n",
       "\\item '2016-6-28\\_FINPRINT\\_Seychelles-SouthernKenyaWatamu.csv'\n",
       "\\item '2016-9-13\\_FINPRINT\\_Barbados-CentralMozambiqueNorthBazarutoReef.csv'\n",
       "\\item '2016-9-21\\_FINPRINT\\_Fiji-Cocos-KeelingHomeIsland.csv'\n",
       "\\end{enumerate*}\n"
      ],
      "text/markdown": [
       "1. '2011-10-29_FINPRINT_Indonesia-GloversReefWest.csv'\n",
       "2. '2011-3-1_FINPRINT_USAPacific-StEustatiusWest.csv'\n",
       "3. '2011-3-10_FINPRINT_Qatar-HoutmanAbrolhosNorthOpen.csv'\n",
       "4. '2011-3-19_FINPRINT_Tonga-NorthSulawesiLembehIsland.csv'\n",
       "5. '2011-4-3_FINPRINT_BritishWestIndies-FloridaUpperKeys2.csv'\n",
       "6. '2011-5-29_FINPRINT_CookIslands-NingalooWestExmouthGulf.csv'\n",
       "7. '2011-5-8_FINPRINT_USAPacific-PearlandHermesAtollPearlandHermesAtoll.csv'\n",
       "8. '2011-6-19_FINPRINT_Qatar-NingalooCloatesOpen.csv'\n",
       "9. '2011-6-22_FINPRINT_Vietnam-ZairaAreaOpen.csv'\n",
       "10. '2011-8-14_FINPRINT_Belize-SouthernKenyaMpungutiReserve.csv'\n",
       "11. '2011-8-17_FINPRINT_AustraliaPacific-OldProvidenceIslandOldProvidenceIsland.csv'\n",
       "12. '2012-10-30_FINPRINT_Jamaica-CayeCaulkerCayeCaulkerLagoon.csv'\n",
       "13. '2012-3-19_FINPRINT_Qatar-BuenHombreBuenHombreReef.csv'\n",
       "14. '2012-4-19_FINPRINT_Indonesia-NorthernTanzaniaTangaSouth.csv'\n",
       "15. '2012-5-21_FINPRINT_Bahamas-ScottReefNorth.csv'\n",
       "16. '2012-6-1_FINPRINT_DominicanRepublic-TiomanEast.csv'\n",
       "17. '2012-6-18_FINPRINT_USAWesternAtlantic-NingalooWinderabandiReserve.csv'\n",
       "18. '2013-1-17_FINPRINT_SriLanka-HoutmanAbrolhosEasterReserve.csv'\n",
       "19. '2013-1-27_FINPRINT_Kenya-GuanahacabibesGuanahacabibesReef.csv'\n",
       "20. '2013-10-1_FINPRINT_Vanuatu-AbacoBightofOldRobinsonBay.csv'\n",
       "21. '2013-11-4_FINPRINT_TrinidadandTobago-PilbaraRosemaryIsland.csv'\n",
       "22. '2013-2-11_FINPRINT_AmericanSamoa-NorthSumatraAcehIsland.csv'\n",
       "23. '2013-5-24_FINPRINT_AntiguaandBarbuda-NingalooPelicanReserve.csv'\n",
       "24. '2013-7-30_FINPRINT_Qatar-StLuciaiSimangalisoWetlandParkNorth.csv'\n",
       "25. '2013-9-3_FINPRINT_NewCaledonia-KaviengKapalaman.csv'\n",
       "26. '2014-1-3_FINPRINT_DutchCaribbean-LighthouseReefLighthouseHalfmoon.csv'\n",
       "27. '2014-10-21_FINPRINT_Vietnam-KermedecSouthMacauleyIsland.csv'\n",
       "28. '2014-2-3_FINPRINT_DutchCaribbean-PalauNorthKayangel.csv'\n",
       "29. '2014-5-26_FINPRINT_Malaysia-WestCoastNetrani.csv'\n",
       "30. '2014-6-1_FINPRINT_Vietnam-NinhThuanSouth.csv'\n",
       "31. '2014-9-10_FINPRINT_India-BiminiBiminiSouth.csv'\n",
       "32. '2014-9-18_FINPRINT_AmericanSamoa-JamaicaOchoRios.csv'\n",
       "33. '2015-3-26_FINPRINT_Jamaica-HoutmanAbrolhosWallabiOpen.csv'\n",
       "34. '2015-6-1_FINPRINT_Samoa-ExumasNorth.csv'\n",
       "35. '2015-7-9_FINPRINT_Seychelles-WestCoastTakarli.csv'\n",
       "36. '2015-8-18_FINPRINT_Kenya-KubulauNamenaOpen.csv'\n",
       "37. '2015-9-17_FINPRINT_AmericanSamoa-LanaiLanaiSouth.csv'\n",
       "38. '2016-1-12_FINPRINT_Mozambique-KubulauNamena.csv'\n",
       "39. '2016-1-12_FINPRINT_USAWesternAtlantic-FernandodeNoronhaAPAArea.csv'\n",
       "40. '2016-11-13_FINPRINT_AustraliaPacific-MaupitiMaupiti1.csv'\n",
       "41. '2016-11-3_FINPRINT_Niue-GuamPati.csv'\n",
       "42. '2016-2-24_FINPRINT_DominicanRepublic-LordHoweIslandLordHoweIsland.csv'\n",
       "43. '2016-2-30_FINPRINT_FederatedStatesofMicronesia-StMaartenDutchFishing.csv'\n",
       "44. '2016-2-5_FINPRINT_Mayotte-NorthNorthWest.csv'\n",
       "45. '2016-3-26_FINPRINT_FrenchWestIndies-RaiateaRaiatea1.csv'\n",
       "46. '2016-4-11_FINPRINT_FrenchWestIndies-BarbadosNortheast.csv'\n",
       "47. '2016-4-15_FINPRINT_TrinidadandTobago-CayeCaulkerCayeCaulker.csv'\n",
       "48. '2016-5-20_FINPRINT_SouthAfrica-CobourgPeninsulaOffshoreReef.csv'\n",
       "49. '2016-5-4_FINPRINT_Mozambique-GuadeloupeGrandeculdeSac.csv'\n",
       "50. '2016-6-28_FINPRINT_Seychelles-SouthernKenyaWatamu.csv'\n",
       "51. '2016-9-13_FINPRINT_Barbados-CentralMozambiqueNorthBazarutoReef.csv'\n",
       "52. '2016-9-21_FINPRINT_Fiji-Cocos-KeelingHomeIsland.csv'\n",
       "\n",
       "\n"
      ],
      "text/plain": [
       " [1] \"2011-10-29_FINPRINT_Indonesia-GloversReefWest.csv\"                             \n",
       " [2] \"2011-3-1_FINPRINT_USAPacific-StEustatiusWest.csv\"                              \n",
       " [3] \"2011-3-10_FINPRINT_Qatar-HoutmanAbrolhosNorthOpen.csv\"                         \n",
       " [4] \"2011-3-19_FINPRINT_Tonga-NorthSulawesiLembehIsland.csv\"                        \n",
       " [5] \"2011-4-3_FINPRINT_BritishWestIndies-FloridaUpperKeys2.csv\"                     \n",
       " [6] \"2011-5-29_FINPRINT_CookIslands-NingalooWestExmouthGulf.csv\"                    \n",
       " [7] \"2011-5-8_FINPRINT_USAPacific-PearlandHermesAtollPearlandHermesAtoll.csv\"       \n",
       " [8] \"2011-6-19_FINPRINT_Qatar-NingalooCloatesOpen.csv\"                              \n",
       " [9] \"2011-6-22_FINPRINT_Vietnam-ZairaAreaOpen.csv\"                                  \n",
       "[10] \"2011-8-14_FINPRINT_Belize-SouthernKenyaMpungutiReserve.csv\"                    \n",
       "[11] \"2011-8-17_FINPRINT_AustraliaPacific-OldProvidenceIslandOldProvidenceIsland.csv\"\n",
       "[12] \"2012-10-30_FINPRINT_Jamaica-CayeCaulkerCayeCaulkerLagoon.csv\"                  \n",
       "[13] \"2012-3-19_FINPRINT_Qatar-BuenHombreBuenHombreReef.csv\"                         \n",
       "[14] \"2012-4-19_FINPRINT_Indonesia-NorthernTanzaniaTangaSouth.csv\"                   \n",
       "[15] \"2012-5-21_FINPRINT_Bahamas-ScottReefNorth.csv\"                                 \n",
       "[16] \"2012-6-1_FINPRINT_DominicanRepublic-TiomanEast.csv\"                            \n",
       "[17] \"2012-6-18_FINPRINT_USAWesternAtlantic-NingalooWinderabandiReserve.csv\"         \n",
       "[18] \"2013-1-17_FINPRINT_SriLanka-HoutmanAbrolhosEasterReserve.csv\"                  \n",
       "[19] \"2013-1-27_FINPRINT_Kenya-GuanahacabibesGuanahacabibesReef.csv\"                 \n",
       "[20] \"2013-10-1_FINPRINT_Vanuatu-AbacoBightofOldRobinsonBay.csv\"                     \n",
       "[21] \"2013-11-4_FINPRINT_TrinidadandTobago-PilbaraRosemaryIsland.csv\"                \n",
       "[22] \"2013-2-11_FINPRINT_AmericanSamoa-NorthSumatraAcehIsland.csv\"                   \n",
       "[23] \"2013-5-24_FINPRINT_AntiguaandBarbuda-NingalooPelicanReserve.csv\"               \n",
       "[24] \"2013-7-30_FINPRINT_Qatar-StLuciaiSimangalisoWetlandParkNorth.csv\"              \n",
       "[25] \"2013-9-3_FINPRINT_NewCaledonia-KaviengKapalaman.csv\"                           \n",
       "[26] \"2014-1-3_FINPRINT_DutchCaribbean-LighthouseReefLighthouseHalfmoon.csv\"         \n",
       "[27] \"2014-10-21_FINPRINT_Vietnam-KermedecSouthMacauleyIsland.csv\"                   \n",
       "[28] \"2014-2-3_FINPRINT_DutchCaribbean-PalauNorthKayangel.csv\"                       \n",
       "[29] \"2014-5-26_FINPRINT_Malaysia-WestCoastNetrani.csv\"                              \n",
       "[30] \"2014-6-1_FINPRINT_Vietnam-NinhThuanSouth.csv\"                                  \n",
       "[31] \"2014-9-10_FINPRINT_India-BiminiBiminiSouth.csv\"                                \n",
       "[32] \"2014-9-18_FINPRINT_AmericanSamoa-JamaicaOchoRios.csv\"                          \n",
       "[33] \"2015-3-26_FINPRINT_Jamaica-HoutmanAbrolhosWallabiOpen.csv\"                     \n",
       "[34] \"2015-6-1_FINPRINT_Samoa-ExumasNorth.csv\"                                       \n",
       "[35] \"2015-7-9_FINPRINT_Seychelles-WestCoastTakarli.csv\"                             \n",
       "[36] \"2015-8-18_FINPRINT_Kenya-KubulauNamenaOpen.csv\"                                \n",
       "[37] \"2015-9-17_FINPRINT_AmericanSamoa-LanaiLanaiSouth.csv\"                          \n",
       "[38] \"2016-1-12_FINPRINT_Mozambique-KubulauNamena.csv\"                               \n",
       "[39] \"2016-1-12_FINPRINT_USAWesternAtlantic-FernandodeNoronhaAPAArea.csv\"            \n",
       "[40] \"2016-11-13_FINPRINT_AustraliaPacific-MaupitiMaupiti1.csv\"                      \n",
       "[41] \"2016-11-3_FINPRINT_Niue-GuamPati.csv\"                                          \n",
       "[42] \"2016-2-24_FINPRINT_DominicanRepublic-LordHoweIslandLordHoweIsland.csv\"         \n",
       "[43] \"2016-2-30_FINPRINT_FederatedStatesofMicronesia-StMaartenDutchFishing.csv\"      \n",
       "[44] \"2016-2-5_FINPRINT_Mayotte-NorthNorthWest.csv\"                                  \n",
       "[45] \"2016-3-26_FINPRINT_FrenchWestIndies-RaiateaRaiatea1.csv\"                       \n",
       "[46] \"2016-4-11_FINPRINT_FrenchWestIndies-BarbadosNortheast.csv\"                     \n",
       "[47] \"2016-4-15_FINPRINT_TrinidadandTobago-CayeCaulkerCayeCaulker.csv\"               \n",
       "[48] \"2016-5-20_FINPRINT_SouthAfrica-CobourgPeninsulaOffshoreReef.csv\"               \n",
       "[49] \"2016-5-4_FINPRINT_Mozambique-GuadeloupeGrandeculdeSac.csv\"                     \n",
       "[50] \"2016-6-28_FINPRINT_Seychelles-SouthernKenyaWatamu.csv\"                         \n",
       "[51] \"2016-9-13_FINPRINT_Barbados-CentralMozambiqueNorthBazarutoReef.csv\"            \n",
       "[52] \"2016-9-21_FINPRINT_Fiji-Cocos-KeelingHomeIsland.csv\"                           "
      ]
     },
     "metadata": {},
     "output_type": "display_data"
    }
   ],
   "source": [
    "list.files(path='Filez','FINPRINT')"
   ]
  },
  {
   "cell_type": "markdown",
   "metadata": {},
   "source": [
    "Now, with all those filez we need to do some intellgent stuff, like figuring out just how many countires we went to in the [FinPrint](https://globalfinprint.org) Project:"
   ]
  },
  {
   "cell_type": "code",
   "execution_count": 3,
   "metadata": {},
   "outputs": [
    {
     "data": {
      "text/html": [
       "<ol class=list-inline>\n",
       "\t<li>'2011-10-29_FINPRINT_Indonesia-GloversReefWest.csv'</li>\n",
       "\t<li>'2011-3-1_FINPRINT_USAPacific-StEustatiusWest.csv'</li>\n",
       "\t<li>'2011-3-10_FINPRINT_Qatar-HoutmanAbrolhosNorthOpen.csv'</li>\n",
       "\t<li>'2011-3-19_FINPRINT_Tonga-NorthSulawesiLembehIsland.csv'</li>\n",
       "\t<li>'2011-4-3_FINPRINT_BritishWestIndies-FloridaUpperKeys2.csv'</li>\n",
       "\t<li>'2011-5-29_FINPRINT_CookIslands-NingalooWestExmouthGulf.csv'</li>\n",
       "</ol>\n"
      ],
      "text/latex": [
       "\\begin{enumerate*}\n",
       "\\item '2011-10-29\\_FINPRINT\\_Indonesia-GloversReefWest.csv'\n",
       "\\item '2011-3-1\\_FINPRINT\\_USAPacific-StEustatiusWest.csv'\n",
       "\\item '2011-3-10\\_FINPRINT\\_Qatar-HoutmanAbrolhosNorthOpen.csv'\n",
       "\\item '2011-3-19\\_FINPRINT\\_Tonga-NorthSulawesiLembehIsland.csv'\n",
       "\\item '2011-4-3\\_FINPRINT\\_BritishWestIndies-FloridaUpperKeys2.csv'\n",
       "\\item '2011-5-29\\_FINPRINT\\_CookIslands-NingalooWestExmouthGulf.csv'\n",
       "\\end{enumerate*}\n"
      ],
      "text/markdown": [
       "1. '2011-10-29_FINPRINT_Indonesia-GloversReefWest.csv'\n",
       "2. '2011-3-1_FINPRINT_USAPacific-StEustatiusWest.csv'\n",
       "3. '2011-3-10_FINPRINT_Qatar-HoutmanAbrolhosNorthOpen.csv'\n",
       "4. '2011-3-19_FINPRINT_Tonga-NorthSulawesiLembehIsland.csv'\n",
       "5. '2011-4-3_FINPRINT_BritishWestIndies-FloridaUpperKeys2.csv'\n",
       "6. '2011-5-29_FINPRINT_CookIslands-NingalooWestExmouthGulf.csv'\n",
       "\n",
       "\n"
      ],
      "text/plain": [
       "[1] \"2011-10-29_FINPRINT_Indonesia-GloversReefWest.csv\"         \n",
       "[2] \"2011-3-1_FINPRINT_USAPacific-StEustatiusWest.csv\"          \n",
       "[3] \"2011-3-10_FINPRINT_Qatar-HoutmanAbrolhosNorthOpen.csv\"     \n",
       "[4] \"2011-3-19_FINPRINT_Tonga-NorthSulawesiLembehIsland.csv\"    \n",
       "[5] \"2011-4-3_FINPRINT_BritishWestIndies-FloridaUpperKeys2.csv\" \n",
       "[6] \"2011-5-29_FINPRINT_CookIslands-NingalooWestExmouthGulf.csv\""
      ]
     },
     "metadata": {},
     "output_type": "display_data"
    }
   ],
   "source": [
    "# Store list of files from FINPRINT project\n",
    "flist = list.files(path='Filez','FINPRINT')\n",
    "head(flist)"
   ]
  },
  {
   "cell_type": "code",
   "execution_count": 4,
   "metadata": {},
   "outputs": [
    {
     "data": {
      "text/html": [
       "<ol class=list-inline>\n",
       "\t<li>'2011-10-29_FINPRINT_Indonesia-GloversReefWest'</li>\n",
       "\t<li>'2011-3-1_FINPRINT_USAPacific-StEustatiusWest'</li>\n",
       "\t<li>'2011-3-10_FINPRINT_Qatar-HoutmanAbrolhosNorthOpen'</li>\n",
       "\t<li>'2011-3-19_FINPRINT_Tonga-NorthSulawesiLembehIsland'</li>\n",
       "\t<li>'2011-4-3_FINPRINT_BritishWestIndies-FloridaUpperKeys2'</li>\n",
       "\t<li>'2011-5-29_FINPRINT_CookIslands-NingalooWestExmouthGulf'</li>\n",
       "</ol>\n"
      ],
      "text/latex": [
       "\\begin{enumerate*}\n",
       "\\item '2011-10-29\\_FINPRINT\\_Indonesia-GloversReefWest'\n",
       "\\item '2011-3-1\\_FINPRINT\\_USAPacific-StEustatiusWest'\n",
       "\\item '2011-3-10\\_FINPRINT\\_Qatar-HoutmanAbrolhosNorthOpen'\n",
       "\\item '2011-3-19\\_FINPRINT\\_Tonga-NorthSulawesiLembehIsland'\n",
       "\\item '2011-4-3\\_FINPRINT\\_BritishWestIndies-FloridaUpperKeys2'\n",
       "\\item '2011-5-29\\_FINPRINT\\_CookIslands-NingalooWestExmouthGulf'\n",
       "\\end{enumerate*}\n"
      ],
      "text/markdown": [
       "1. '2011-10-29_FINPRINT_Indonesia-GloversReefWest'\n",
       "2. '2011-3-1_FINPRINT_USAPacific-StEustatiusWest'\n",
       "3. '2011-3-10_FINPRINT_Qatar-HoutmanAbrolhosNorthOpen'\n",
       "4. '2011-3-19_FINPRINT_Tonga-NorthSulawesiLembehIsland'\n",
       "5. '2011-4-3_FINPRINT_BritishWestIndies-FloridaUpperKeys2'\n",
       "6. '2011-5-29_FINPRINT_CookIslands-NingalooWestExmouthGulf'\n",
       "\n",
       "\n"
      ],
      "text/plain": [
       "[1] \"2011-10-29_FINPRINT_Indonesia-GloversReefWest\"         \n",
       "[2] \"2011-3-1_FINPRINT_USAPacific-StEustatiusWest\"          \n",
       "[3] \"2011-3-10_FINPRINT_Qatar-HoutmanAbrolhosNorthOpen\"     \n",
       "[4] \"2011-3-19_FINPRINT_Tonga-NorthSulawesiLembehIsland\"    \n",
       "[5] \"2011-4-3_FINPRINT_BritishWestIndies-FloridaUpperKeys2\" \n",
       "[6] \"2011-5-29_FINPRINT_CookIslands-NingalooWestExmouthGulf\""
      ]
     },
     "metadata": {},
     "output_type": "display_data"
    }
   ],
   "source": [
    "# Remove .csv from labels\n",
    "flist = gsub('.csv', '', flist)\n",
    "head(flist)"
   ]
  },
  {
   "cell_type": "code",
   "execution_count": 5,
   "metadata": {},
   "outputs": [],
   "source": [
    "# Load the string-R library\n",
    "library(stringr)"
   ]
  },
  {
   "cell_type": "code",
   "execution_count": 6,
   "metadata": {},
   "outputs": [
    {
     "data": {
      "text/html": [
       "<table>\n",
       "<tbody>\n",
       "\t<tr><td>2011-10-29                         </td><td>FINPRINT                           </td><td>Indonesia-GloversReefWest          </td></tr>\n",
       "\t<tr><td>2011-3-1                           </td><td>FINPRINT                           </td><td>USAPacific-StEustatiusWest         </td></tr>\n",
       "\t<tr><td>2011-3-10                          </td><td>FINPRINT                           </td><td>Qatar-HoutmanAbrolhosNorthOpen     </td></tr>\n",
       "\t<tr><td>2011-3-19                          </td><td>FINPRINT                           </td><td>Tonga-NorthSulawesiLembehIsland    </td></tr>\n",
       "\t<tr><td>2011-4-3                           </td><td>FINPRINT                           </td><td>BritishWestIndies-FloridaUpperKeys2</td></tr>\n",
       "\t<tr><td>2011-5-29                          </td><td>FINPRINT                           </td><td>CookIslands-NingalooWestExmouthGulf</td></tr>\n",
       "</tbody>\n",
       "</table>\n"
      ],
      "text/latex": [
       "\\begin{tabular}{lll}\n",
       "\t 2011-10-29                          & FINPRINT                            & Indonesia-GloversReefWest          \\\\\n",
       "\t 2011-3-1                            & FINPRINT                            & USAPacific-StEustatiusWest         \\\\\n",
       "\t 2011-3-10                           & FINPRINT                            & Qatar-HoutmanAbrolhosNorthOpen     \\\\\n",
       "\t 2011-3-19                           & FINPRINT                            & Tonga-NorthSulawesiLembehIsland    \\\\\n",
       "\t 2011-4-3                            & FINPRINT                            & BritishWestIndies-FloridaUpperKeys2\\\\\n",
       "\t 2011-5-29                           & FINPRINT                            & CookIslands-NingalooWestExmouthGulf\\\\\n",
       "\\end{tabular}\n"
      ],
      "text/markdown": [
       "\n",
       "| 2011-10-29                          | FINPRINT                            | Indonesia-GloversReefWest           | \n",
       "| 2011-3-1                            | FINPRINT                            | USAPacific-StEustatiusWest          | \n",
       "| 2011-3-10                           | FINPRINT                            | Qatar-HoutmanAbrolhosNorthOpen      | \n",
       "| 2011-3-19                           | FINPRINT                            | Tonga-NorthSulawesiLembehIsland     | \n",
       "| 2011-4-3                            | FINPRINT                            | BritishWestIndies-FloridaUpperKeys2 | \n",
       "| 2011-5-29                           | FINPRINT                            | CookIslands-NingalooWestExmouthGulf | \n",
       "\n",
       "\n"
      ],
      "text/plain": [
       "     [,1]       [,2]     [,3]                               \n",
       "[1,] 2011-10-29 FINPRINT Indonesia-GloversReefWest          \n",
       "[2,] 2011-3-1   FINPRINT USAPacific-StEustatiusWest         \n",
       "[3,] 2011-3-10  FINPRINT Qatar-HoutmanAbrolhosNorthOpen     \n",
       "[4,] 2011-3-19  FINPRINT Tonga-NorthSulawesiLembehIsland    \n",
       "[5,] 2011-4-3   FINPRINT BritishWestIndies-FloridaUpperKeys2\n",
       "[6,] 2011-5-29  FINPRINT CookIslands-NingalooWestExmouthGulf"
      ]
     },
     "metadata": {},
     "output_type": "display_data"
    }
   ],
   "source": [
    "# Create data frame of file name information\n",
    "poo = str_split_fixed(flist,'_',3)\n",
    "head(poo)"
   ]
  },
  {
   "cell_type": "code",
   "execution_count": 7,
   "metadata": {},
   "outputs": [
    {
     "data": {
      "text/html": [
       "<table>\n",
       "<thead><tr><th scope=col>date</th><th scope=col>project</th><th scope=col>info</th></tr></thead>\n",
       "<tbody>\n",
       "\t<tr><td>2011-10-29                         </td><td>FINPRINT                           </td><td>Indonesia-GloversReefWest          </td></tr>\n",
       "\t<tr><td>2011-3-1                           </td><td>FINPRINT                           </td><td>USAPacific-StEustatiusWest         </td></tr>\n",
       "\t<tr><td>2011-3-10                          </td><td>FINPRINT                           </td><td>Qatar-HoutmanAbrolhosNorthOpen     </td></tr>\n",
       "\t<tr><td>2011-3-19                          </td><td>FINPRINT                           </td><td>Tonga-NorthSulawesiLembehIsland    </td></tr>\n",
       "\t<tr><td>2011-4-3                           </td><td>FINPRINT                           </td><td>BritishWestIndies-FloridaUpperKeys2</td></tr>\n",
       "\t<tr><td>2011-5-29                          </td><td>FINPRINT                           </td><td>CookIslands-NingalooWestExmouthGulf</td></tr>\n",
       "</tbody>\n",
       "</table>\n"
      ],
      "text/latex": [
       "\\begin{tabular}{lll}\n",
       " date & project & info\\\\\n",
       "\\hline\n",
       "\t 2011-10-29                          & FINPRINT                            & Indonesia-GloversReefWest          \\\\\n",
       "\t 2011-3-1                            & FINPRINT                            & USAPacific-StEustatiusWest         \\\\\n",
       "\t 2011-3-10                           & FINPRINT                            & Qatar-HoutmanAbrolhosNorthOpen     \\\\\n",
       "\t 2011-3-19                           & FINPRINT                            & Tonga-NorthSulawesiLembehIsland    \\\\\n",
       "\t 2011-4-3                            & FINPRINT                            & BritishWestIndies-FloridaUpperKeys2\\\\\n",
       "\t 2011-5-29                           & FINPRINT                            & CookIslands-NingalooWestExmouthGulf\\\\\n",
       "\\end{tabular}\n"
      ],
      "text/markdown": [
       "\n",
       "date | project | info | \n",
       "|---|---|---|---|---|---|\n",
       "| 2011-10-29                          | FINPRINT                            | Indonesia-GloversReefWest           | \n",
       "| 2011-3-1                            | FINPRINT                            | USAPacific-StEustatiusWest          | \n",
       "| 2011-3-10                           | FINPRINT                            | Qatar-HoutmanAbrolhosNorthOpen      | \n",
       "| 2011-3-19                           | FINPRINT                            | Tonga-NorthSulawesiLembehIsland     | \n",
       "| 2011-4-3                            | FINPRINT                            | BritishWestIndies-FloridaUpperKeys2 | \n",
       "| 2011-5-29                           | FINPRINT                            | CookIslands-NingalooWestExmouthGulf | \n",
       "\n",
       "\n"
      ],
      "text/plain": [
       "     date       project  info                               \n",
       "[1,] 2011-10-29 FINPRINT Indonesia-GloversReefWest          \n",
       "[2,] 2011-3-1   FINPRINT USAPacific-StEustatiusWest         \n",
       "[3,] 2011-3-10  FINPRINT Qatar-HoutmanAbrolhosNorthOpen     \n",
       "[4,] 2011-3-19  FINPRINT Tonga-NorthSulawesiLembehIsland    \n",
       "[5,] 2011-4-3   FINPRINT BritishWestIndies-FloridaUpperKeys2\n",
       "[6,] 2011-5-29  FINPRINT CookIslands-NingalooWestExmouthGulf"
      ]
     },
     "metadata": {},
     "output_type": "display_data"
    }
   ],
   "source": [
    "# Give columns sensible names\n",
    "colnames(poo) = c('date','project','info')\n",
    "head(poo)"
   ]
  },
  {
   "cell_type": "code",
   "execution_count": 8,
   "metadata": {},
   "outputs": [
    {
     "data": {
      "text/html": [
       "<table>\n",
       "<tbody>\n",
       "\t<tr><td>Indonesia                             </td><td>GloversReefWest                       </td></tr>\n",
       "\t<tr><td>USAPacific                            </td><td>StEustatiusWest                       </td></tr>\n",
       "\t<tr><td>Qatar                                 </td><td>HoutmanAbrolhosNorthOpen              </td></tr>\n",
       "\t<tr><td>Tonga                                 </td><td>NorthSulawesiLembehIsland             </td></tr>\n",
       "\t<tr><td>BritishWestIndies                     </td><td>FloridaUpperKeys2                     </td></tr>\n",
       "\t<tr><td>CookIslands                           </td><td>NingalooWestExmouthGulf               </td></tr>\n",
       "\t<tr><td>USAPacific                            </td><td>PearlandHermesAtollPearlandHermesAtoll</td></tr>\n",
       "\t<tr><td>Qatar                                 </td><td>NingalooCloatesOpen                   </td></tr>\n",
       "\t<tr><td>Vietnam                               </td><td>ZairaAreaOpen                         </td></tr>\n",
       "\t<tr><td>Belize                                </td><td>SouthernKenyaMpungutiReserve          </td></tr>\n",
       "\t<tr><td>AustraliaPacific                      </td><td>OldProvidenceIslandOldProvidenceIsland</td></tr>\n",
       "\t<tr><td>Jamaica                               </td><td>CayeCaulkerCayeCaulkerLagoon          </td></tr>\n",
       "\t<tr><td>Qatar                                 </td><td>BuenHombreBuenHombreReef              </td></tr>\n",
       "\t<tr><td>Indonesia                             </td><td>NorthernTanzaniaTangaSouth            </td></tr>\n",
       "\t<tr><td>Bahamas                               </td><td>ScottReefNorth                        </td></tr>\n",
       "\t<tr><td>DominicanRepublic                     </td><td>TiomanEast                            </td></tr>\n",
       "\t<tr><td>USAWesternAtlantic                    </td><td>NingalooWinderabandiReserve           </td></tr>\n",
       "\t<tr><td>SriLanka                              </td><td>HoutmanAbrolhosEasterReserve          </td></tr>\n",
       "\t<tr><td>Kenya                                 </td><td>GuanahacabibesGuanahacabibesReef      </td></tr>\n",
       "\t<tr><td>Vanuatu                               </td><td>AbacoBightofOldRobinsonBay            </td></tr>\n",
       "\t<tr><td>TrinidadandTobago                     </td><td>PilbaraRosemaryIsland                 </td></tr>\n",
       "\t<tr><td>AmericanSamoa                         </td><td>NorthSumatraAcehIsland                </td></tr>\n",
       "\t<tr><td>AntiguaandBarbuda                     </td><td>NingalooPelicanReserve                </td></tr>\n",
       "\t<tr><td>Qatar                                 </td><td>StLuciaiSimangalisoWetlandParkNorth   </td></tr>\n",
       "\t<tr><td>NewCaledonia                          </td><td>KaviengKapalaman                      </td></tr>\n",
       "\t<tr><td>DutchCaribbean                        </td><td>LighthouseReefLighthouseHalfmoon      </td></tr>\n",
       "\t<tr><td>Vietnam                               </td><td>KermedecSouthMacauleyIsland           </td></tr>\n",
       "\t<tr><td>DutchCaribbean                        </td><td>PalauNorthKayangel                    </td></tr>\n",
       "\t<tr><td>Malaysia                              </td><td>WestCoastNetrani                      </td></tr>\n",
       "\t<tr><td>Vietnam                               </td><td>NinhThuanSouth                        </td></tr>\n",
       "\t<tr><td>India                                 </td><td>BiminiBiminiSouth                     </td></tr>\n",
       "\t<tr><td>AmericanSamoa                         </td><td>JamaicaOchoRios                       </td></tr>\n",
       "\t<tr><td>Jamaica                               </td><td>HoutmanAbrolhosWallabiOpen            </td></tr>\n",
       "\t<tr><td>Samoa                                 </td><td>ExumasNorth                           </td></tr>\n",
       "\t<tr><td>Seychelles                            </td><td>WestCoastTakarli                      </td></tr>\n",
       "\t<tr><td>Kenya                                 </td><td>KubulauNamenaOpen                     </td></tr>\n",
       "\t<tr><td>AmericanSamoa                         </td><td>LanaiLanaiSouth                       </td></tr>\n",
       "\t<tr><td>Mozambique                            </td><td>KubulauNamena                         </td></tr>\n",
       "\t<tr><td>USAWesternAtlantic                    </td><td>FernandodeNoronhaAPAArea              </td></tr>\n",
       "\t<tr><td>AustraliaPacific                      </td><td>MaupitiMaupiti1                       </td></tr>\n",
       "\t<tr><td>Niue                                  </td><td>GuamPati                              </td></tr>\n",
       "\t<tr><td>DominicanRepublic                     </td><td>LordHoweIslandLordHoweIsland          </td></tr>\n",
       "\t<tr><td>FederatedStatesofMicronesia           </td><td>StMaartenDutchFishing                 </td></tr>\n",
       "\t<tr><td>Mayotte                               </td><td>NorthNorthWest                        </td></tr>\n",
       "\t<tr><td>FrenchWestIndies                      </td><td>RaiateaRaiatea1                       </td></tr>\n",
       "\t<tr><td>FrenchWestIndies                      </td><td>BarbadosNortheast                     </td></tr>\n",
       "\t<tr><td>TrinidadandTobago                     </td><td>CayeCaulkerCayeCaulker                </td></tr>\n",
       "\t<tr><td>SouthAfrica                           </td><td>CobourgPeninsulaOffshoreReef          </td></tr>\n",
       "\t<tr><td>Mozambique                            </td><td>GuadeloupeGrandeculdeSac              </td></tr>\n",
       "\t<tr><td>Seychelles                            </td><td>SouthernKenyaWatamu                   </td></tr>\n",
       "\t<tr><td>Barbados                              </td><td>CentralMozambiqueNorthBazarutoReef    </td></tr>\n",
       "\t<tr><td>Fiji                                  </td><td>Cocos-KeelingHomeIsland               </td></tr>\n",
       "</tbody>\n",
       "</table>\n"
      ],
      "text/latex": [
       "\\begin{tabular}{ll}\n",
       "\t Indonesia                              & GloversReefWest                       \\\\\n",
       "\t USAPacific                             & StEustatiusWest                       \\\\\n",
       "\t Qatar                                  & HoutmanAbrolhosNorthOpen              \\\\\n",
       "\t Tonga                                  & NorthSulawesiLembehIsland             \\\\\n",
       "\t BritishWestIndies                      & FloridaUpperKeys2                     \\\\\n",
       "\t CookIslands                            & NingalooWestExmouthGulf               \\\\\n",
       "\t USAPacific                             & PearlandHermesAtollPearlandHermesAtoll\\\\\n",
       "\t Qatar                                  & NingalooCloatesOpen                   \\\\\n",
       "\t Vietnam                                & ZairaAreaOpen                         \\\\\n",
       "\t Belize                                 & SouthernKenyaMpungutiReserve          \\\\\n",
       "\t AustraliaPacific                       & OldProvidenceIslandOldProvidenceIsland\\\\\n",
       "\t Jamaica                                & CayeCaulkerCayeCaulkerLagoon          \\\\\n",
       "\t Qatar                                  & BuenHombreBuenHombreReef              \\\\\n",
       "\t Indonesia                              & NorthernTanzaniaTangaSouth            \\\\\n",
       "\t Bahamas                                & ScottReefNorth                        \\\\\n",
       "\t DominicanRepublic                      & TiomanEast                            \\\\\n",
       "\t USAWesternAtlantic                     & NingalooWinderabandiReserve           \\\\\n",
       "\t SriLanka                               & HoutmanAbrolhosEasterReserve          \\\\\n",
       "\t Kenya                                  & GuanahacabibesGuanahacabibesReef      \\\\\n",
       "\t Vanuatu                                & AbacoBightofOldRobinsonBay            \\\\\n",
       "\t TrinidadandTobago                      & PilbaraRosemaryIsland                 \\\\\n",
       "\t AmericanSamoa                          & NorthSumatraAcehIsland                \\\\\n",
       "\t AntiguaandBarbuda                      & NingalooPelicanReserve                \\\\\n",
       "\t Qatar                                  & StLuciaiSimangalisoWetlandParkNorth   \\\\\n",
       "\t NewCaledonia                           & KaviengKapalaman                      \\\\\n",
       "\t DutchCaribbean                         & LighthouseReefLighthouseHalfmoon      \\\\\n",
       "\t Vietnam                                & KermedecSouthMacauleyIsland           \\\\\n",
       "\t DutchCaribbean                         & PalauNorthKayangel                    \\\\\n",
       "\t Malaysia                               & WestCoastNetrani                      \\\\\n",
       "\t Vietnam                                & NinhThuanSouth                        \\\\\n",
       "\t India                                  & BiminiBiminiSouth                     \\\\\n",
       "\t AmericanSamoa                          & JamaicaOchoRios                       \\\\\n",
       "\t Jamaica                                & HoutmanAbrolhosWallabiOpen            \\\\\n",
       "\t Samoa                                  & ExumasNorth                           \\\\\n",
       "\t Seychelles                             & WestCoastTakarli                      \\\\\n",
       "\t Kenya                                  & KubulauNamenaOpen                     \\\\\n",
       "\t AmericanSamoa                          & LanaiLanaiSouth                       \\\\\n",
       "\t Mozambique                             & KubulauNamena                         \\\\\n",
       "\t USAWesternAtlantic                     & FernandodeNoronhaAPAArea              \\\\\n",
       "\t AustraliaPacific                       & MaupitiMaupiti1                       \\\\\n",
       "\t Niue                                   & GuamPati                              \\\\\n",
       "\t DominicanRepublic                      & LordHoweIslandLordHoweIsland          \\\\\n",
       "\t FederatedStatesofMicronesia            & StMaartenDutchFishing                 \\\\\n",
       "\t Mayotte                                & NorthNorthWest                        \\\\\n",
       "\t FrenchWestIndies                       & RaiateaRaiatea1                       \\\\\n",
       "\t FrenchWestIndies                       & BarbadosNortheast                     \\\\\n",
       "\t TrinidadandTobago                      & CayeCaulkerCayeCaulker                \\\\\n",
       "\t SouthAfrica                            & CobourgPeninsulaOffshoreReef          \\\\\n",
       "\t Mozambique                             & GuadeloupeGrandeculdeSac              \\\\\n",
       "\t Seychelles                             & SouthernKenyaWatamu                   \\\\\n",
       "\t Barbados                               & CentralMozambiqueNorthBazarutoReef    \\\\\n",
       "\t Fiji                                   & Cocos-KeelingHomeIsland               \\\\\n",
       "\\end{tabular}\n"
      ],
      "text/markdown": [
       "\n",
       "| Indonesia                              | GloversReefWest                        | \n",
       "| USAPacific                             | StEustatiusWest                        | \n",
       "| Qatar                                  | HoutmanAbrolhosNorthOpen               | \n",
       "| Tonga                                  | NorthSulawesiLembehIsland              | \n",
       "| BritishWestIndies                      | FloridaUpperKeys2                      | \n",
       "| CookIslands                            | NingalooWestExmouthGulf                | \n",
       "| USAPacific                             | PearlandHermesAtollPearlandHermesAtoll | \n",
       "| Qatar                                  | NingalooCloatesOpen                    | \n",
       "| Vietnam                                | ZairaAreaOpen                          | \n",
       "| Belize                                 | SouthernKenyaMpungutiReserve           | \n",
       "| AustraliaPacific                       | OldProvidenceIslandOldProvidenceIsland | \n",
       "| Jamaica                                | CayeCaulkerCayeCaulkerLagoon           | \n",
       "| Qatar                                  | BuenHombreBuenHombreReef               | \n",
       "| Indonesia                              | NorthernTanzaniaTangaSouth             | \n",
       "| Bahamas                                | ScottReefNorth                         | \n",
       "| DominicanRepublic                      | TiomanEast                             | \n",
       "| USAWesternAtlantic                     | NingalooWinderabandiReserve            | \n",
       "| SriLanka                               | HoutmanAbrolhosEasterReserve           | \n",
       "| Kenya                                  | GuanahacabibesGuanahacabibesReef       | \n",
       "| Vanuatu                                | AbacoBightofOldRobinsonBay             | \n",
       "| TrinidadandTobago                      | PilbaraRosemaryIsland                  | \n",
       "| AmericanSamoa                          | NorthSumatraAcehIsland                 | \n",
       "| AntiguaandBarbuda                      | NingalooPelicanReserve                 | \n",
       "| Qatar                                  | StLuciaiSimangalisoWetlandParkNorth    | \n",
       "| NewCaledonia                           | KaviengKapalaman                       | \n",
       "| DutchCaribbean                         | LighthouseReefLighthouseHalfmoon       | \n",
       "| Vietnam                                | KermedecSouthMacauleyIsland            | \n",
       "| DutchCaribbean                         | PalauNorthKayangel                     | \n",
       "| Malaysia                               | WestCoastNetrani                       | \n",
       "| Vietnam                                | NinhThuanSouth                         | \n",
       "| India                                  | BiminiBiminiSouth                      | \n",
       "| AmericanSamoa                          | JamaicaOchoRios                        | \n",
       "| Jamaica                                | HoutmanAbrolhosWallabiOpen             | \n",
       "| Samoa                                  | ExumasNorth                            | \n",
       "| Seychelles                             | WestCoastTakarli                       | \n",
       "| Kenya                                  | KubulauNamenaOpen                      | \n",
       "| AmericanSamoa                          | LanaiLanaiSouth                        | \n",
       "| Mozambique                             | KubulauNamena                          | \n",
       "| USAWesternAtlantic                     | FernandodeNoronhaAPAArea               | \n",
       "| AustraliaPacific                       | MaupitiMaupiti1                        | \n",
       "| Niue                                   | GuamPati                               | \n",
       "| DominicanRepublic                      | LordHoweIslandLordHoweIsland           | \n",
       "| FederatedStatesofMicronesia            | StMaartenDutchFishing                  | \n",
       "| Mayotte                                | NorthNorthWest                         | \n",
       "| FrenchWestIndies                       | RaiateaRaiatea1                        | \n",
       "| FrenchWestIndies                       | BarbadosNortheast                      | \n",
       "| TrinidadandTobago                      | CayeCaulkerCayeCaulker                 | \n",
       "| SouthAfrica                            | CobourgPeninsulaOffshoreReef           | \n",
       "| Mozambique                             | GuadeloupeGrandeculdeSac               | \n",
       "| Seychelles                             | SouthernKenyaWatamu                    | \n",
       "| Barbados                               | CentralMozambiqueNorthBazarutoReef     | \n",
       "| Fiji                                   | Cocos-KeelingHomeIsland                | \n",
       "\n",
       "\n"
      ],
      "text/plain": [
       "      [,1]                        [,2]                                  \n",
       " [1,] Indonesia                   GloversReefWest                       \n",
       " [2,] USAPacific                  StEustatiusWest                       \n",
       " [3,] Qatar                       HoutmanAbrolhosNorthOpen              \n",
       " [4,] Tonga                       NorthSulawesiLembehIsland             \n",
       " [5,] BritishWestIndies           FloridaUpperKeys2                     \n",
       " [6,] CookIslands                 NingalooWestExmouthGulf               \n",
       " [7,] USAPacific                  PearlandHermesAtollPearlandHermesAtoll\n",
       " [8,] Qatar                       NingalooCloatesOpen                   \n",
       " [9,] Vietnam                     ZairaAreaOpen                         \n",
       "[10,] Belize                      SouthernKenyaMpungutiReserve          \n",
       "[11,] AustraliaPacific            OldProvidenceIslandOldProvidenceIsland\n",
       "[12,] Jamaica                     CayeCaulkerCayeCaulkerLagoon          \n",
       "[13,] Qatar                       BuenHombreBuenHombreReef              \n",
       "[14,] Indonesia                   NorthernTanzaniaTangaSouth            \n",
       "[15,] Bahamas                     ScottReefNorth                        \n",
       "[16,] DominicanRepublic           TiomanEast                            \n",
       "[17,] USAWesternAtlantic          NingalooWinderabandiReserve           \n",
       "[18,] SriLanka                    HoutmanAbrolhosEasterReserve          \n",
       "[19,] Kenya                       GuanahacabibesGuanahacabibesReef      \n",
       "[20,] Vanuatu                     AbacoBightofOldRobinsonBay            \n",
       "[21,] TrinidadandTobago           PilbaraRosemaryIsland                 \n",
       "[22,] AmericanSamoa               NorthSumatraAcehIsland                \n",
       "[23,] AntiguaandBarbuda           NingalooPelicanReserve                \n",
       "[24,] Qatar                       StLuciaiSimangalisoWetlandParkNorth   \n",
       "[25,] NewCaledonia                KaviengKapalaman                      \n",
       "[26,] DutchCaribbean              LighthouseReefLighthouseHalfmoon      \n",
       "[27,] Vietnam                     KermedecSouthMacauleyIsland           \n",
       "[28,] DutchCaribbean              PalauNorthKayangel                    \n",
       "[29,] Malaysia                    WestCoastNetrani                      \n",
       "[30,] Vietnam                     NinhThuanSouth                        \n",
       "[31,] India                       BiminiBiminiSouth                     \n",
       "[32,] AmericanSamoa               JamaicaOchoRios                       \n",
       "[33,] Jamaica                     HoutmanAbrolhosWallabiOpen            \n",
       "[34,] Samoa                       ExumasNorth                           \n",
       "[35,] Seychelles                  WestCoastTakarli                      \n",
       "[36,] Kenya                       KubulauNamenaOpen                     \n",
       "[37,] AmericanSamoa               LanaiLanaiSouth                       \n",
       "[38,] Mozambique                  KubulauNamena                         \n",
       "[39,] USAWesternAtlantic          FernandodeNoronhaAPAArea              \n",
       "[40,] AustraliaPacific            MaupitiMaupiti1                       \n",
       "[41,] Niue                        GuamPati                              \n",
       "[42,] DominicanRepublic           LordHoweIslandLordHoweIsland          \n",
       "[43,] FederatedStatesofMicronesia StMaartenDutchFishing                 \n",
       "[44,] Mayotte                     NorthNorthWest                        \n",
       "[45,] FrenchWestIndies            RaiateaRaiatea1                       \n",
       "[46,] FrenchWestIndies            BarbadosNortheast                     \n",
       "[47,] TrinidadandTobago           CayeCaulkerCayeCaulker                \n",
       "[48,] SouthAfrica                 CobourgPeninsulaOffshoreReef          \n",
       "[49,] Mozambique                  GuadeloupeGrandeculdeSac              \n",
       "[50,] Seychelles                  SouthernKenyaWatamu                   \n",
       "[51,] Barbados                    CentralMozambiqueNorthBazarutoReef    \n",
       "[52,] Fiji                        Cocos-KeelingHomeIsland               "
      ]
     },
     "metadata": {},
     "output_type": "display_data"
    }
   ],
   "source": [
    "# Split info column into useful bits\n",
    "out = str_split_fixed(poo[,3],'-',2)\n",
    "out"
   ]
  },
  {
   "cell_type": "code",
   "execution_count": 9,
   "metadata": {},
   "outputs": [
    {
     "data": {
      "text/html": [
       "33"
      ],
      "text/latex": [
       "33"
      ],
      "text/markdown": [
       "33"
      ],
      "text/plain": [
       "[1] 33"
      ]
     },
     "metadata": {},
     "output_type": "display_data"
    }
   ],
   "source": [
    "# How many unique countries?\n",
    "length(unique(out[,1]))"
   ]
  },
  {
   "cell_type": "markdown",
   "metadata": {},
   "source": [
    "Machine readable means it is:\n",
    "\n",
    "    1. Easy to search for files later\n",
    "    2. Easy to narrow down list of file names\n",
    "    3. Easy to extract information by splitting\n"
   ]
  },
  {
   "cell_type": "markdown",
   "metadata": {},
   "source": [
    "---\n",
    "# Task 4\n",
    "---\n",
    "\n",
    "Using the code above and your intiution, figure out how many unique reefs were sampled in the `SERF` project and store the number in an object called `nReefs`."
   ]
  },
  {
   "cell_type": "code",
   "execution_count": null,
   "metadata": {
    "collapsed": true
   },
   "outputs": [],
   "source": [
    "# YOUR CODE HERE\n"
   ]
  },
  {
   "cell_type": "markdown",
   "metadata": {
    "collapsed": true
   },
   "source": [
    "### Human readability\n",
    "\n",
    "\n",
    "By naming things well, your ability to find a specific file later goes way, way up.\n",
    "\n",
    "For example, if we want search through a load of files from years ago, there is a big difference in encountering:\n",
    "\n",
    "```\n",
    "first_attempt.r\n",
    "goodone.r\n",
    "meh.r\n",
    "goodone41.r\n",
    "goodone42.r\n",
    "goodone43.r\n",
    "goodone424.r\n",
    "```\n",
    "\n",
    "versus\n",
    "\n",
    "```\n",
    "B1_basic_analysis.r\n",
    "B2_added_hierarchy.r\n",
    "B3_added_hierarchy_and_covariates.r\n",
    "B4_full_Bayesian.r\n",
    "B5_full_Frequentist.r\n",
    "```\n",
    "\n",
    "Naming things well means it is **easy to figure out what something is based on its name**."
   ]
  },
  {
   "cell_type": "markdown",
   "metadata": {},
   "source": [
    "### Plays well with default ordering\n",
    "\n",
    "Default ordering is the way in which files listed in a directory will look when you look at them. This order uses underscores first, then by the first number, then alphabetically. So if you want a specific file to always be at the top of your directory, you can use an underscore:\n",
    "\n",
    "![](fileorder.png)\n",
    "\n",
    "Clearly gift ideas are problematic for me, so I have prioritized them."
   ]
  },
  {
   "cell_type": "markdown",
   "metadata": {},
   "source": [
    "Bryan suggests a few key points:\n",
    "\n",
    "\n",
    "    1. Put something numeric first\n",
    "    2. Use YYYY-MM-DD for dates\n",
    "    3. Use leading zeros\n",
    "\n",
    "\n",
    "1 & 2 help keep things in logical order, either by date or the order you want them in. 3 just means that numbers between 1 and 10 will not fall in the correct order unless they have a leading zero. For example\n",
    "\n",
    "```\n",
    "10_final_figures.R\n",
    "1_initial_data_wrangling.R\n",
    "2_model_fitting.R\n",
    "...\n",
    "\n",
    "```\n",
    "\n",
    "Isn't the behaviour we expected. Far more logical is\n",
    "\n",
    "```\n",
    "01_initial_data_wrangling.R\n",
    "02_model_fitting.R\n",
    "...\n",
    "10_final_figures.R\n",
    "\n",
    "```\n"
   ]
  },
  {
   "cell_type": "markdown",
   "metadata": {},
   "source": [
    "## R-object names"
   ]
  },
  {
   "cell_type": "markdown",
   "metadata": {},
   "source": [
    "Naming conventions for r-objects are much the same as for other files, and there are many potential styles to use. The choice is really up to you, but a few common choices [from Bååth](https://journal.r-project.org/archive/2012-2/RJournal_2012-2_Baaaath.pdf) are:\n",
    "\n",
    "**alllowercase** - All letters are lower case and no separator is used in names consisting of multiple words as in searchpaths or srcfilecopy. This naming convention is common in MATLAB. Note that a single lowercase name, such as mean, conforms to all conventions but UpperCamelCase.\n",
    "\n",
    "**period.separated** - All letters are lower case and multiple words are separated by a period. This naming convention *is unique to R* (so avoid it) and used in many core functions such as as.numeric or read.table. \n",
    "\n",
    "**underscore_separated** - All letters are lower case and multiple words are separated by an underscore as in seq_along or package_version. This naming convention is used for function and variable names in many languages including C++, Perl and Ruby.\n",
    "\n",
    "**lowerCamelCase** - Single word names consist of lower case letters and in names consisting of more than one word all, except the first word, are capitalized as in colMeans or suppressPackageStartupMessage. This naming convention is used, for example, for method names in Java and JavaScript.\n",
    "\n",
    "**UpperCamelCase** - All words are capitalized both when the name consists of a single word, as in Vectorize, or multiple words, as in NextMethod. This naming convention is used for class names in many languages including Java, Python and JavaScript.\n",
    "\n",
    "Take your pick, but keep it informative."
   ]
  },
  {
   "cell_type": "markdown",
   "metadata": {},
   "source": [
    "# CAPITalIZation!!!\n",
    "\n",
    "**If you learn one thing in this course, know that uppercase and lowercase letters are not the same thing to a computer.**"
   ]
  },
  {
   "cell_type": "markdown",
   "metadata": {},
   "source": [
    "---\n",
    "# Excel from hell\n",
    "---"
   ]
  },
  {
   "cell_type": "markdown",
   "metadata": {},
   "source": [
    "Among the most significant and worst inventions in personal computing has been the spreadsheet - a computer-displayed version of a traditional ledger that has become the fundamental unit of data storage for most working scientists. The most popular version of this program is [Microsoft Excel](), a bloated whale of a program that, due to the ease with which errors can propagate through formula-ridden files, has possibly created more problems than it solves. An example from the [European Spreadsheet Risks Interest Group](http://www.eusprig.org/horror-stories.htm) illustrates the problem:\n",
    "\n",
    "> A \\$331,074 Excel spreadsheet calculation error was made on a sheriff’s operations salary worksheet during the annual budget cycle last fall, commissioners learned Monday. A \\$163,083 spreadsheet error was made on a sheriff’s jail salary worksheet, officials said. “We did some forensics,” Benedict said Wednesday. “The spreadsheets were emailed back and forth between us and [County Administrator] Jim Jones’ office. Because of some cutting and pasting, not all the formulas were pasted correctly. It was an unintended error.”\n",
    "\n",
    "This kind of thing is so serious that one department at University of Leipzig Richard does this: https://twitter.com/rlmcelreath/status/1174240592253075457?s=20\n",
    "\n",
    "This problem reflects a fundamental problem with Excel, which is that raw data and calculations on the data are conducted in the same file - **without recording how changes are made**. This means that once one person alters the contents of a file, perhaps innocentlly, the original data can never be recovered. Therefore a key tennant of scientific research is that **raw data must be stored in a database or flat file** that can be subsequenty used for analysis, independnt from the analysis itself. In other words, [**Rule 3: Keep Raw Data Raw**](http://journals.plos.org/ploscompbiol/article?id=10.1371/journal.pcbi.1005097#sec004)."
   ]
  },
  {
   "cell_type": "markdown",
   "metadata": {},
   "source": [
    "Excel is so awful for data-storage that U Winipeg researchers identified [9 Circles of Excel Hell](https://www.uwinnipeg.ca/w3/docs/nine-circles-of-excel-hell.pdf), the most important of which are:\n",
    "\n",
    "1. **Oops** - it's too easy for people to delete rows and cells and break formulas and links\n",
    "2. **Crush** - it is far too difficult to reconcile spreadsheets originating from different people\n",
    "3. **Brain drain** - consolidating spreadsheets is purgatory for data analysts\n",
    "8. **Whodunit** - it is impossible to track changes and know who has done what\n",
    "\n",
    "Truly frightening is that most of the Excel mistakes that have been found have been due to their being finanical in nature - meaning people ouside of those handling the data are highly motivated for it to be done right. Unless we've cured cancer, almost no one will look at our biological data once it is published - including ourselves - making it all the more likely that careless or accidental errors will never be caught!"
   ]
  },
  {
   "cell_type": "markdown",
   "metadata": {
    "collapsed": true
   },
   "source": [
    "## BUT"
   ]
  },
  {
   "cell_type": "markdown",
   "metadata": {
    "collapsed": true
   },
   "source": [
    "Excel is also the most common way in which biologists enter and store data, so it is important to become familiar with how it works."
   ]
  },
  {
   "cell_type": "markdown",
   "metadata": {},
   "source": [
    "---\n",
    "# Tidyverse\n",
    "---"
   ]
  },
  {
   "cell_type": "markdown",
   "metadata": {},
   "source": [
    "Ideas around reproducible research have greatly increased the rate at which we can learn (i.e. copy) from what others have done and apply new methods to our own research. While publications convey a clean narrative about what has been done in terms of data collection and analysis, the reality of doing data-focused research is that **most of the time is spent cleaning data**. This ugly (and tedious) reality is a difficult pill to swallow if you're not a patient person who will continue to work at a tedious task until it is done (in which case, science might not be for you...).\n",
    "\n",
    "While many biologists learned through painful effort the importance of storing data in a clean way for use in programming languages, R statistican and allround genius [Hadley Wickham](http://hadley.nz) formalized these lessons in a 2014 paper, [Tidy Data](http://www.jstatsoft.org/v59/i10/paper). Here he outlined the principles of tidy data, to provide a standard way to organize data values within a dataset:\n",
    "\n",
    "1. Each variable forms a column.\n",
    "2. Each observation forms a row.\n",
    "3. Each type of observational unit forms a table.\n",
    "\n",
    "These seem simple, but as you will see in your first assignment, biologists frequently fail to do this, causing no end of pain. So what do they mean?\n",
    "\n",
    "\n",
    "NB2019: Ordering doesn't and shouldn't matter!"
   ]
  },
  {
   "cell_type": "markdown",
   "metadata": {},
   "source": [
    "### 1. Each variable forms a column.\n",
    "\n",
    "In collecting data there are two distinct classes of observation, the response - which is the thing(s) you set out to measure, your variable(s) of interest - and the covariates - which are the associated measurements that will either explain, or potentially bias, your results. *Response variables* are also called observations, independent variables, and y-values (a lack of common nomenclature is one of modelling's greatest difficulties). *Covariates* are also called factors, dependent variables, x-values etc, adding to the confusion. \n",
    "\n",
    "To have a tidy data, each measured thing - covariates and responses - gets it's own column. "
   ]
  },
  {
   "cell_type": "markdown",
   "metadata": {
    "collapsed": true
   },
   "source": [
    "### 2. Each observation forms a row. (!!!!!!!)\n",
    "\n",
    "In statistics, [an observation is the value, at a particular period, of a particular variable](https://stats.oecd.org/glossary/detail.asp?ID=6132), and this definition holds for most scientific data. The tidy data definition also implies that an observation includes not only the value observed, but also the values of covariates that relate to the observation at the time of the observation. In storing data it is crtical that each unique observation get its own row because failure to do so introduces additional, uncnessary steps in an analysis that can (do) lead to frequent errors. \n",
    "\n",
    "For example, storing data like this:\n",
    "\n",
    "| Row        | a | b | c |\n",
    "| ------------- |:-------------:|:-------------:|:-------------:|\n",
    "| A | 1 | 4 | 7 |\n",
    "| B | 2 | 5 | 8 |\n",
    "| C | 3 | 6 | 9 |\n",
    "\n",
    "embeds the observations (the numbers) within a table that makes the very hard to use. One would have to row/column index everything to make it useable in a programming language. Alternatively, \n",
    "\n",
    "| Row        | Column | Value |\n",
    "| ------------- |:-------------:|:-------------:|\n",
    "| A | a | 1 |\n",
    "| B | a | 2 |\n",
    "| C | a | 3 |\n",
    "| A | b | 4 |\n",
    "| B | b | 5 |\n",
    "| C | b | 6 |\n",
    "| A | c | 7 |\n",
    "| B | c | 8 |\n",
    "| C | c | 9 |\n",
    "\n",
    "provides the data in an easily-readable way, one that can immediately be put into an DataFrame for anaylsis.\n"
   ]
  },
  {
   "cell_type": "markdown",
   "metadata": {
    "collapsed": true
   },
   "source": [
    "### 3. Each type of observational unit forms a table*.\n",
    "\n",
    "Often data are collected at multiple scales, on different kinds of observational units - tidy data promotes storing each fact only in one place. For example:\n",
    "\n",
    "| Track        | Artist | Date | Rank |\n",
    "| ------------- |:-------------:|:-------------:|:-------------:|\n",
    "| Baby don't cry | 2 Pac | 2000-02-26 | 87 |\n",
    "| Baby don't cry | 2 Pac | 2000-03-04 | 82 |\n",
    "| Baby don't cry | 2 Pac | 2000-03-11 | 72 |\n",
    "| Baby don't cry | 2 Pac | 2000-03-25 | 77 |\n",
    "| Everything in its right place | Radiohead | 2000-04-01 | 8 |\n",
    "| Everything in its right place | Radiohead | 2000-04-08 | 9 |\n",
    "| Everything in its right place | Radiohead | 2000-04-15 | 7 |\n",
    "| Everything in its right place | Radiohead | 2000-04-22 | 11 |\n",
    "| Everything in its right place | Radiohead | 2000-04-29 | 15 |\n",
    "\n",
    "repeats a lot of information. The *tidy* version of this would be two tables:\n",
    "\n",
    "| ID | Artist | Track |\n",
    "| ------------- |:-------------:|:-------------:|\n",
    "| 1 | 2 Pac | Baby don't cry |\n",
    "| 2 | Radiohead | Everything in its right place |\n",
    "\n",
    "| ID | Date | Rank |\n",
    "| ------------- |:-------------:|:-------------:|\n",
    "| 1 | 2000-02-26 | 87 |\n",
    "| 1 | 2000-03-04 | 82 |\n",
    "| 1 | 2000-03-11 | 72 |\n",
    "| 1 | 2000-03-25 | 77 |\n",
    "| 2 | 2000-04-01 | 8 |\n",
    "| 2 | 2000-04-08 | 9 |\n",
    "| 2 | 2000-04-15 | 7 |\n",
    "| 2 | 2000-04-22 | 11 |\n",
    "| 2 | 2000-04-29 | 15 |\n",
    "\n",
    "*However in practice, we typically want to create the repetitive table out of the other kinds of tables so there may be times to store data as a single flat file\n"
   ]
  },
  {
   "cell_type": "markdown",
   "metadata": {},
   "source": [
    "---\n",
    "# Task 5\n",
    "---\n",
    "\n",
    "Using markdown code (double-click the example cells to see what that looks like), make tidy data out of the following information:\n",
    "\n",
    "| Player        | Team | Game 1 | Game 2 | Game 3 | Game 4 |\n",
    "| ------------- |:-------------:|:-------------:|:-------------:|:-------------:|:-------------:|\n",
    "| Giancarlo Stanton | MIA | 3/4 | 1/4 | 2/5 | 3/4 |\n",
    "| Aaron Judge | NYY | 2/4 | 3/6 | 1/4 | 4/4 |\n",
    "| J.D. Martinez | TOT | 0/4 | 3/4 | 3/6 | 4/4 |\n",
    "| Khris Davis | OAK | 4/4 | 2/4 | 4/5 | 2/5 |\n",
    "| Joey Gallo | TEX | 3/4 | 1/5 | 2/4 | 3/4 |\n",
    "| Nelson Cruz | SEA | 3/4 | 1/4 | 3/4 | 3/4 |\n",
    "| Edwin Encarnacion | CLE | 2/5 | 1/6 | 3/5 | 3/3 |\n",
    "| Logan Morrison | TBR | 3/4 | 1/4 | 2/5 | 1/4 |\n",
    "| Justin Smoak | TOR | 2/4 | 1/4 | 3/3 | 1/4 |"
   ]
  },
  {
   "cell_type": "code",
   "execution_count": null,
   "metadata": {
    "collapsed": true
   },
   "outputs": [],
   "source": [
    "# Your code here\n"
   ]
  },
  {
   "cell_type": "markdown",
   "metadata": {},
   "source": [
    "# What have you learned and what's next?\n",
    "\n",
    "The point of today's lab was to figure out where and how to store data\n",
    "\n",
    "**You should at this point be comfortable:**\n",
    " 1. Uploading code to GitHub\n",
    " 2. Naming things\n",
    " 3. Not using Excel\n",
    " 4. Keeping things tidy\n",
    "\n",
    "Next week we will delve into data wrangling, the grist upon which analyses are made."
   ]
  },
  {
   "cell_type": "markdown",
   "metadata": {
    "collapsed": true
   },
   "source": [
    "## ALSO\n",
    "\n",
    "Wickahm has subsequently written an [R for Data Science](http://r4ds.had.co.nz) book, that you should delve into if you're serious about using R effectively. \n",
    "\n",
    "You should also keep on hand the Hart *et al.* paper [Ten Simple Rules for Data Storage](http://journals.plos.org/ploscompbiol/article?id=10.1371/journal.pcbi.1005097) when you start to go about storing data from a project.\n",
    "\n",
    "---\n",
    "# ** A bientôt ** !"
   ]
  }
 ],
 "metadata": {
  "kernelspec": {
   "display_name": "R",
   "language": "R",
   "name": "ir"
  },
  "language_info": {
   "codemirror_mode": "r",
   "file_extension": ".r",
   "mimetype": "text/x-r-source",
   "name": "R",
   "pygments_lexer": "r",
   "version": "3.4.1"
  }
 },
 "nbformat": 4,
 "nbformat_minor": 2
}
