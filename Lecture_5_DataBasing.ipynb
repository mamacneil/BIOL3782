{
 "cells": [
  {
   "cell_type": "markdown",
   "metadata": {
    "collapsed": true
   },
   "source": [
    "# Lecture 5 - Databasin'"
   ]
  },
  {
   "cell_type": "markdown",
   "metadata": {},
   "source": [
    "## What is a database?\n",
    "A database is a collection of information organised for secure storage and efficient retrieval.  They are especially useful for storing large and complex datasets.    \n",
    "\n",
    "A flat file database stores all its information in a single table.  A relational database stores data as a collection of tables, each a distinct 'unit' of information.  This greatly increases the complexity of information a database is capable of storing, as well as the efficiency of storing it.  Tables are connected to each other using common variables, or 'keys'. When designed properly, database tables will follow the conventions of the tidyverse (from Lecture 3)"
   ]
  },
  {
   "cell_type": "markdown",
   "metadata": {},
   "source": [
    "Saving data as a flat file wastes space by repeating information, and also make it difficult to update information because it exists in multiple places.  The problems are exacerbated the larger your database gets.  \n",
    "\n",
    "The database below contains observations of sharks recorded during a series of reef surveys on different islands in the Bahamas.  Imagine updating a species name, or changing the visibility for one of the surveys.  "
   ]
  },
  {
   "cell_type": "code",
   "execution_count": null,
   "metadata": {},
   "outputs": [],
   "source": [
    "flat_file <- read.csv('flat_file.csv')\n",
    "flat_file[1:20,]"
   ]
  },
  {
   "cell_type": "markdown",
   "metadata": {},
   "source": [
    "When the above flat file is translated into relational tables, it looks like this..."
   ]
  },
  {
   "cell_type": "code",
   "execution_count": null,
   "metadata": {},
   "outputs": [],
   "source": [
    "#call all database tables and read them into the global environment\n",
    "db_tables <- c(\"surveys.csv\", \"species.csv\", \"observations.csv\", \"sites.csv\")                                   \n",
    "list2env(lapply(setNames(db_tables, make.names(gsub(\"*.csv$\", \"\", db_tables))), read.csv), envir = .GlobalEnv)\n",
    "#take a look at each table\n",
    "head(sites)\n",
    "head(surveys)\n",
    "head(observations)\n",
    "head(species)"
   ]
  },
  {
   "cell_type": "markdown",
   "metadata": {},
   "source": [
    "## Entity Relationship Diagrams\n",
    "\n",
    "Databases are great for storing large and complex datasets, but they are difficult to read or see how they are organised. It's not always clear how the tables are connected or what information goes in each table. This is where database diagrams come in (the technical name for this is Entity Relationship Diagram or ERD). They are a really important tool for anybody building or querying a database. "
   ]
  },
  {
   "cell_type": "markdown",
   "metadata": {},
   "source": [
    "ERD showing relational database tables\n",
    "<img src=\"ERD.png\">\n"
   ]
  },
  {
   "cell_type": "markdown",
   "metadata": {},
   "source": [
    "Relational databases are good for storing large and complex datasets. They are not usually 'built' in R, but rather in Python, SQL or Access BUT R is an excellence tool for querying databases. As a researcher you are more likely to spend time getting data out of databases rather than building them.  Knowing how to extract and visualise data from a database so that other humans can see what's in it is a very useful skill"
   ]
  },
  {
   "cell_type": "markdown",
   "metadata": {},
   "source": [
    "#### Additional Resources about Databases\n",
    "Intro to relational databases: https://www.youtube.com/watch?v=wR0jg0eQsZA  \n",
    "Database management systems http://nbviewer.jupyter.org/github/fonnesbeck/Bios366/blob/master/notebooks/Section8_2-Database-Programming.ipynb\n",
    "Entity Relationship Diagrams  https://www.youtube.com/watch?v=QpdhBUYk7Kk"
   ]
  },
  {
   "cell_type": "markdown",
   "metadata": {
    "collapsed": true
   },
   "source": [
    "## DPLYR"
   ]
  },
  {
   "cell_type": "markdown",
   "metadata": {},
   "source": [
    "### aka the best R package ever\n",
    "\n",
    "dplyr will allow you to manipulate data any way you please, all with a few simple functions.  "
   ]
  },
  {
   "cell_type": "code",
   "execution_count": null,
   "metadata": {},
   "outputs": [],
   "source": [
    "#install.packages(\"dplyr\")\n",
    "library(dplyr)"
   ]
  },
  {
   "cell_type": "markdown",
   "metadata": {},
   "source": [
    "### Select\n",
    "\n",
    "The SELECT function lets you choose columns from a dataframe"
   ]
  },
  {
   "cell_type": "code",
   "execution_count": null,
   "metadata": {},
   "outputs": [],
   "source": [
    "#select survey id and depth from the survey table\n",
    "tmp <- select(surveys, id, depth)\n",
    "head(tmp)"
   ]
  },
  {
   "cell_type": "markdown",
   "metadata": {},
   "source": [
    "### Filter\n",
    "\n",
    "The FILTER function lets you choose rows in a dataframe"
   ]
  },
  {
   "cell_type": "code",
   "execution_count": null,
   "metadata": {},
   "outputs": [],
   "source": [
    "#find all the survey sights which are in Bimini (site 2)\n",
    "filter(surveys, site_id==2)\n",
    "\n",
    "#find all survey sights which are in Bimini and have a visibility value of 8\n",
    "filter(surveys, site_id==2, visibility==8)"
   ]
  },
  {
   "cell_type": "markdown",
   "metadata": {},
   "source": [
    "---\n",
    "## Task 1\n",
    "---\n",
    "\n",
    "Filter for all observations where the number of sharks observed was greater than 1"
   ]
  },
  {
   "cell_type": "code",
   "execution_count": null,
   "metadata": {},
   "outputs": [],
   "source": [
    "#Your code here\n",
    "\n"
   ]
  },
  {
   "cell_type": "markdown",
   "metadata": {},
   "source": [
    "#### Other useful things to do in a filter function:"
   ]
  },
  {
   "cell_type": "code",
   "execution_count": null,
   "metadata": {},
   "outputs": [],
   "source": [
    "#Search for rows that are not blank, or not NA\n",
    "filter(observations, comment!=\"\")  \n",
    "filter(observations, is.na(comment)==FALSE)\n",
    "\n",
    "#Search for a string of values  \n",
    "filter(sites, name %in% c('Bimini', 'New Providence'))\n",
    "\n",
    "#Search for rows matching multiple criteria from different columns, criteria can be additive or non-exlusive  \n",
    "#e.g. find species where family is Carcharhinidae AND genus is Carcharhinus  \n",
    "filter(species, family==\"Carcharhinidae\", genus==\"Carcharhinus\")   \n",
    "#e.g. find surveys where depth is less than 5 OR visibility equals 12  \n",
    "filter(surveys, depth<5 | visibility==12)  "
   ]
  },
  {
   "cell_type": "markdown",
   "metadata": {},
   "source": [
    "### Piping   \n",
    "\n",
    "dplyr allows you to use two types of syntax to run functions. You can use wrappping (first function goes on the inside, last one goes on the outside) OR you can use piping, which makes your functions chronological.  Piping is also called chaining.\n",
    "\n",
    "https://www.rdocumentation.org/packages/dplyr/versions/0.4.3/topics/chain"
   ]
  },
  {
   "cell_type": "code",
   "execution_count": null,
   "metadata": {},
   "outputs": [],
   "source": [
    "#Search for all surveys in Bimini, and select only survey number and site number\n",
    "#without piping\n",
    "filter(select(surveys, id, site_id), site_id==2)\n",
    "\n",
    "#with piping\n",
    "surveys %>% select(id, site_id) %>% filter(site_id==2)"
   ]
  },
  {
   "cell_type": "markdown",
   "metadata": {},
   "source": [
    "---\n",
    "## Task 2\n",
    "---\n",
    "\n",
    "Using piping, select species id, survey id and count from the observations table, then filter for all observations where species id is 26 "
   ]
  },
  {
   "cell_type": "code",
   "execution_count": null,
   "metadata": {},
   "outputs": [],
   "source": [
    "#Your code here\n",
    "\n"
   ]
  },
  {
   "cell_type": "markdown",
   "metadata": {},
   "source": [
    "### Arrange\n",
    "\n",
    "The ARRANGE function lets you sort dataframes by a particular column or set of columns"
   ]
  },
  {
   "cell_type": "code",
   "execution_count": null,
   "metadata": {},
   "outputs": [],
   "source": [
    "#arrange species by family then genus\n",
    "species %>% arrange(family, genus)\n",
    "\n",
    "#The default order is ascending. To sort descending, wrap column name with desc() function\n",
    "species %>% arrange(desc(family))"
   ]
  },
  {
   "cell_type": "markdown",
   "metadata": {},
   "source": [
    "### Summarise\n",
    "\n",
    "The summarise function in dplyr is like a pivot table in excel, or like xtab (from Lecture 4).  It allows you to group data in your table and reduce multiple values down to a single value, based on a summary function like maximum value or average. "
   ]
  },
  {
   "cell_type": "code",
   "execution_count": null,
   "metadata": {},
   "outputs": [],
   "source": [
    "# Search for the maximum count value per species\n",
    "observations %>% \n",
    "        group_by(species_id) %>%\n",
    "        summarise(max_count=max(count))"
   ]
  },
  {
   "cell_type": "code",
   "execution_count": null,
   "metadata": {},
   "outputs": [],
   "source": [
    "# Count the number of surveys in each site\n",
    "surveys %>% \n",
    "        group_by(site_id)  %>%\n",
    "        summarise(n_surveys=n())"
   ]
  },
  {
   "cell_type": "markdown",
   "metadata": {},
   "source": [
    "---\n",
    "## Task 3\n",
    "---\n",
    "\n",
    " Use the summarise function to calculate the mean visibility per site, then arrange the table in descending site order.  \n",
    " \n",
    " Tip - use the ?summarise function or google to find how to calculate the mean.   "
   ]
  },
  {
   "cell_type": "code",
   "execution_count": null,
   "metadata": {},
   "outputs": [],
   "source": [
    "#Your code here\n",
    "\n"
   ]
  },
  {
   "cell_type": "markdown",
   "metadata": {
    "collapsed": true
   },
   "source": [
    "### Mutate\n",
    "\n",
    "dplyr allows you to add new columns to an existing table using the mutate function.  \n",
    "\n",
    "things you can do with mutate: https://dplyr.tidyverse.org/reference/mutate.html"
   ]
  },
  {
   "cell_type": "code",
   "execution_count": null,
   "metadata": {},
   "outputs": [],
   "source": [
    "#convert depth values from meters to feet\n",
    "tmp4 <- surveys %>% mutate(depth_ft=depth*3.28)\n",
    "head(tmp4)\n",
    "\n",
    "#add a notes column to the species table\n",
    "tmp5 <- species %>% mutate(notes=\"\")\n",
    "tmp5$notes[tmp5$common_name==\"Tiger shark\"] <- \"This is my favourite shark\"\n",
    "head(tmp5)"
   ]
  },
  {
   "cell_type": "markdown",
   "metadata": {},
   "source": [
    "## Joins\n",
    "\n",
    "Join functions allow you to connect multiple tables based on common variables(columns) so that you can access info from multiple tables at once.  There are (believe it or not) 6 different ways to join tables.  The 2nd page of the R data wrangling cheat sheet has a nice summary.\n",
    "\n",
    "The most useful of these is a **left join**, which takes a table (say table 1), and then adds all matching records from table 2.\n",
    "\n",
    "R will automatically detect which columns two tables have in common IF they are called the same thing. If not, you have to feed the matching columns names into the join function."
   ]
  },
  {
   "cell_type": "code",
   "execution_count": null,
   "metadata": {},
   "outputs": [],
   "source": [
    "#add site names to the survey table\n",
    "ex1 <- left_join(surveys, sites, by=c(\"site_id\"=\"id\")) %>% rename(site_name=name)\n",
    "head(ex1)"
   ]
  },
  {
   "cell_type": "code",
   "execution_count": null,
   "metadata": {},
   "outputs": [],
   "source": [
    "head(surveys)"
   ]
  },
  {
   "cell_type": "markdown",
   "metadata": {
    "collapsed": true
   },
   "source": [
    "### Types of Joins\n",
    "\n",
    "**left join:** resulting table will show all records from table 1 (the left hand table), and matching records from table 2 (the right hand table)  \n",
    "\n",
    "**right join:** result shows all records from table 2, and matching records from table 1\n",
    "\n",
    "**inner join:** result shows only 'matched' records - where there is a matching value in both tables  \n",
    "\n",
    "**full join:** result shows all records from both tables  \n",
    "\n",
    "**anti join:** removes all records from table 1 that have a match in table 2   \n",
    "\n",
    "**semi join:** removes all records from table 2 that have a match in table 1  \n",
    "\n",
    "Anti and Semi joins are especially useful when exploring messy data"
   ]
  },
  {
   "cell_type": "code",
   "execution_count": null,
   "metadata": {},
   "outputs": [],
   "source": [
    "#Use anti join to find unmatched records between the surveys and sites table\n",
    "anti_join(surveys, sites, by=c(\"site_id\"=\"id\"))\n",
    "\n",
    "#these records are returned because there is no site 6 in the sites table"
   ]
  },
  {
   "cell_type": "code",
   "execution_count": null,
   "metadata": {},
   "outputs": [],
   "source": [
    "#Use full join to see all records from both sides, where site id=6\n",
    "#since there is no site 6 in the site table, 'name' comes up as NA\n",
    "\n",
    "full_join(surveys, sites, by=c(\"site_id\"=\"id\")) %>% filter(site_id==6)"
   ]
  },
  {
   "cell_type": "markdown",
   "metadata": {
    "collapsed": true
   },
   "source": [
    "Lots of tables in databases have a column called 'id' or similar in them. So when joining tables together it's useful to be able to rename columns so you remember which data came from which table, or just to avoid having lots of columns called id."
   ]
  },
  {
   "cell_type": "code",
   "execution_count": null,
   "metadata": {},
   "outputs": [],
   "source": [
    "ex2 <- left_join(surveys, sites, by=c(\"site_id\"=\"id\")) %>% rename(site_name=name)\n",
    "head(ex2)"
   ]
  },
  {
   "cell_type": "markdown",
   "metadata": {},
   "source": [
    "---\n",
    "## Task 4\n",
    "---\n",
    "\n",
    "Join the observations and species tables so that each observation is accompanied by the family, genus, species and common name of the shark observed.  Make sure only species that *have* been observed appear in the resulting table. Then rename the 'id' column from the observations table to be 'observation id' instead.  "
   ]
  },
  {
   "cell_type": "code",
   "execution_count": null,
   "metadata": {},
   "outputs": [],
   "source": [
    "# Your code here\n",
    "\n"
   ]
  },
  {
   "cell_type": "markdown",
   "metadata": {},
   "source": [
    "---\n",
    "## Task 5\n",
    "---\n",
    "\n",
    "Create a summary table that shows the total number of sharks observed per site per species.  Make sure to include the genus and species names in the table"
   ]
  },
  {
   "cell_type": "code",
   "execution_count": null,
   "metadata": {},
   "outputs": [],
   "source": [
    "# Your code here\n",
    "\n"
   ]
  },
  {
   "cell_type": "markdown",
   "metadata": {
    "collapsed": true
   },
   "source": [
    "### Additional Resources for dplyr\n",
    "intro to dplyr https://cran.r-project.org/web/packages/dplyr/vignettes/dplyr.html  \n",
    "data wrangling cheatsheet https://www.rstudio.com/wp-content/uploads/2015/02/data-wrangling-cheatsheet.pdf  "
   ]
  },
  {
   "cell_type": "markdown",
   "metadata": {
    "collapsed": true
   },
   "source": [
    "## Tidyr  (if there's time)\n",
    "\n",
    "Tidyr is another R package that is part of the tidyverse.  It has a few functions that are useful for re-arranging datasets, either to summarise data or just to make tables easier to read."
   ]
  },
  {
   "cell_type": "code",
   "execution_count": null,
   "metadata": {},
   "outputs": [],
   "source": [
    "library(tidyr)"
   ]
  },
  {
   "cell_type": "markdown",
   "metadata": {
    "collapsed": true
   },
   "source": [
    "### Spread\n",
    "\n",
    "Spread takes rows from a given column and re-organises them into columns, then fills in the corresponding records with a value of your choice (based on another existing column)"
   ]
  },
  {
   "cell_type": "code",
   "execution_count": null,
   "metadata": {},
   "outputs": [],
   "source": [
    "#make each species name a column heading, and fill in species count as the value under each column\n",
    "#first make a table with observations and species names in it\n",
    "ex3 <- left_join(observations, species, by=c(\"species_id\"=\"id\")) %>% select(survey_id, count, common_name)\n",
    "ex4 <- spread(ex3, common_name, count)\n",
    "head(ex4)"
   ]
  },
  {
   "cell_type": "markdown",
   "metadata": {
    "collapsed": true
   },
   "source": [
    "### Gather\n",
    "\n",
    "Gather takes columns and re-organises them into rows"
   ]
  },
  {
   "cell_type": "code",
   "execution_count": null,
   "metadata": {},
   "outputs": [],
   "source": [
    "#take the spread table we just made, and transform it back so each row is a species with a count per survey\n",
    "#gather(table name, name of new column, name of second new column, range of columns to transform)\n",
    "gather(ex4, common_name, count, 2:14)[1:10,]\n",
    "\n",
    "#notice that gather will not automatically filter out empty values, you have to do this yourself"
   ]
  },
  {
   "cell_type": "markdown",
   "metadata": {
    "collapsed": true
   },
   "source": [
    "# What have you learned and what's next?\n",
    "\n",
    "The point of today's lab was to learn a few key aspects of R objects so we can wrangle them\n",
    "\n",
    "**You should at this point be comfortable:**\n",
    " 1. What is a database\n",
    " 2. The best R package ever\n",
    " 3. Arranging, summarizing, and mutating data\n",
    " 4. How to join in various ways\n",
    " 5. A couple of tidyr things\n",
    "\n",
    "Next week we will start talking about time and how to cut it up and process it.\n",
    "\n",
    "\n",
    "---\n",
    "# ** A bientôt ** !"
   ]
  },
  {
   "cell_type": "code",
   "execution_count": null,
   "metadata": {},
   "outputs": [],
   "source": []
  }
 ],
 "metadata": {
  "kernelspec": {
   "display_name": "R",
   "language": "R",
   "name": "ir"
  },
  "language_info": {
   "codemirror_mode": "r",
   "file_extension": ".r",
   "mimetype": "text/x-r-source",
   "name": "R",
   "pygments_lexer": "r",
   "version": "3.4.4"
  }
 },
 "nbformat": 4,
 "nbformat_minor": 2
}
